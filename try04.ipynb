{
 "cells": [
  {
   "cell_type": "code",
   "execution_count": 1,
   "id": "189074a7",
   "metadata": {},
   "outputs": [],
   "source": [
    "import pandas as pd"
   ]
  },
  {
   "cell_type": "code",
   "execution_count": 2,
   "id": "8e21ab29",
   "metadata": {},
   "outputs": [],
   "source": [
    "train = pd.read_csv('data/train.csv', index_col='ID')\n",
    "test = pd.read_csv('data/test.csv', index_col='ID')"
   ]
  },
  {
   "cell_type": "code",
   "execution_count": 3,
   "id": "18c165ed",
   "metadata": {},
   "outputs": [
    {
     "data": {
      "text/plain": [
       "ID\n",
       "0               9 Crumlin Way\n",
       "1    37 Sissinghurst Crescent\n",
       "2               24 Tees Court\n",
       "3          31 Brentham Street\n",
       "4        46/1 Corkhill Street\n",
       "Name: ADDRESS, dtype: object"
      ]
     },
     "execution_count": 3,
     "metadata": {},
     "output_type": "execute_result"
    }
   ],
   "source": [
    "train['ADDRESS'].head()"
   ]
  },
  {
   "cell_type": "code",
   "execution_count": 4,
   "id": "ff81625d",
   "metadata": {},
   "outputs": [],
   "source": [
    "def change_address(ad):\n",
    "    li_ad = ad.split()\n",
    "    return (li_ad[-1]).upper()"
   ]
  },
  {
   "cell_type": "code",
   "execution_count": 5,
   "id": "f1b2457d",
   "metadata": {},
   "outputs": [],
   "source": [
    "train['ADDR_CHANGED'] = train['ADDRESS'].apply(change_address)\n",
    "test['ADDR_CHANGED'] = test['ADDRESS'].apply(change_address)"
   ]
  },
  {
   "cell_type": "code",
   "execution_count": 6,
   "id": "bf4fb55f",
   "metadata": {},
   "outputs": [
    {
     "data": {
      "text/plain": [
       "0"
      ]
     },
     "execution_count": 6,
     "metadata": {},
     "output_type": "execute_result"
    }
   ],
   "source": [
    "test['ADDR_CHANGED'].isnull().sum()"
   ]
  },
  {
   "cell_type": "code",
   "execution_count": 7,
   "id": "755293d3",
   "metadata": {},
   "outputs": [],
   "source": [
    "train.drop('ADDRESS', axis=1, inplace=True)\n",
    "test.drop('ADDRESS', axis=1, inplace=True)"
   ]
  },
  {
   "cell_type": "code",
   "execution_count": 8,
   "id": "aff74d9a",
   "metadata": {},
   "outputs": [
    {
     "data": {
      "text/plain": [
       "95"
      ]
     },
     "execution_count": 8,
     "metadata": {},
     "output_type": "execute_result"
    }
   ],
   "source": [
    "len(train['ADDR_CHANGED'].unique())"
   ]
  },
  {
   "cell_type": "code",
   "execution_count": 9,
   "id": "b9ed5cfd",
   "metadata": {},
   "outputs": [
    {
     "data": {
      "text/plain": [
       "96"
      ]
     },
     "execution_count": 9,
     "metadata": {},
     "output_type": "execute_result"
    }
   ],
   "source": [
    "len(test['ADDR_CHANGED'].unique())"
   ]
  },
  {
   "cell_type": "code",
   "execution_count": 10,
   "id": "756d03d6",
   "metadata": {},
   "outputs": [
    {
     "data": {
      "text/plain": [
       "{'ANCHORAGE',\n",
       " 'CEDUS',\n",
       " 'CUTTING',\n",
       " 'EYRIE',\n",
       " 'GAP',\n",
       " 'GETAWAY',\n",
       " 'LANTERNS',\n",
       " 'MALL',\n",
       " 'OUTLOOK',\n",
       " 'PINNACLE',\n",
       " 'REST',\n",
       " 'RIDGEWAY'}"
      ]
     },
     "execution_count": 10,
     "metadata": {},
     "output_type": "execute_result"
    }
   ],
   "source": [
    "set(train['ADDR_CHANGED'].unique()) - set(test['ADDR_CHANGED'].unique())"
   ]
  },
  {
   "cell_type": "code",
   "execution_count": 11,
   "id": "14feb0d1",
   "metadata": {},
   "outputs": [
    {
     "data": {
      "text/plain": [
       "{'BROADWATER',\n",
       " 'CROSSWAY',\n",
       " 'GLENWAY',\n",
       " 'LAXTON',\n",
       " 'LINKS',\n",
       " 'RETURN',\n",
       " 'RIVERWALK',\n",
       " 'RIVERWAY',\n",
       " 'SPIT',\n",
       " 'TAFFRAIL',\n",
       " 'TIMBERTOP',\n",
       " 'TOP',\n",
       " 'VIEWWAY'}"
      ]
     },
     "execution_count": 11,
     "metadata": {},
     "output_type": "execute_result"
    }
   ],
   "source": [
    "set(test['ADDR_CHANGED'].unique()) - set(train['ADDR_CHANGED'].unique())"
   ]
  },
  {
   "cell_type": "code",
   "execution_count": 12,
   "id": "7cd952dd",
   "metadata": {},
   "outputs": [],
   "source": [
    "q = train['ADDR_CHANGED'].value_counts()"
   ]
  },
  {
   "cell_type": "code",
   "execution_count": 13,
   "id": "4bef44cd",
   "metadata": {},
   "outputs": [
    {
     "name": "stdout",
     "output_type": "stream",
     "text": [
      "STREET 3740\n",
      "ROAD 3129\n",
      "WAY 1881\n",
      "AVENUE 1394\n",
      "DRIVE 1244\n",
      "PLACE 977\n",
      "COURT 898\n",
      "CRESCENT 766\n",
      "LOOP 481\n",
      "CLOSE 424\n",
      "PARADE 284\n",
      "BOULEVARD 267\n",
      "TERRACE 226\n",
      "LANE 202\n",
      "MEWS 191\n",
      "RISE 184\n",
      "CIRCLE 174\n",
      "CIRCUIT 174\n",
      "GROVE 158\n",
      "GARDENS 157\n",
      "TURN 153\n",
      "BEND 125\n",
      "PASS 96\n",
      "LINK 92\n",
      "RETREAT 81\n",
      "ENTRANCE 78\n",
      "HIGHWAY 78\n",
      "PROMENADE 67\n",
      "PARKWAY 57\n",
      "COVE 56\n",
      "APPROACH 52\n",
      "HEIGHTS 51\n",
      "VISTA 48\n",
      "VIEW 42\n",
      "ELBOW 39\n",
      "GREEN 34\n",
      "MEANDER 33\n",
      "GLEN 32\n",
      "CHASE 28\n",
      "RIDGE 26\n",
      "CORNER 23\n",
      "CROSS 21\n",
      "RAMBLE 20\n",
      "FAIRWAY 16\n",
      "SQUARE 16\n",
      "GLADE 15\n",
      "CIRCUS 13\n",
      "TRAIL 10\n",
      "LOOKOUT 10\n",
      "VALE 9\n",
      "FAIRWAYS 9\n",
      "CREST 9\n",
      "KINGSWAY 9\n",
      "ESPLANADE 9\n",
      "GATE 8\n",
      "TOR 7\n",
      "GRANGE 7\n",
      "EMBANKMENT 6\n",
      "DALE 6\n",
      "BRACE 5\n",
      "BROADWAY 5\n",
      "WALK 4\n",
      "CONCOURSE 4\n",
      "ROW 4\n",
      "HILL 3\n",
      "EDGE 3\n",
      "BOARDWALK 2\n",
      "EYRIE 2\n",
      "ARCADE 2\n",
      "MEAD 2\n",
      "FOLLOW 2\n",
      "HORSESHOE 2\n",
      "BROADVIEW 2\n",
      "OUTLOOK 2\n",
      "BOULEVARDE 2\n",
      "MALL 2\n",
      "CUTTING 2\n",
      "BYPASS 1\n",
      "REST 1\n",
      "STRAND 1\n",
      "CEDUS 1\n",
      "PLAZA 1\n",
      "CROSSING 1\n",
      "ALLEY 1\n",
      "HILLWAY 1\n",
      "END 1\n",
      "KEY 1\n",
      "ANCHORAGE 1\n",
      "OAKS 1\n",
      "LANTERNS 1\n",
      "GETAWAY 1\n",
      "RIDGEWAY 1\n",
      "PINNACLE 1\n",
      "OVAL 1\n",
      "GAP 1\n"
     ]
    }
   ],
   "source": [
    "for i in range(len(q)):\n",
    "    print(q.index[i], q.values[i])"
   ]
  },
  {
   "cell_type": "code",
   "execution_count": 14,
   "id": "fece0308",
   "metadata": {},
   "outputs": [],
   "source": [
    "p = test['ADDR_CHANGED'].value_counts()"
   ]
  },
  {
   "cell_type": "code",
   "execution_count": 15,
   "id": "9a6f6836",
   "metadata": {},
   "outputs": [
    {
     "name": "stdout",
     "output_type": "stream",
     "text": [
      "STREET 3151\n",
      "ROAD 2508\n",
      "WAY 1549\n",
      "AVENUE 1142\n",
      "DRIVE 1009\n",
      "PLACE 792\n",
      "COURT 749\n",
      "CRESCENT 639\n",
      "LOOP 380\n",
      "CLOSE 373\n",
      "BOULEVARD 238\n",
      "TERRACE 203\n",
      "PARADE 197\n",
      "LANE 161\n",
      "CIRCLE 149\n",
      "RISE 140\n",
      "MEWS 136\n",
      "CIRCUIT 133\n",
      "GARDENS 127\n",
      "GROVE 126\n",
      "TURN 123\n",
      "PASS 91\n",
      "BEND 83\n",
      "HIGHWAY 66\n",
      "LINK 62\n",
      "RETREAT 57\n",
      "APPROACH 54\n",
      "VISTA 53\n",
      "ENTRANCE 51\n",
      "COVE 50\n",
      "ELBOW 50\n",
      "PROMENADE 42\n",
      "HEIGHTS 41\n",
      "PARKWAY 41\n",
      "VIEW 39\n",
      "RAMBLE 29\n",
      "GREEN 29\n",
      "CHASE 28\n",
      "CORNER 21\n",
      "MEANDER 19\n",
      "CROSS 16\n",
      "GLEN 16\n",
      "SQUARE 14\n",
      "GATE 11\n",
      "FAIRWAYS 10\n",
      "FAIRWAY 10\n",
      "RIDGE 9\n",
      "CIRCUS 9\n",
      "GLADE 8\n",
      "VALE 7\n",
      "GRANGE 7\n",
      "TRAIL 7\n",
      "CREST 6\n",
      "BRACE 6\n",
      "ESPLANADE 5\n",
      "CONCOURSE 4\n",
      "EDGE 4\n",
      "ROW 3\n",
      "BROADWAY 3\n",
      "BOULEVARDE 3\n",
      "DALE 3\n",
      "RIVERWALK 3\n",
      "KINGSWAY 3\n",
      "LOOKOUT 3\n",
      "WALK 2\n",
      "FOLLOW 2\n",
      "BYPASS 2\n",
      "MEAD 2\n",
      "BOARDWALK 2\n",
      "HILLWAY 2\n",
      "LINKS 2\n",
      "EMBANKMENT 2\n",
      "CROSSING 2\n",
      "TOR 2\n",
      "OVAL 2\n",
      "HILL 2\n",
      "STRAND 2\n",
      "PLAZA 1\n",
      "TAFFRAIL 1\n",
      "BROADVIEW 1\n",
      "LAXTON 1\n",
      "KEY 1\n",
      "TOP 1\n",
      "SPIT 1\n",
      "HORSESHOE 1\n",
      "ARCADE 1\n",
      "GLENWAY 1\n",
      "RIVERWAY 1\n",
      "BROADWATER 1\n",
      "OAKS 1\n",
      "ALLEY 1\n",
      "RETURN 1\n",
      "CROSSWAY 1\n",
      "END 1\n",
      "TIMBERTOP 1\n",
      "VIEWWAY 1\n"
     ]
    }
   ],
   "source": [
    "for i in range(len(p)):\n",
    "    print(p.index[i], p.values[i])"
   ]
  },
  {
   "cell_type": "code",
   "execution_count": 16,
   "id": "f64df2b1",
   "metadata": {},
   "outputs": [
    {
     "name": "stdout",
     "output_type": "stream",
     "text": [
      "'STREET':\n",
      "'ROAD':\n",
      "'WAY':\n",
      "'AVENUE':\n",
      "'DRIVE':\n",
      "'PLACE':\n",
      "'COURT':\n",
      "'CRESCENT':\n",
      "'LOOP':\n",
      "'CLOSE':\n",
      "'PARADE':\n",
      "'BOULEVARD':\n",
      "'TERRACE':\n",
      "'LANE':\n",
      "'MEWS':\n",
      "'RISE':\n",
      "'CIRCLE':\n",
      "'CIRCUIT':\n",
      "'GROVE':\n",
      "'GARDENS':\n",
      "'TURN':\n",
      "'BEND':\n",
      "'PASS':\n",
      "'LINK':\n",
      "'RETREAT':\n",
      "'ENTRANCE':\n",
      "'HIGHWAY':\n",
      "'PROMENADE':\n",
      "'PARKWAY':\n",
      "'COVE':\n",
      "'APPROACH':\n",
      "'HEIGHTS':\n",
      "'VISTA':\n",
      "'VIEW':\n",
      "'ELBOW':\n",
      "'GREEN':\n",
      "'MEANDER':\n",
      "'GLEN':\n",
      "'CHASE':\n",
      "'RIDGE':\n",
      "'CORNER':\n",
      "'CROSS':\n",
      "'RAMBLE':\n",
      "'FAIRWAY':\n",
      "'SQUARE':\n",
      "'GLADE':\n",
      "'CIRCUS':\n",
      "'TRAIL':\n",
      "'LOOKOUT':\n",
      "'VALE':\n",
      "'FAIRWAYS':\n",
      "'CREST':\n",
      "'KINGSWAY':\n",
      "'ESPLANADE':\n",
      "'GATE':\n",
      "'TOR':\n",
      "'GRANGE':\n",
      "'EMBANKMENT':\n",
      "'DALE':\n",
      "'BRACE':\n",
      "'BROADWAY':\n",
      "'WALK':\n",
      "'CONCOURSE':\n",
      "'ROW':\n",
      "'HILL':\n",
      "'EDGE':\n",
      "'BOARDWALK':\n",
      "'EYRIE':\n",
      "'ARCADE':\n",
      "'MEAD':\n",
      "'FOLLOW':\n",
      "'HORSESHOE':\n",
      "'BROADVIEW':\n",
      "'OUTLOOK':\n",
      "'BOULEVARDE':\n",
      "'MALL':\n",
      "'CUTTING':\n",
      "'BYPASS':\n",
      "'REST':\n",
      "'STRAND':\n",
      "'CEDUS':\n",
      "'PLAZA':\n",
      "'CROSSING':\n",
      "'ALLEY':\n",
      "'HILLWAY':\n",
      "'END':\n",
      "'KEY':\n",
      "'ANCHORAGE':\n",
      "'OAKS':\n",
      "'LANTERNS':\n",
      "'GETAWAY':\n",
      "'RIDGEWAY':\n",
      "'PINNACLE':\n",
      "'OVAL':\n",
      "'GAP':\n"
     ]
    }
   ],
   "source": [
    "for i in range(len(q)):\n",
    "    print(f\"\\'{q.index[i]}\\':\")"
   ]
  },
  {
   "cell_type": "code",
   "execution_count": 17,
   "id": "4750b89b",
   "metadata": {},
   "outputs": [],
   "source": [
    "dict_addr = {\n",
    "    'STREET':1,\n",
    "    'ROAD':2,\n",
    "    'WAY':3,\n",
    "    'AVENUE':4,\n",
    "    'DRIVE':4,\n",
    "    'PLACE':5,\n",
    "    'COURT':5,\n",
    "    'CRESCENT':5,\n",
    "    'LOOP':6,\n",
    "    'CLOSE':6,\n",
    "    'PARADE':7,\n",
    "    'BOULEVARD':7,\n",
    "    'TERRACE':8,\n",
    "    'LANE':8,\n",
    "    'MEWS':8,\n",
    "    'RISE':8,\n",
    "    'CIRCLE':8,\n",
    "    'CIRCUIT':8,\n",
    "    'GROVE':9,\n",
    "    'GARDENS':9,\n",
    "    'TURN':9,\n",
    "    'BEND':10,\n",
    "    'PASS':11,\n",
    "    'LINK':11,\n",
    "    'RETREAT':12,\n",
    "    'ENTRANCE':12,\n",
    "    'HIGHWAY':12,\n",
    "    'PROMENADE':13,\n",
    "    'PARKWAY':13,\n",
    "    'COVE':13,\n",
    "    'APPROACH':13,\n",
    "    'HEIGHTS':13,\n",
    "    'VISTA':13,\n",
    "    'VIEW':14,\n",
    "    'ELBOW':14,\n",
    "    'GREEN':14,\n",
    "    'MEANDER':14,\n",
    "    'GLEN':14,\n",
    "    'CHASE':14,\n",
    "    'RIDGE':14,\n",
    "    'CORNER':14,\n",
    "    'CROSS':14,\n",
    "    'RAMBLE':14,\n",
    "    'FAIRWAY':15,\n",
    "    'SQUARE':15,\n",
    "    'GLADE':15,\n",
    "    'CIRCUS':15,\n",
    "    'TRAIL':15,\n",
    "    'LOOKOUT':15,\n",
    "    'VALE':15,\n",
    "    'FAIRWAYS':15,\n",
    "    'CREST':15,\n",
    "    'KINGSWAY':15,\n",
    "    'ESPLANADE':15,\n",
    "    'GATE':15,\n",
    "    'TOR':15,\n",
    "    'GRANGE':15,\n",
    "    'EMBANKMENT':15,\n",
    "    'DALE':15,\n",
    "    'BRACE':15,\n",
    "    'BROADWAY':15,\n",
    "    'WALK':15,\n",
    "    'CONCOURSE':15,\n",
    "    'ROW':15,\n",
    "    'HILL':15,\n",
    "    'EDGE':15,\n",
    "    'BOARDWALK':15,\n",
    "    'EYRIE':15,\n",
    "    'ARCADE':15,\n",
    "    'MEAD':15,\n",
    "    'FOLLOW':15,\n",
    "    'HORSESHOE':15,\n",
    "    'BROADVIEW':15,\n",
    "    'OUTLOOK':15,\n",
    "    'BOULEVARDE':15,\n",
    "    'MALL':15,\n",
    "    'CUTTING':15,\n",
    "    'BYPASS':15,\n",
    "    'REST':15,\n",
    "    'STRAND':15,\n",
    "    'CEDUS':15,\n",
    "    'PLAZA':15,\n",
    "    'CROSSING':15,\n",
    "    'ALLEY':15,\n",
    "    'HILLWAY':15,\n",
    "    'END':15,\n",
    "    'KEY':15,\n",
    "    'ANCHORAGE':15,\n",
    "    'OAKS':15,\n",
    "    'LANTERNS':15,\n",
    "    'GETAWAY':15,\n",
    "    'RIDGEWAY':15,\n",
    "    'PINNACLE':15,\n",
    "    'OVAL':15,\n",
    "    'GAP':15,\n",
    "    'BROADWATER':15,\n",
    "    'CROSSWAY':15,\n",
    "    'GLENWAY':15,\n",
    "    'LAXTON':15,\n",
    "    'LINKS':15,\n",
    "    'RETURN':15,\n",
    "    'RIVERWALK':15,\n",
    "    'RIVERWAY':15,\n",
    "    'SPIT':15,\n",
    "    'TAFFRAIL':15,\n",
    "    'TIMBERTOP':15,\n",
    "    'TOP':15,\n",
    "    'VIEWWAY':15\n",
    "}"
   ]
  },
  {
   "cell_type": "code",
   "execution_count": 18,
   "id": "637967fc",
   "metadata": {},
   "outputs": [],
   "source": [
    "train['ADDR_CHANGED'] = train['ADDR_CHANGED'].map(dict_addr)\n",
    "test['ADDR_CHANGED'] = test['ADDR_CHANGED'].map(dict_addr)"
   ]
  },
  {
   "cell_type": "code",
   "execution_count": 19,
   "id": "8a61abe5",
   "metadata": {},
   "outputs": [
    {
     "data": {
      "text/plain": [
       "set()"
      ]
     },
     "execution_count": 19,
     "metadata": {},
     "output_type": "execute_result"
    }
   ],
   "source": [
    "set(test['ADDR_CHANGED'].unique()) - set(train['ADDR_CHANGED'].unique())"
   ]
  },
  {
   "cell_type": "code",
   "execution_count": 20,
   "id": "20948959",
   "metadata": {},
   "outputs": [
    {
     "data": {
      "text/plain": [
       "PRICE               1.000000\n",
       "FLOOR_AREA          0.539524\n",
       "NEAREST_SCH_RANK    0.453937\n",
       "BATHROOMS           0.386485\n",
       "CBD_DIST            0.357368\n",
       "BEDROOMS            0.256909\n",
       "LONGITUDE           0.183514\n",
       "POSTCODE            0.162925\n",
       "BUILD_YEAR          0.148771\n",
       "GARAGE              0.124276\n",
       "ADDR_CHANGED        0.111505\n",
       "NEAREST_STN_DIST    0.099370\n",
       "LAND_AREA           0.046778\n",
       "LATITUDE            0.046722\n",
       "NEAREST_SCH_DIST    0.024030\n",
       "Name: PRICE, dtype: float64"
      ]
     },
     "execution_count": 20,
     "metadata": {},
     "output_type": "execute_result"
    }
   ],
   "source": [
    "train.corr()['PRICE'].abs().sort_values(ascending=False)"
   ]
  },
  {
   "cell_type": "code",
   "execution_count": 21,
   "id": "ac838ce1",
   "metadata": {},
   "outputs": [
    {
     "data": {
      "text/html": [
       "<div>\n",
       "<style scoped>\n",
       "    .dataframe tbody tr th:only-of-type {\n",
       "        vertical-align: middle;\n",
       "    }\n",
       "\n",
       "    .dataframe tbody tr th {\n",
       "        vertical-align: top;\n",
       "    }\n",
       "\n",
       "    .dataframe thead th {\n",
       "        text-align: right;\n",
       "    }\n",
       "</style>\n",
       "<table border=\"1\" class=\"dataframe\">\n",
       "  <thead>\n",
       "    <tr style=\"text-align: right;\">\n",
       "      <th></th>\n",
       "      <th>SUBURB</th>\n",
       "      <th>PRICE</th>\n",
       "      <th>BEDROOMS</th>\n",
       "      <th>BATHROOMS</th>\n",
       "      <th>GARAGE</th>\n",
       "      <th>LAND_AREA</th>\n",
       "      <th>FLOOR_AREA</th>\n",
       "      <th>BUILD_YEAR</th>\n",
       "      <th>CBD_DIST</th>\n",
       "      <th>NEAREST_STN</th>\n",
       "      <th>NEAREST_STN_DIST</th>\n",
       "      <th>DATE_SOLD</th>\n",
       "      <th>POSTCODE</th>\n",
       "      <th>LATITUDE</th>\n",
       "      <th>LONGITUDE</th>\n",
       "      <th>NEAREST_SCH</th>\n",
       "      <th>NEAREST_SCH_DIST</th>\n",
       "      <th>NEAREST_SCH_RANK</th>\n",
       "      <th>ADDR_CHANGED</th>\n",
       "    </tr>\n",
       "    <tr>\n",
       "      <th>ID</th>\n",
       "      <th></th>\n",
       "      <th></th>\n",
       "      <th></th>\n",
       "      <th></th>\n",
       "      <th></th>\n",
       "      <th></th>\n",
       "      <th></th>\n",
       "      <th></th>\n",
       "      <th></th>\n",
       "      <th></th>\n",
       "      <th></th>\n",
       "      <th></th>\n",
       "      <th></th>\n",
       "      <th></th>\n",
       "      <th></th>\n",
       "      <th></th>\n",
       "      <th></th>\n",
       "      <th></th>\n",
       "      <th></th>\n",
       "    </tr>\n",
       "  </thead>\n",
       "  <tbody>\n",
       "    <tr>\n",
       "      <th>0</th>\n",
       "      <td>Ridgewood</td>\n",
       "      <td>520000</td>\n",
       "      <td>5</td>\n",
       "      <td>2</td>\n",
       "      <td>4.0</td>\n",
       "      <td>674</td>\n",
       "      <td>266</td>\n",
       "      <td>2007.0</td>\n",
       "      <td>35500</td>\n",
       "      <td>Butler Station</td>\n",
       "      <td>3000</td>\n",
       "      <td>09-2015\\r</td>\n",
       "      <td>6030</td>\n",
       "      <td>-31.656206</td>\n",
       "      <td>115.720566</td>\n",
       "      <td>IRENE MCCORMACK CATHOLIC COLLEGE</td>\n",
       "      <td>1.079230</td>\n",
       "      <td>120.0</td>\n",
       "      <td>3</td>\n",
       "    </tr>\n",
       "    <tr>\n",
       "      <th>1</th>\n",
       "      <td>Landsdale</td>\n",
       "      <td>575000</td>\n",
       "      <td>5</td>\n",
       "      <td>4</td>\n",
       "      <td>2.0</td>\n",
       "      <td>540</td>\n",
       "      <td>301</td>\n",
       "      <td>2014.0</td>\n",
       "      <td>16900</td>\n",
       "      <td>Whitfords Station</td>\n",
       "      <td>8100</td>\n",
       "      <td>07-2018\\r</td>\n",
       "      <td>6065</td>\n",
       "      <td>-31.800802</td>\n",
       "      <td>115.867675</td>\n",
       "      <td>LANDSDALE CHRISTIAN SCHOOL</td>\n",
       "      <td>0.667585</td>\n",
       "      <td>NaN</td>\n",
       "      <td>5</td>\n",
       "    </tr>\n",
       "    <tr>\n",
       "      <th>2</th>\n",
       "      <td>Mindarie</td>\n",
       "      <td>760000</td>\n",
       "      <td>4</td>\n",
       "      <td>2</td>\n",
       "      <td>2.0</td>\n",
       "      <td>781</td>\n",
       "      <td>220</td>\n",
       "      <td>1992.0</td>\n",
       "      <td>33500</td>\n",
       "      <td>Clarkson Station</td>\n",
       "      <td>3500</td>\n",
       "      <td>02-2020\\r</td>\n",
       "      <td>6030</td>\n",
       "      <td>-31.682040</td>\n",
       "      <td>115.702600</td>\n",
       "      <td>MINDARIE SENIOR COLLEGE</td>\n",
       "      <td>0.650761</td>\n",
       "      <td>111.0</td>\n",
       "      <td>5</td>\n",
       "    </tr>\n",
       "  </tbody>\n",
       "</table>\n",
       "</div>"
      ],
      "text/plain": [
       "       SUBURB   PRICE  BEDROOMS  BATHROOMS  GARAGE  LAND_AREA  FLOOR_AREA  \\\n",
       "ID                                                                          \n",
       "0   Ridgewood  520000         5          2     4.0        674         266   \n",
       "1   Landsdale  575000         5          4     2.0        540         301   \n",
       "2    Mindarie  760000         4          2     2.0        781         220   \n",
       "\n",
       "    BUILD_YEAR  CBD_DIST        NEAREST_STN  NEAREST_STN_DIST  DATE_SOLD  \\\n",
       "ID                                                                         \n",
       "0       2007.0     35500     Butler Station              3000  09-2015\\r   \n",
       "1       2014.0     16900  Whitfords Station              8100  07-2018\\r   \n",
       "2       1992.0     33500   Clarkson Station              3500  02-2020\\r   \n",
       "\n",
       "    POSTCODE   LATITUDE   LONGITUDE                       NEAREST_SCH  \\\n",
       "ID                                                                      \n",
       "0       6030 -31.656206  115.720566  IRENE MCCORMACK CATHOLIC COLLEGE   \n",
       "1       6065 -31.800802  115.867675        LANDSDALE CHRISTIAN SCHOOL   \n",
       "2       6030 -31.682040  115.702600           MINDARIE SENIOR COLLEGE   \n",
       "\n",
       "    NEAREST_SCH_DIST  NEAREST_SCH_RANK  ADDR_CHANGED  \n",
       "ID                                                    \n",
       "0           1.079230             120.0             3  \n",
       "1           0.667585               NaN             5  \n",
       "2           0.650761             111.0             5  "
      ]
     },
     "execution_count": 21,
     "metadata": {},
     "output_type": "execute_result"
    }
   ],
   "source": [
    "train.head(3)"
   ]
  },
  {
   "cell_type": "code",
   "execution_count": 22,
   "id": "44e2b521",
   "metadata": {
    "scrolled": true
   },
   "outputs": [],
   "source": [
    "sub_sortby_price = train[['SUBURB', 'PRICE']].groupby(by='SUBURB').mean().sort_values('PRICE', ascending=False)\n",
    "\n",
    "sub_cols = sub_sortby_price.index\n",
    "\n",
    "sub_dict = {}\n",
    "for i, col in enumerate(sub_cols):\n",
    "    sub_dict[col] = i\n",
    "    \n",
    "train['SUBURB'] = train['SUBURB'].map(sub_dict)\n",
    "test['SUBURB'] = test['SUBURB'].map(sub_dict)"
   ]
  },
  {
   "cell_type": "code",
   "execution_count": 23,
   "id": "48316a50",
   "metadata": {},
   "outputs": [
    {
     "data": {
      "text/plain": [
       "PRICE               1.000000\n",
       "SUBURB              0.728402\n",
       "FLOOR_AREA          0.539524\n",
       "NEAREST_SCH_RANK    0.453937\n",
       "BATHROOMS           0.386485\n",
       "CBD_DIST            0.357368\n",
       "BEDROOMS            0.256909\n",
       "LONGITUDE           0.183514\n",
       "POSTCODE            0.162925\n",
       "BUILD_YEAR          0.148771\n",
       "GARAGE              0.124276\n",
       "ADDR_CHANGED        0.111505\n",
       "NEAREST_STN_DIST    0.099370\n",
       "LAND_AREA           0.046778\n",
       "LATITUDE            0.046722\n",
       "NEAREST_SCH_DIST    0.024030\n",
       "Name: PRICE, dtype: float64"
      ]
     },
     "execution_count": 23,
     "metadata": {},
     "output_type": "execute_result"
    }
   ],
   "source": [
    "train.corr()['PRICE'].abs().sort_values(ascending=False)"
   ]
  },
  {
   "cell_type": "code",
   "execution_count": 24,
   "id": "6dd4288f",
   "metadata": {},
   "outputs": [],
   "source": [
    "stn_sortby_price = train[['NEAREST_STN', 'PRICE']].groupby(by='NEAREST_STN').mean().sort_values('PRICE', ascending=False)\n",
    "\n",
    "stn_cols = stn_sortby_price.index\n",
    "\n",
    "stn_dict = {}\n",
    "for i, col in enumerate(stn_cols):\n",
    "    sub_dict[col] = i\n",
    "    \n",
    "train['NEAREST_STN'] = train['NEAREST_STN'].map(sub_dict)\n",
    "test['NEAREST_STN'] = test['NEAREST_STN'].map(sub_dict)"
   ]
  },
  {
   "cell_type": "code",
   "execution_count": 25,
   "id": "9a83138b",
   "metadata": {},
   "outputs": [
    {
     "data": {
      "text/plain": [
       "PRICE               1.000000\n",
       "SUBURB              0.728402\n",
       "NEAREST_STN         0.581309\n",
       "FLOOR_AREA          0.539524\n",
       "NEAREST_SCH_RANK    0.453937\n",
       "BATHROOMS           0.386485\n",
       "CBD_DIST            0.357368\n",
       "BEDROOMS            0.256909\n",
       "LONGITUDE           0.183514\n",
       "POSTCODE            0.162925\n",
       "BUILD_YEAR          0.148771\n",
       "GARAGE              0.124276\n",
       "ADDR_CHANGED        0.111505\n",
       "NEAREST_STN_DIST    0.099370\n",
       "LAND_AREA           0.046778\n",
       "LATITUDE            0.046722\n",
       "NEAREST_SCH_DIST    0.024030\n",
       "Name: PRICE, dtype: float64"
      ]
     },
     "execution_count": 25,
     "metadata": {},
     "output_type": "execute_result"
    }
   ],
   "source": [
    "train.corr()['PRICE'].abs().sort_values(ascending=False)"
   ]
  },
  {
   "cell_type": "code",
   "execution_count": 26,
   "id": "25656e69",
   "metadata": {},
   "outputs": [],
   "source": [
    "test['SUBURB'] = test['SUBURB'].fillna(train['SUBURB'].mean())"
   ]
  },
  {
   "cell_type": "code",
   "execution_count": 27,
   "id": "13af2b61",
   "metadata": {
    "scrolled": true
   },
   "outputs": [
    {
     "data": {
      "text/plain": [
       "ID\n",
       "0    09-2015\\r\n",
       "1    07-2018\\r\n",
       "2    02-2020\\r\n",
       "3    07-2020\\r\n",
       "4    10-2017\\r\n",
       "Name: DATE_SOLD, dtype: object"
      ]
     },
     "execution_count": 27,
     "metadata": {},
     "output_type": "execute_result"
    }
   ],
   "source": [
    "train['DATE_SOLD'].head()"
   ]
  },
  {
   "cell_type": "code",
   "execution_count": 28,
   "id": "efbed0bf",
   "metadata": {},
   "outputs": [
    {
     "data": {
      "text/plain": [
       "'2015'"
      ]
     },
     "execution_count": 28,
     "metadata": {},
     "output_type": "execute_result"
    }
   ],
   "source": [
    "train['DATE_SOLD'][0][:2]\n",
    "train['DATE_SOLD'][0][3:-1]"
   ]
  },
  {
   "cell_type": "code",
   "execution_count": 29,
   "id": "3c3ff4f1",
   "metadata": {},
   "outputs": [],
   "source": [
    "def month_sold(date):\n",
    "    return int(date[:2])\n",
    "\n",
    "def year_sold(date):\n",
    "    return int(date[3:-1])"
   ]
  },
  {
   "cell_type": "code",
   "execution_count": 30,
   "id": "0cabbd54",
   "metadata": {},
   "outputs": [],
   "source": [
    "train['MONTH_SOLD'] = train['DATE_SOLD'].apply(month_sold)\n",
    "train['YEAR_SOLD'] = train['DATE_SOLD'].apply(year_sold)"
   ]
  },
  {
   "cell_type": "code",
   "execution_count": 31,
   "id": "fff64200",
   "metadata": {},
   "outputs": [],
   "source": [
    "test['MONTH_SOLD'] = test['DATE_SOLD'].apply(month_sold)\n",
    "test['YEAR_SOLD'] = test['DATE_SOLD'].apply(year_sold)"
   ]
  },
  {
   "cell_type": "code",
   "execution_count": 32,
   "id": "99aa5743",
   "metadata": {},
   "outputs": [],
   "source": [
    "train.drop('DATE_SOLD', axis=1, inplace=True)\n",
    "test.drop('DATE_SOLD', axis=1, inplace=True)"
   ]
  },
  {
   "cell_type": "code",
   "execution_count": 33,
   "id": "624120f4",
   "metadata": {
    "scrolled": false
   },
   "outputs": [
    {
     "data": {
      "text/plain": [
       "PRICE               1.000000\n",
       "SUBURB              0.728402\n",
       "NEAREST_STN         0.581309\n",
       "FLOOR_AREA          0.539524\n",
       "NEAREST_SCH_RANK    0.453937\n",
       "BATHROOMS           0.386485\n",
       "CBD_DIST            0.357368\n",
       "BEDROOMS            0.256909\n",
       "LONGITUDE           0.183514\n",
       "POSTCODE            0.162925\n",
       "BUILD_YEAR          0.148771\n",
       "GARAGE              0.124276\n",
       "ADDR_CHANGED        0.111505\n",
       "NEAREST_STN_DIST    0.099370\n",
       "YEAR_SOLD           0.084380\n",
       "LAND_AREA           0.046778\n",
       "LATITUDE            0.046722\n",
       "NEAREST_SCH_DIST    0.024030\n",
       "MONTH_SOLD          0.001545\n",
       "Name: PRICE, dtype: float64"
      ]
     },
     "execution_count": 33,
     "metadata": {},
     "output_type": "execute_result"
    }
   ],
   "source": [
    "train.corr()['PRICE'].abs().sort_values(ascending=False)"
   ]
  },
  {
   "cell_type": "code",
   "execution_count": 34,
   "id": "5374d90c",
   "metadata": {},
   "outputs": [
    {
     "data": {
      "text/plain": [
       "GARAGE              1.000000\n",
       "FLOOR_AREA          0.186341\n",
       "BATHROOMS           0.181213\n",
       "BEDROOMS            0.180447\n",
       "PRICE               0.124276\n",
       "NEAREST_STN_DIST    0.101591\n",
       "NEAREST_SCH_DIST    0.094102\n",
       "LONGITUDE           0.085201\n",
       "SUBURB              0.058986\n",
       "BUILD_YEAR          0.045461\n",
       "LAND_AREA           0.042186\n",
       "CBD_DIST            0.042033\n",
       "NEAREST_STN         0.025495\n",
       "POSTCODE            0.019979\n",
       "NEAREST_SCH_RANK    0.014924\n",
       "YEAR_SOLD           0.014896\n",
       "LATITUDE            0.011987\n",
       "MONTH_SOLD          0.008099\n",
       "ADDR_CHANGED        0.002280\n",
       "Name: GARAGE, dtype: float64"
      ]
     },
     "execution_count": 34,
     "metadata": {},
     "output_type": "execute_result"
    }
   ],
   "source": [
    "train.corr()['GARAGE'].abs().sort_values(ascending=False)"
   ]
  },
  {
   "cell_type": "code",
   "execution_count": 35,
   "id": "873a5322",
   "metadata": {},
   "outputs": [],
   "source": [
    "train['GARAGE'].fillna(2.0, inplace=True)\n",
    "test['GARAGE'].fillna(2.0, inplace=True)"
   ]
  },
  {
   "cell_type": "code",
   "execution_count": 36,
   "id": "1ea34650",
   "metadata": {},
   "outputs": [
    {
     "data": {
      "text/plain": [
       "0"
      ]
     },
     "execution_count": 36,
     "metadata": {},
     "output_type": "execute_result"
    }
   ],
   "source": [
    "test['GARAGE'].isnull().sum()"
   ]
  },
  {
   "cell_type": "code",
   "execution_count": 37,
   "id": "2eb20dff",
   "metadata": {
    "scrolled": true
   },
   "outputs": [
    {
     "data": {
      "text/plain": [
       "BUILD_YEAR          1.000000\n",
       "BATHROOMS           0.345848\n",
       "ADDR_CHANGED        0.284069\n",
       "CBD_DIST            0.258332\n",
       "BEDROOMS            0.234275\n",
       "FLOOR_AREA          0.230423\n",
       "NEAREST_STN         0.207732\n",
       "SUBURB              0.190621\n",
       "NEAREST_SCH_RANK    0.151206\n",
       "PRICE               0.148771\n",
       "NEAREST_SCH_DIST    0.096881\n",
       "NEAREST_STN_DIST    0.090911\n",
       "YEAR_SOLD           0.082095\n",
       "LONGITUDE           0.063877\n",
       "LATITUDE            0.045702\n",
       "GARAGE              0.044824\n",
       "POSTCODE            0.038833\n",
       "LAND_AREA           0.009614\n",
       "MONTH_SOLD          0.001515\n",
       "Name: BUILD_YEAR, dtype: float64"
      ]
     },
     "execution_count": 37,
     "metadata": {},
     "output_type": "execute_result"
    }
   ],
   "source": [
    "train.corr()['BUILD_YEAR'].abs().sort_values(ascending=False)"
   ]
  },
  {
   "cell_type": "code",
   "execution_count": 38,
   "id": "d37b0aaa",
   "metadata": {},
   "outputs": [
    {
     "data": {
      "text/plain": [
       "Index(['SUBURB', 'PRICE', 'BEDROOMS', 'BATHROOMS', 'GARAGE', 'LAND_AREA',\n",
       "       'FLOOR_AREA', 'BUILD_YEAR', 'CBD_DIST', 'NEAREST_STN',\n",
       "       'NEAREST_STN_DIST', 'POSTCODE', 'LATITUDE', 'LONGITUDE', 'NEAREST_SCH',\n",
       "       'NEAREST_SCH_DIST', 'NEAREST_SCH_RANK', 'ADDR_CHANGED', 'MONTH_SOLD',\n",
       "       'YEAR_SOLD'],\n",
       "      dtype='object')"
      ]
     },
     "execution_count": 38,
     "metadata": {},
     "output_type": "execute_result"
    }
   ],
   "source": [
    "train.columns"
   ]
  },
  {
   "cell_type": "code",
   "execution_count": 39,
   "id": "93b62383",
   "metadata": {},
   "outputs": [
    {
     "data": {
      "text/html": [
       "<div>\n",
       "<style scoped>\n",
       "    .dataframe tbody tr th:only-of-type {\n",
       "        vertical-align: middle;\n",
       "    }\n",
       "\n",
       "    .dataframe tbody tr th {\n",
       "        vertical-align: top;\n",
       "    }\n",
       "\n",
       "    .dataframe thead th {\n",
       "        text-align: right;\n",
       "    }\n",
       "</style>\n",
       "<table border=\"1\" class=\"dataframe\">\n",
       "  <thead>\n",
       "    <tr style=\"text-align: right;\">\n",
       "      <th></th>\n",
       "      <th>SUBURB</th>\n",
       "      <th>BEDROOMS</th>\n",
       "      <th>BATHROOMS</th>\n",
       "      <th>GARAGE</th>\n",
       "      <th>LAND_AREA</th>\n",
       "      <th>FLOOR_AREA</th>\n",
       "      <th>CBD_DIST</th>\n",
       "      <th>NEAREST_STN</th>\n",
       "      <th>NEAREST_STN_DIST</th>\n",
       "      <th>POSTCODE</th>\n",
       "      <th>LATITUDE</th>\n",
       "      <th>LONGITUDE</th>\n",
       "      <th>NEAREST_SCH_DIST</th>\n",
       "      <th>ADDR_CHANGED</th>\n",
       "      <th>MONTH_SOLD</th>\n",
       "      <th>YEAR_SOLD</th>\n",
       "      <th>BUILD_YEAR</th>\n",
       "    </tr>\n",
       "    <tr>\n",
       "      <th>ID</th>\n",
       "      <th></th>\n",
       "      <th></th>\n",
       "      <th></th>\n",
       "      <th></th>\n",
       "      <th></th>\n",
       "      <th></th>\n",
       "      <th></th>\n",
       "      <th></th>\n",
       "      <th></th>\n",
       "      <th></th>\n",
       "      <th></th>\n",
       "      <th></th>\n",
       "      <th></th>\n",
       "      <th></th>\n",
       "      <th></th>\n",
       "      <th></th>\n",
       "      <th></th>\n",
       "    </tr>\n",
       "  </thead>\n",
       "  <tbody>\n",
       "    <tr>\n",
       "      <th>0</th>\n",
       "      <td>272</td>\n",
       "      <td>5</td>\n",
       "      <td>2</td>\n",
       "      <td>4.0</td>\n",
       "      <td>674</td>\n",
       "      <td>266</td>\n",
       "      <td>35500</td>\n",
       "      <td>59</td>\n",
       "      <td>3000</td>\n",
       "      <td>6030</td>\n",
       "      <td>-31.656206</td>\n",
       "      <td>115.720566</td>\n",
       "      <td>1.079230</td>\n",
       "      <td>3</td>\n",
       "      <td>9</td>\n",
       "      <td>2015</td>\n",
       "      <td>2007.0</td>\n",
       "    </tr>\n",
       "    <tr>\n",
       "      <th>1</th>\n",
       "      <td>178</td>\n",
       "      <td>5</td>\n",
       "      <td>4</td>\n",
       "      <td>2.0</td>\n",
       "      <td>540</td>\n",
       "      <td>301</td>\n",
       "      <td>16900</td>\n",
       "      <td>31</td>\n",
       "      <td>8100</td>\n",
       "      <td>6065</td>\n",
       "      <td>-31.800802</td>\n",
       "      <td>115.867675</td>\n",
       "      <td>0.667585</td>\n",
       "      <td>5</td>\n",
       "      <td>7</td>\n",
       "      <td>2018</td>\n",
       "      <td>2014.0</td>\n",
       "    </tr>\n",
       "    <tr>\n",
       "      <th>2</th>\n",
       "      <td>96</td>\n",
       "      <td>4</td>\n",
       "      <td>2</td>\n",
       "      <td>2.0</td>\n",
       "      <td>781</td>\n",
       "      <td>220</td>\n",
       "      <td>33500</td>\n",
       "      <td>46</td>\n",
       "      <td>3500</td>\n",
       "      <td>6030</td>\n",
       "      <td>-31.682040</td>\n",
       "      <td>115.702600</td>\n",
       "      <td>0.650761</td>\n",
       "      <td>5</td>\n",
       "      <td>2</td>\n",
       "      <td>2020</td>\n",
       "      <td>1992.0</td>\n",
       "    </tr>\n",
       "  </tbody>\n",
       "</table>\n",
       "</div>"
      ],
      "text/plain": [
       "    SUBURB  BEDROOMS  BATHROOMS  GARAGE  LAND_AREA  FLOOR_AREA  CBD_DIST  \\\n",
       "ID                                                                         \n",
       "0      272         5          2     4.0        674         266     35500   \n",
       "1      178         5          4     2.0        540         301     16900   \n",
       "2       96         4          2     2.0        781         220     33500   \n",
       "\n",
       "    NEAREST_STN  NEAREST_STN_DIST  POSTCODE   LATITUDE   LONGITUDE  \\\n",
       "ID                                                                   \n",
       "0            59              3000      6030 -31.656206  115.720566   \n",
       "1            31              8100      6065 -31.800802  115.867675   \n",
       "2            46              3500      6030 -31.682040  115.702600   \n",
       "\n",
       "    NEAREST_SCH_DIST  ADDR_CHANGED  MONTH_SOLD  YEAR_SOLD  BUILD_YEAR  \n",
       "ID                                                                     \n",
       "0           1.079230             3           9       2015      2007.0  \n",
       "1           0.667585             5           7       2018      2014.0  \n",
       "2           0.650761             5           2       2020      1992.0  "
      ]
     },
     "execution_count": 39,
     "metadata": {},
     "output_type": "execute_result"
    }
   ],
   "source": [
    "bui = train[['SUBURB', 'BEDROOMS', 'BATHROOMS', 'GARAGE', 'LAND_AREA',\n",
    "       'FLOOR_AREA', 'CBD_DIST', 'NEAREST_STN',\n",
    "       'NEAREST_STN_DIST', 'POSTCODE', 'LATITUDE', 'LONGITUDE',\n",
    "       'NEAREST_SCH_DIST', 'ADDR_CHANGED', 'MONTH_SOLD',\n",
    "       'YEAR_SOLD', 'BUILD_YEAR']]\n",
    "bui.head(3)"
   ]
  },
  {
   "cell_type": "code",
   "execution_count": 40,
   "id": "b7c2ed07",
   "metadata": {},
   "outputs": [],
   "source": [
    "bui_train = bui[bui['BUILD_YEAR'].notnull()]\n",
    "bui_test = bui[bui['BUILD_YEAR'].isnull()][['SUBURB', 'BEDROOMS', 'BATHROOMS', 'GARAGE', 'LAND_AREA',\n",
    "       'FLOOR_AREA', 'CBD_DIST', 'NEAREST_STN',\n",
    "       'NEAREST_STN_DIST', 'POSTCODE', 'LATITUDE', 'LONGITUDE',\n",
    "       'NEAREST_SCH_DIST', 'ADDR_CHANGED', 'MONTH_SOLD',\n",
    "       'YEAR_SOLD', 'BUILD_YEAR']]\n",
    "bui_X = bui_train[['SUBURB', 'BEDROOMS', 'BATHROOMS', 'GARAGE', 'LAND_AREA',\n",
    "       'FLOOR_AREA', 'CBD_DIST', 'NEAREST_STN',\n",
    "       'NEAREST_STN_DIST', 'POSTCODE', 'LATITUDE', 'LONGITUDE',\n",
    "       'NEAREST_SCH_DIST', 'ADDR_CHANGED', 'MONTH_SOLD',\n",
    "       'YEAR_SOLD']]\n",
    "bui_y = bui_train['BUILD_YEAR']"
   ]
  },
  {
   "cell_type": "code",
   "execution_count": 41,
   "id": "073fa1d2",
   "metadata": {},
   "outputs": [],
   "source": [
    "from sklearn.ensemble import HistGradientBoostingRegressor\n",
    "\n",
    "hgbr = HistGradientBoostingRegressor()"
   ]
  },
  {
   "cell_type": "code",
   "execution_count": 42,
   "id": "3fdcbc98",
   "metadata": {},
   "outputs": [],
   "source": [
    "from sklearn.model_selection import cross_val_score"
   ]
  },
  {
   "cell_type": "code",
   "execution_count": 43,
   "id": "66a6891c",
   "metadata": {},
   "outputs": [
    {
     "name": "stdout",
     "output_type": "stream",
     "text": [
      "hgbr_result: [0.56094926 0.58101343 0.56854003 0.57067422 0.59675506]\n",
      "hgbr_mean: 0.5755863990725464\n"
     ]
    }
   ],
   "source": [
    "hgbr_result = cross_val_score(hgbr, bui_X, bui_y, cv=5)\n",
    "\n",
    "print('hgbr_result:', hgbr_result)\n",
    "print('hgbr_mean:', hgbr_result.mean())"
   ]
  },
  {
   "cell_type": "code",
   "execution_count": 44,
   "id": "20b6fd06",
   "metadata": {},
   "outputs": [
    {
     "data": {
      "text/plain": [
       "HistGradientBoostingRegressor()"
      ]
     },
     "execution_count": 44,
     "metadata": {},
     "output_type": "execute_result"
    }
   ],
   "source": [
    "hgbr.fit(bui_X, bui_y)"
   ]
  },
  {
   "cell_type": "code",
   "execution_count": 45,
   "id": "3e12e787",
   "metadata": {},
   "outputs": [],
   "source": [
    "bui_pre = hgbr.predict(bui_test[['SUBURB', 'BEDROOMS', 'BATHROOMS', 'GARAGE', 'LAND_AREA',\n",
    "       'FLOOR_AREA', 'CBD_DIST', 'NEAREST_STN',\n",
    "       'NEAREST_STN_DIST', 'POSTCODE', 'LATITUDE', 'LONGITUDE',\n",
    "       'NEAREST_SCH_DIST', 'ADDR_CHANGED', 'MONTH_SOLD',\n",
    "       'YEAR_SOLD']])"
   ]
  },
  {
   "cell_type": "code",
   "execution_count": 46,
   "id": "92cb3adb",
   "metadata": {},
   "outputs": [],
   "source": [
    "bui_test['BUILD_YEAR'] = bui_pre"
   ]
  },
  {
   "cell_type": "code",
   "execution_count": 47,
   "id": "b4bfc449",
   "metadata": {},
   "outputs": [
    {
     "data": {
      "text/plain": [
       "0"
      ]
     },
     "execution_count": 47,
     "metadata": {},
     "output_type": "execute_result"
    }
   ],
   "source": [
    "train['BUILD_YEAR'].fillna(bui_test['BUILD_YEAR'], inplace=True)\n",
    "train['BUILD_YEAR'].isnull().sum()"
   ]
  },
  {
   "cell_type": "code",
   "execution_count": 48,
   "id": "1af109e7",
   "metadata": {},
   "outputs": [
    {
     "data": {
      "text/html": [
       "<div>\n",
       "<style scoped>\n",
       "    .dataframe tbody tr th:only-of-type {\n",
       "        vertical-align: middle;\n",
       "    }\n",
       "\n",
       "    .dataframe tbody tr th {\n",
       "        vertical-align: top;\n",
       "    }\n",
       "\n",
       "    .dataframe thead th {\n",
       "        text-align: right;\n",
       "    }\n",
       "</style>\n",
       "<table border=\"1\" class=\"dataframe\">\n",
       "  <thead>\n",
       "    <tr style=\"text-align: right;\">\n",
       "      <th></th>\n",
       "      <th>SUBURB</th>\n",
       "      <th>BEDROOMS</th>\n",
       "      <th>BATHROOMS</th>\n",
       "      <th>GARAGE</th>\n",
       "      <th>LAND_AREA</th>\n",
       "      <th>FLOOR_AREA</th>\n",
       "      <th>CBD_DIST</th>\n",
       "      <th>NEAREST_STN</th>\n",
       "      <th>NEAREST_STN_DIST</th>\n",
       "      <th>POSTCODE</th>\n",
       "      <th>LATITUDE</th>\n",
       "      <th>LONGITUDE</th>\n",
       "      <th>NEAREST_SCH_DIST</th>\n",
       "      <th>ADDR_CHANGED</th>\n",
       "      <th>MONTH_SOLD</th>\n",
       "      <th>YEAR_SOLD</th>\n",
       "      <th>BUILD_YEAR</th>\n",
       "    </tr>\n",
       "    <tr>\n",
       "      <th>ID</th>\n",
       "      <th></th>\n",
       "      <th></th>\n",
       "      <th></th>\n",
       "      <th></th>\n",
       "      <th></th>\n",
       "      <th></th>\n",
       "      <th></th>\n",
       "      <th></th>\n",
       "      <th></th>\n",
       "      <th></th>\n",
       "      <th></th>\n",
       "      <th></th>\n",
       "      <th></th>\n",
       "      <th></th>\n",
       "      <th></th>\n",
       "      <th></th>\n",
       "      <th></th>\n",
       "    </tr>\n",
       "  </thead>\n",
       "  <tbody>\n",
       "    <tr>\n",
       "      <th>18510</th>\n",
       "      <td>124.0</td>\n",
       "      <td>3</td>\n",
       "      <td>2</td>\n",
       "      <td>3.0</td>\n",
       "      <td>2199</td>\n",
       "      <td>159</td>\n",
       "      <td>29600</td>\n",
       "      <td>41</td>\n",
       "      <td>15600</td>\n",
       "      <td>6073</td>\n",
       "      <td>-31.899705</td>\n",
       "      <td>116.166117</td>\n",
       "      <td>1.341198</td>\n",
       "      <td>1</td>\n",
       "      <td>3</td>\n",
       "      <td>2019</td>\n",
       "      <td>1950.0</td>\n",
       "    </tr>\n",
       "    <tr>\n",
       "      <th>18511</th>\n",
       "      <td>15.0</td>\n",
       "      <td>4</td>\n",
       "      <td>3</td>\n",
       "      <td>2.0</td>\n",
       "      <td>509</td>\n",
       "      <td>341</td>\n",
       "      <td>8200</td>\n",
       "      <td>16</td>\n",
       "      <td>2000</td>\n",
       "      <td>6152</td>\n",
       "      <td>-32.018620</td>\n",
       "      <td>115.858900</td>\n",
       "      <td>0.882405</td>\n",
       "      <td>14</td>\n",
       "      <td>8</td>\n",
       "      <td>2017</td>\n",
       "      <td>2001.0</td>\n",
       "    </tr>\n",
       "    <tr>\n",
       "      <th>18512</th>\n",
       "      <td>59.0</td>\n",
       "      <td>4</td>\n",
       "      <td>3</td>\n",
       "      <td>2.0</td>\n",
       "      <td>725</td>\n",
       "      <td>251</td>\n",
       "      <td>10500</td>\n",
       "      <td>21</td>\n",
       "      <td>2700</td>\n",
       "      <td>6154</td>\n",
       "      <td>-32.042090</td>\n",
       "      <td>115.826290</td>\n",
       "      <td>1.639635</td>\n",
       "      <td>3</td>\n",
       "      <td>7</td>\n",
       "      <td>2018</td>\n",
       "      <td>1982.0</td>\n",
       "    </tr>\n",
       "  </tbody>\n",
       "</table>\n",
       "</div>"
      ],
      "text/plain": [
       "       SUBURB  BEDROOMS  BATHROOMS  GARAGE  LAND_AREA  FLOOR_AREA  CBD_DIST  \\\n",
       "ID                                                                            \n",
       "18510   124.0         3          2     3.0       2199         159     29600   \n",
       "18511    15.0         4          3     2.0        509         341      8200   \n",
       "18512    59.0         4          3     2.0        725         251     10500   \n",
       "\n",
       "       NEAREST_STN  NEAREST_STN_DIST  POSTCODE   LATITUDE   LONGITUDE  \\\n",
       "ID                                                                      \n",
       "18510           41             15600      6073 -31.899705  116.166117   \n",
       "18511           16              2000      6152 -32.018620  115.858900   \n",
       "18512           21              2700      6154 -32.042090  115.826290   \n",
       "\n",
       "       NEAREST_SCH_DIST  ADDR_CHANGED  MONTH_SOLD  YEAR_SOLD  BUILD_YEAR  \n",
       "ID                                                                        \n",
       "18510          1.341198             1           3       2019      1950.0  \n",
       "18511          0.882405            14           8       2017      2001.0  \n",
       "18512          1.639635             3           7       2018      1982.0  "
      ]
     },
     "execution_count": 48,
     "metadata": {},
     "output_type": "execute_result"
    }
   ],
   "source": [
    "bui = test[['SUBURB', 'BEDROOMS', 'BATHROOMS', 'GARAGE', 'LAND_AREA',\n",
    "       'FLOOR_AREA', 'CBD_DIST', 'NEAREST_STN',\n",
    "       'NEAREST_STN_DIST', 'POSTCODE', 'LATITUDE', 'LONGITUDE',\n",
    "       'NEAREST_SCH_DIST', 'ADDR_CHANGED', 'MONTH_SOLD',\n",
    "       'YEAR_SOLD', 'BUILD_YEAR']]\n",
    "bui.head(3)"
   ]
  },
  {
   "cell_type": "code",
   "execution_count": 49,
   "id": "a9b0e452",
   "metadata": {},
   "outputs": [],
   "source": [
    "bui_test = bui[bui['BUILD_YEAR'].isnull()][['SUBURB', 'BEDROOMS', 'BATHROOMS', 'GARAGE', 'LAND_AREA',\n",
    "       'FLOOR_AREA', 'CBD_DIST', 'NEAREST_STN',\n",
    "       'NEAREST_STN_DIST', 'POSTCODE', 'LATITUDE', 'LONGITUDE',\n",
    "       'NEAREST_SCH_DIST', 'ADDR_CHANGED', 'MONTH_SOLD',\n",
    "       'YEAR_SOLD', 'BUILD_YEAR']]"
   ]
  },
  {
   "cell_type": "code",
   "execution_count": 50,
   "id": "e2f8dfba",
   "metadata": {},
   "outputs": [],
   "source": [
    "bui_pre = hgbr.predict(bui_test[['SUBURB', 'BEDROOMS', 'BATHROOMS', 'GARAGE', 'LAND_AREA',\n",
    "       'FLOOR_AREA', 'CBD_DIST', 'NEAREST_STN',\n",
    "       'NEAREST_STN_DIST', 'POSTCODE', 'LATITUDE', 'LONGITUDE',\n",
    "       'NEAREST_SCH_DIST', 'ADDR_CHANGED', 'MONTH_SOLD',\n",
    "       'YEAR_SOLD']])"
   ]
  },
  {
   "cell_type": "code",
   "execution_count": 51,
   "id": "88121fa7",
   "metadata": {},
   "outputs": [],
   "source": [
    "bui_test['BUILD_YEAR'] = bui_pre"
   ]
  },
  {
   "cell_type": "code",
   "execution_count": 52,
   "id": "1848d838",
   "metadata": {},
   "outputs": [
    {
     "data": {
      "text/plain": [
       "0"
      ]
     },
     "execution_count": 52,
     "metadata": {},
     "output_type": "execute_result"
    }
   ],
   "source": [
    "test['BUILD_YEAR'].fillna(bui_test['BUILD_YEAR'], inplace=True)\n",
    "test['BUILD_YEAR'].isnull().sum()"
   ]
  },
  {
   "cell_type": "code",
   "execution_count": 53,
   "id": "e95e05f0",
   "metadata": {},
   "outputs": [],
   "source": [
    "train['YEAR_DIFF'] = train['YEAR_SOLD'] - train['BUILD_YEAR']\n",
    "test['YEAR_DIFF'] = test['YEAR_SOLD'] - test['BUILD_YEAR']"
   ]
  },
  {
   "cell_type": "code",
   "execution_count": 54,
   "id": "02d9d750",
   "metadata": {},
   "outputs": [
    {
     "data": {
      "text/plain": [
       "PRICE               1.000000\n",
       "SUBURB              0.728402\n",
       "NEAREST_STN         0.581309\n",
       "FLOOR_AREA          0.539524\n",
       "NEAREST_SCH_RANK    0.453937\n",
       "BATHROOMS           0.386485\n",
       "CBD_DIST            0.357368\n",
       "BEDROOMS            0.256909\n",
       "LONGITUDE           0.183514\n",
       "YEAR_DIFF           0.168664\n",
       "POSTCODE            0.162925\n",
       "BUILD_YEAR          0.154241\n",
       "GARAGE              0.121527\n",
       "ADDR_CHANGED        0.111505\n",
       "NEAREST_STN_DIST    0.099370\n",
       "YEAR_SOLD           0.084380\n",
       "LAND_AREA           0.046778\n",
       "LATITUDE            0.046722\n",
       "NEAREST_SCH_DIST    0.024030\n",
       "MONTH_SOLD          0.001545\n",
       "Name: PRICE, dtype: float64"
      ]
     },
     "execution_count": 54,
     "metadata": {},
     "output_type": "execute_result"
    }
   ],
   "source": [
    "train.corr()['PRICE'].abs().sort_values(ascending=False)"
   ]
  },
  {
   "cell_type": "code",
   "execution_count": 55,
   "id": "cf302eee",
   "metadata": {},
   "outputs": [
    {
     "data": {
      "text/html": [
       "<div>\n",
       "<style scoped>\n",
       "    .dataframe tbody tr th:only-of-type {\n",
       "        vertical-align: middle;\n",
       "    }\n",
       "\n",
       "    .dataframe tbody tr th {\n",
       "        vertical-align: top;\n",
       "    }\n",
       "\n",
       "    .dataframe thead th {\n",
       "        text-align: right;\n",
       "    }\n",
       "</style>\n",
       "<table border=\"1\" class=\"dataframe\">\n",
       "  <thead>\n",
       "    <tr style=\"text-align: right;\">\n",
       "      <th></th>\n",
       "      <th>NEAREST_SCH_RANK</th>\n",
       "    </tr>\n",
       "    <tr>\n",
       "      <th>NEAREST_SCH</th>\n",
       "      <th></th>\n",
       "    </tr>\n",
       "  </thead>\n",
       "  <tbody>\n",
       "    <tr>\n",
       "      <th>PERTH MODERN SCHOOL</th>\n",
       "      <td>1.0</td>\n",
       "    </tr>\n",
       "    <tr>\n",
       "      <th>ST HILDA'S ANGLICAN SCHOOL FOR GIRLS</th>\n",
       "      <td>2.0</td>\n",
       "    </tr>\n",
       "    <tr>\n",
       "      <th>CHRIST CHURCH GRAMMAR SCHOOL</th>\n",
       "      <td>3.0</td>\n",
       "    </tr>\n",
       "    <tr>\n",
       "      <th>PENRHOS COLLEGE</th>\n",
       "      <td>4.0</td>\n",
       "    </tr>\n",
       "    <tr>\n",
       "      <th>METHODIST LADIES' COLLEGE</th>\n",
       "      <td>5.0</td>\n",
       "    </tr>\n",
       "    <tr>\n",
       "      <th>...</th>\n",
       "      <td>...</td>\n",
       "    </tr>\n",
       "    <tr>\n",
       "      <th>TREETOPS MONTESSORI SCHOOL</th>\n",
       "      <td>NaN</td>\n",
       "    </tr>\n",
       "    <tr>\n",
       "      <th>WARNBRO COMMUNITY HIGH SCHOOL</th>\n",
       "      <td>NaN</td>\n",
       "    </tr>\n",
       "    <tr>\n",
       "      <th>WARWICK SENIOR HIGH SCHOOL</th>\n",
       "      <td>NaN</td>\n",
       "    </tr>\n",
       "    <tr>\n",
       "      <th>YANCHEP SECONDARY COLLEGE</th>\n",
       "      <td>NaN</td>\n",
       "    </tr>\n",
       "    <tr>\n",
       "      <th>YOUTH FUTURES COMMUNITY SCHOOL</th>\n",
       "      <td>NaN</td>\n",
       "    </tr>\n",
       "  </tbody>\n",
       "</table>\n",
       "<p>159 rows × 1 columns</p>\n",
       "</div>"
      ],
      "text/plain": [
       "                                      NEAREST_SCH_RANK\n",
       "NEAREST_SCH                                           \n",
       "PERTH MODERN SCHOOL                                1.0\n",
       "ST HILDA'S ANGLICAN SCHOOL FOR GIRLS               2.0\n",
       "CHRIST CHURCH GRAMMAR SCHOOL                       3.0\n",
       "PENRHOS COLLEGE                                    4.0\n",
       "METHODIST LADIES' COLLEGE                          5.0\n",
       "...                                                ...\n",
       "TREETOPS MONTESSORI SCHOOL                         NaN\n",
       "WARNBRO COMMUNITY HIGH SCHOOL                      NaN\n",
       "WARWICK SENIOR HIGH SCHOOL                         NaN\n",
       "YANCHEP SECONDARY COLLEGE                          NaN\n",
       "YOUTH FUTURES COMMUNITY SCHOOL                     NaN\n",
       "\n",
       "[159 rows x 1 columns]"
      ]
     },
     "execution_count": 55,
     "metadata": {},
     "output_type": "execute_result"
    }
   ],
   "source": [
    "train[['NEAREST_SCH', 'NEAREST_SCH_RANK']].groupby('NEAREST_SCH').mean().sort_values('NEAREST_SCH_RANK')"
   ]
  },
  {
   "cell_type": "code",
   "execution_count": 56,
   "id": "ad2aee03",
   "metadata": {
    "scrolled": false
   },
   "outputs": [
    {
     "data": {
      "text/plain": [
       "NEAREST_SCH_RANK    1.000000\n",
       "SUBURB              0.500715\n",
       "NEAREST_STN         0.477699\n",
       "PRICE               0.453937\n",
       "CBD_DIST            0.324407\n",
       "LONGITUDE           0.244113\n",
       "POSTCODE            0.190799\n",
       "NEAREST_STN_DIST    0.184562\n",
       "YEAR_DIFF           0.160461\n",
       "NEAREST_SCH_DIST    0.155208\n",
       "BUILD_YEAR          0.154883\n",
       "FLOOR_AREA          0.136373\n",
       "ADDR_CHANGED        0.116773\n",
       "BATHROOMS           0.095940\n",
       "LATITUDE            0.050500\n",
       "YEAR_SOLD           0.035555\n",
       "LAND_AREA           0.034244\n",
       "BEDROOMS            0.029626\n",
       "GARAGE              0.012876\n",
       "MONTH_SOLD          0.002245\n",
       "Name: NEAREST_SCH_RANK, dtype: float64"
      ]
     },
     "execution_count": 56,
     "metadata": {},
     "output_type": "execute_result"
    }
   ],
   "source": [
    "train.corr()['NEAREST_SCH_RANK'].abs().sort_values(ascending=False)"
   ]
  },
  {
   "cell_type": "code",
   "execution_count": 57,
   "id": "41ca05f8",
   "metadata": {
    "scrolled": true
   },
   "outputs": [
    {
     "data": {
      "text/plain": [
       "Index(['SUBURB', 'PRICE', 'BEDROOMS', 'BATHROOMS', 'GARAGE', 'LAND_AREA',\n",
       "       'FLOOR_AREA', 'BUILD_YEAR', 'CBD_DIST', 'NEAREST_STN',\n",
       "       'NEAREST_STN_DIST', 'POSTCODE', 'LATITUDE', 'LONGITUDE', 'NEAREST_SCH',\n",
       "       'NEAREST_SCH_DIST', 'NEAREST_SCH_RANK', 'ADDR_CHANGED', 'MONTH_SOLD',\n",
       "       'YEAR_SOLD', 'YEAR_DIFF'],\n",
       "      dtype='object')"
      ]
     },
     "execution_count": 57,
     "metadata": {},
     "output_type": "execute_result"
    }
   ],
   "source": [
    "train.columns"
   ]
  },
  {
   "cell_type": "code",
   "execution_count": 58,
   "id": "ac87634a",
   "metadata": {},
   "outputs": [
    {
     "data": {
      "text/html": [
       "<div>\n",
       "<style scoped>\n",
       "    .dataframe tbody tr th:only-of-type {\n",
       "        vertical-align: middle;\n",
       "    }\n",
       "\n",
       "    .dataframe tbody tr th {\n",
       "        vertical-align: top;\n",
       "    }\n",
       "\n",
       "    .dataframe thead th {\n",
       "        text-align: right;\n",
       "    }\n",
       "</style>\n",
       "<table border=\"1\" class=\"dataframe\">\n",
       "  <thead>\n",
       "    <tr style=\"text-align: right;\">\n",
       "      <th></th>\n",
       "      <th>SUBURB</th>\n",
       "      <th>PRICE</th>\n",
       "      <th>FLOOR_AREA</th>\n",
       "      <th>BUILD_YEAR</th>\n",
       "      <th>CBD_DIST</th>\n",
       "      <th>NEAREST_STN</th>\n",
       "      <th>NEAREST_STN_DIST</th>\n",
       "      <th>POSTCODE</th>\n",
       "      <th>LONGITUDE</th>\n",
       "      <th>NEAREST_SCH_DIST</th>\n",
       "      <th>YEAR_DIFF</th>\n",
       "      <th>NEAREST_SCH_RANK</th>\n",
       "    </tr>\n",
       "    <tr>\n",
       "      <th>ID</th>\n",
       "      <th></th>\n",
       "      <th></th>\n",
       "      <th></th>\n",
       "      <th></th>\n",
       "      <th></th>\n",
       "      <th></th>\n",
       "      <th></th>\n",
       "      <th></th>\n",
       "      <th></th>\n",
       "      <th></th>\n",
       "      <th></th>\n",
       "      <th></th>\n",
       "    </tr>\n",
       "  </thead>\n",
       "  <tbody>\n",
       "    <tr>\n",
       "      <th>0</th>\n",
       "      <td>272</td>\n",
       "      <td>520000</td>\n",
       "      <td>266</td>\n",
       "      <td>2007.0</td>\n",
       "      <td>35500</td>\n",
       "      <td>59</td>\n",
       "      <td>3000</td>\n",
       "      <td>6030</td>\n",
       "      <td>115.720566</td>\n",
       "      <td>1.079230</td>\n",
       "      <td>8.0</td>\n",
       "      <td>120.0</td>\n",
       "    </tr>\n",
       "    <tr>\n",
       "      <th>1</th>\n",
       "      <td>178</td>\n",
       "      <td>575000</td>\n",
       "      <td>301</td>\n",
       "      <td>2014.0</td>\n",
       "      <td>16900</td>\n",
       "      <td>31</td>\n",
       "      <td>8100</td>\n",
       "      <td>6065</td>\n",
       "      <td>115.867675</td>\n",
       "      <td>0.667585</td>\n",
       "      <td>4.0</td>\n",
       "      <td>NaN</td>\n",
       "    </tr>\n",
       "    <tr>\n",
       "      <th>2</th>\n",
       "      <td>96</td>\n",
       "      <td>760000</td>\n",
       "      <td>220</td>\n",
       "      <td>1992.0</td>\n",
       "      <td>33500</td>\n",
       "      <td>46</td>\n",
       "      <td>3500</td>\n",
       "      <td>6030</td>\n",
       "      <td>115.702600</td>\n",
       "      <td>0.650761</td>\n",
       "      <td>28.0</td>\n",
       "      <td>111.0</td>\n",
       "    </tr>\n",
       "    <tr>\n",
       "      <th>3</th>\n",
       "      <td>44</td>\n",
       "      <td>1230000</td>\n",
       "      <td>185</td>\n",
       "      <td>1938.0</td>\n",
       "      <td>3500</td>\n",
       "      <td>19</td>\n",
       "      <td>1500</td>\n",
       "      <td>6016</td>\n",
       "      <td>115.838181</td>\n",
       "      <td>0.484465</td>\n",
       "      <td>82.0</td>\n",
       "      <td>106.0</td>\n",
       "    </tr>\n",
       "    <tr>\n",
       "      <th>4</th>\n",
       "      <td>18</td>\n",
       "      <td>2010000</td>\n",
       "      <td>186</td>\n",
       "      <td>2004.0</td>\n",
       "      <td>12900</td>\n",
       "      <td>14</td>\n",
       "      <td>800</td>\n",
       "      <td>6159</td>\n",
       "      <td>115.759626</td>\n",
       "      <td>1.869050</td>\n",
       "      <td>13.0</td>\n",
       "      <td>25.0</td>\n",
       "    </tr>\n",
       "  </tbody>\n",
       "</table>\n",
       "</div>"
      ],
      "text/plain": [
       "    SUBURB    PRICE  FLOOR_AREA  BUILD_YEAR  CBD_DIST  NEAREST_STN  \\\n",
       "ID                                                                   \n",
       "0      272   520000         266      2007.0     35500           59   \n",
       "1      178   575000         301      2014.0     16900           31   \n",
       "2       96   760000         220      1992.0     33500           46   \n",
       "3       44  1230000         185      1938.0      3500           19   \n",
       "4       18  2010000         186      2004.0     12900           14   \n",
       "\n",
       "    NEAREST_STN_DIST  POSTCODE   LONGITUDE  NEAREST_SCH_DIST  YEAR_DIFF  \\\n",
       "ID                                                                        \n",
       "0               3000      6030  115.720566          1.079230        8.0   \n",
       "1               8100      6065  115.867675          0.667585        4.0   \n",
       "2               3500      6030  115.702600          0.650761       28.0   \n",
       "3               1500      6016  115.838181          0.484465       82.0   \n",
       "4                800      6159  115.759626          1.869050       13.0   \n",
       "\n",
       "    NEAREST_SCH_RANK  \n",
       "ID                    \n",
       "0              120.0  \n",
       "1                NaN  \n",
       "2              111.0  \n",
       "3              106.0  \n",
       "4               25.0  "
      ]
     },
     "execution_count": 58,
     "metadata": {},
     "output_type": "execute_result"
    }
   ],
   "source": [
    "sch = train[['SUBURB', 'PRICE', 'FLOOR_AREA', 'BUILD_YEAR', 'CBD_DIST', 'NEAREST_STN',\n",
    "       'NEAREST_STN_DIST', 'POSTCODE', 'LONGITUDE',\n",
    "       'NEAREST_SCH_DIST', 'YEAR_DIFF', 'NEAREST_SCH_RANK']]\n",
    "sch.head()"
   ]
  },
  {
   "cell_type": "code",
   "execution_count": 61,
   "id": "af026833",
   "metadata": {},
   "outputs": [],
   "source": [
    "sch_train = sch[sch['NEAREST_SCH_RANK'].notnull()]\n",
    "sch_test = sch[sch['NEAREST_SCH_RANK'].isnull()][['SUBURB', 'PRICE', 'FLOOR_AREA', 'BUILD_YEAR', 'CBD_DIST', 'NEAREST_STN',\n",
    "       'NEAREST_STN_DIST', 'POSTCODE', 'LONGITUDE',\n",
    "       'NEAREST_SCH_DIST', 'YEAR_DIFF', 'NEAREST_SCH_RANK']]\n",
    "sch_X = sch_train[['SUBURB', 'PRICE', 'FLOOR_AREA', 'BUILD_YEAR', 'CBD_DIST', 'NEAREST_STN',\n",
    "       'NEAREST_STN_DIST', 'POSTCODE', 'LONGITUDE',\n",
    "       'NEAREST_SCH_DIST', 'YEAR_DIFF']]\n",
    "sch_y = sch_train['NEAREST_SCH_RANK']"
   ]
  },
  {
   "cell_type": "code",
   "execution_count": 62,
   "id": "ebd757a3",
   "metadata": {},
   "outputs": [],
   "source": [
    "from sklearn.ensemble import HistGradientBoostingRegressor\n",
    "hgbr = HistGradientBoostingRegressor()"
   ]
  },
  {
   "cell_type": "code",
   "execution_count": 63,
   "id": "a794eec6",
   "metadata": {},
   "outputs": [],
   "source": [
    "from sklearn.model_selection import cross_val_score"
   ]
  },
  {
   "cell_type": "code",
   "execution_count": 64,
   "id": "023c5fbf",
   "metadata": {},
   "outputs": [],
   "source": [
    "sch_result = cross_val_score(hgbr, sch_X, sch_y, cv=5)"
   ]
  },
  {
   "cell_type": "code",
   "execution_count": 65,
   "id": "b5859c47",
   "metadata": {},
   "outputs": [
    {
     "name": "stdout",
     "output_type": "stream",
     "text": [
      "[0.91417974 0.90754036 0.90649141 0.91220409 0.90770094]\n",
      "0.9096233086339927\n"
     ]
    }
   ],
   "source": [
    "print(sch_result)\n",
    "print(sch_result.mean())"
   ]
  },
  {
   "cell_type": "code",
   "execution_count": 66,
   "id": "28d7a5f7",
   "metadata": {},
   "outputs": [
    {
     "data": {
      "text/plain": [
       "HistGradientBoostingRegressor()"
      ]
     },
     "execution_count": 66,
     "metadata": {},
     "output_type": "execute_result"
    }
   ],
   "source": [
    "hgbr.fit(sch_X, sch_y)"
   ]
  },
  {
   "cell_type": "code",
   "execution_count": 68,
   "id": "9b93249a",
   "metadata": {},
   "outputs": [],
   "source": [
    "sch_pre = hgbr.predict(sch_test[['SUBURB', 'PRICE', 'FLOOR_AREA', 'BUILD_YEAR', 'CBD_DIST', 'NEAREST_STN',\n",
    "       'NEAREST_STN_DIST', 'POSTCODE', 'LONGITUDE',\n",
    "       'NEAREST_SCH_DIST', 'YEAR_DIFF']])"
   ]
  },
  {
   "cell_type": "code",
   "execution_count": 69,
   "id": "7e214f1b",
   "metadata": {},
   "outputs": [],
   "source": [
    "sch_test['NEAREST_SCH_RANK'] = sch_pre"
   ]
  },
  {
   "cell_type": "code",
   "execution_count": 70,
   "id": "dd59595a",
   "metadata": {},
   "outputs": [
    {
     "data": {
      "text/plain": [
       "0"
      ]
     },
     "execution_count": 70,
     "metadata": {},
     "output_type": "execute_result"
    }
   ],
   "source": [
    "train['NEAREST_SCH_RANK'].fillna(sch_test['NEAREST_SCH_RANK'], inplace=True)\n",
    "train['NEAREST_SCH_RANK'].isnull().sum()"
   ]
  },
  {
   "cell_type": "code",
   "execution_count": 71,
   "id": "fcff4c9c",
   "metadata": {},
   "outputs": [
    {
     "data": {
      "text/html": [
       "<div>\n",
       "<style scoped>\n",
       "    .dataframe tbody tr th:only-of-type {\n",
       "        vertical-align: middle;\n",
       "    }\n",
       "\n",
       "    .dataframe tbody tr th {\n",
       "        vertical-align: top;\n",
       "    }\n",
       "\n",
       "    .dataframe thead th {\n",
       "        text-align: right;\n",
       "    }\n",
       "</style>\n",
       "<table border=\"1\" class=\"dataframe\">\n",
       "  <thead>\n",
       "    <tr style=\"text-align: right;\">\n",
       "      <th></th>\n",
       "      <th>NEAREST_SCH_RANK</th>\n",
       "    </tr>\n",
       "    <tr>\n",
       "      <th>NEAREST_SCH</th>\n",
       "      <th></th>\n",
       "    </tr>\n",
       "  </thead>\n",
       "  <tbody>\n",
       "    <tr>\n",
       "      <th>PERTH MODERN SCHOOL</th>\n",
       "      <td>1.0</td>\n",
       "    </tr>\n",
       "    <tr>\n",
       "      <th>ST HILDA'S ANGLICAN SCHOOL FOR GIRLS</th>\n",
       "      <td>2.0</td>\n",
       "    </tr>\n",
       "    <tr>\n",
       "      <th>CHRIST CHURCH GRAMMAR SCHOOL</th>\n",
       "      <td>3.0</td>\n",
       "    </tr>\n",
       "    <tr>\n",
       "      <th>PENRHOS COLLEGE</th>\n",
       "      <td>4.0</td>\n",
       "    </tr>\n",
       "    <tr>\n",
       "      <th>METHODIST LADIES' COLLEGE</th>\n",
       "      <td>5.0</td>\n",
       "    </tr>\n",
       "    <tr>\n",
       "      <th>...</th>\n",
       "      <td>...</td>\n",
       "    </tr>\n",
       "    <tr>\n",
       "      <th>BALCATTA SENIOR HIGH SCHOOL</th>\n",
       "      <td>135.0</td>\n",
       "    </tr>\n",
       "    <tr>\n",
       "      <th>SAFETY BAY SENIOR HIGH SCHOOL</th>\n",
       "      <td>136.0</td>\n",
       "    </tr>\n",
       "    <tr>\n",
       "      <th>DARLING RANGE SPORTS COLLEGE</th>\n",
       "      <td>137.0</td>\n",
       "    </tr>\n",
       "    <tr>\n",
       "      <th>GILMORE COLLEGE</th>\n",
       "      <td>138.0</td>\n",
       "    </tr>\n",
       "    <tr>\n",
       "      <th>CECIL ANDREWS COLLEGE</th>\n",
       "      <td>139.0</td>\n",
       "    </tr>\n",
       "  </tbody>\n",
       "</table>\n",
       "<p>159 rows × 1 columns</p>\n",
       "</div>"
      ],
      "text/plain": [
       "                                      NEAREST_SCH_RANK\n",
       "NEAREST_SCH                                           \n",
       "PERTH MODERN SCHOOL                                1.0\n",
       "ST HILDA'S ANGLICAN SCHOOL FOR GIRLS               2.0\n",
       "CHRIST CHURCH GRAMMAR SCHOOL                       3.0\n",
       "PENRHOS COLLEGE                                    4.0\n",
       "METHODIST LADIES' COLLEGE                          5.0\n",
       "...                                                ...\n",
       "BALCATTA SENIOR HIGH SCHOOL                      135.0\n",
       "SAFETY BAY SENIOR HIGH SCHOOL                    136.0\n",
       "DARLING RANGE SPORTS COLLEGE                     137.0\n",
       "GILMORE COLLEGE                                  138.0\n",
       "CECIL ANDREWS COLLEGE                            139.0\n",
       "\n",
       "[159 rows x 1 columns]"
      ]
     },
     "execution_count": 71,
     "metadata": {},
     "output_type": "execute_result"
    }
   ],
   "source": [
    "train[['NEAREST_SCH', 'NEAREST_SCH_RANK']].groupby('NEAREST_SCH').mean().sort_values('NEAREST_SCH_RANK')"
   ]
  },
  {
   "cell_type": "code",
   "execution_count": 72,
   "id": "d8ac8a7a",
   "metadata": {},
   "outputs": [
    {
     "data": {
      "text/plain": [
       "ID\n",
       "0    120.000000\n",
       "1     87.329162\n",
       "2    111.000000\n",
       "3    106.000000\n",
       "4     25.000000\n",
       "Name: NEAREST_SCH_RANK, dtype: float64"
      ]
     },
     "execution_count": 72,
     "metadata": {},
     "output_type": "execute_result"
    }
   ],
   "source": [
    "train['NEAREST_SCH_RANK'].head()"
   ]
  },
  {
   "cell_type": "code",
   "execution_count": 73,
   "id": "6f33b486",
   "metadata": {},
   "outputs": [
    {
     "data": {
      "text/plain": [
       "{'SOUTH METROPOLITAN YOUTH LINK COMMUNITY COLLEGE'}"
      ]
     },
     "execution_count": 73,
     "metadata": {},
     "output_type": "execute_result"
    }
   ],
   "source": [
    "set(test['NEAREST_SCH']) - set(train['NEAREST_SCH'])"
   ]
  },
  {
   "cell_type": "code",
   "execution_count": 79,
   "id": "abb5795e",
   "metadata": {
    "scrolled": true
   },
   "outputs": [],
   "source": [
    "k = train['NEAREST_SCH_RANK'].mean()"
   ]
  },
  {
   "cell_type": "code",
   "execution_count": 80,
   "id": "a950894b",
   "metadata": {},
   "outputs": [],
   "source": [
    "a = train[['NEAREST_SCH', 'NEAREST_SCH_RANK']]['NEAREST_SCH']\n",
    "b = train[['NEAREST_SCH', 'NEAREST_SCH_RANK']]['NEAREST_SCH_RANK']"
   ]
  },
  {
   "cell_type": "code",
   "execution_count": 81,
   "id": "20131a48",
   "metadata": {},
   "outputs": [
    {
     "data": {
      "text/plain": [
       "'ARANMORE CATHOLIC COLLEGE'"
      ]
     },
     "execution_count": 81,
     "metadata": {},
     "output_type": "execute_result"
    }
   ],
   "source": [
    "a[3]"
   ]
  },
  {
   "cell_type": "code",
   "execution_count": 82,
   "id": "92a93258",
   "metadata": {},
   "outputs": [],
   "source": [
    "ns_dict = {}\n",
    "\n",
    "for i in range(len(a)):\n",
    "    ns_dict[a[i]] = b[i]"
   ]
  },
  {
   "cell_type": "code",
   "execution_count": 83,
   "id": "195eb946",
   "metadata": {},
   "outputs": [],
   "source": [
    "ns_dict['SOUTH METROPOLITAN YOUTH LINK COMMUNITY COLLEGE'] = k"
   ]
  },
  {
   "cell_type": "code",
   "execution_count": 84,
   "id": "a925eb3f",
   "metadata": {},
   "outputs": [],
   "source": [
    "test['NEAREST_SCH_RANK'] = test['NEAREST_SCH'].map(ns_dict)"
   ]
  },
  {
   "cell_type": "code",
   "execution_count": 85,
   "id": "570ca3c0",
   "metadata": {},
   "outputs": [],
   "source": [
    "train.drop('NEAREST_SCH', axis=1, inplace=True)\n",
    "test.drop('NEAREST_SCH', axis=1, inplace=True)"
   ]
  },
  {
   "cell_type": "code",
   "execution_count": 86,
   "id": "b0747063",
   "metadata": {},
   "outputs": [],
   "source": [
    "from sklearn.ensemble import HistGradientBoostingRegressor"
   ]
  },
  {
   "cell_type": "code",
   "execution_count": 87,
   "id": "adc1f499",
   "metadata": {},
   "outputs": [],
   "source": [
    "hgbr = HistGradientBoostingRegressor()"
   ]
  },
  {
   "cell_type": "code",
   "execution_count": 88,
   "id": "cac58a69",
   "metadata": {},
   "outputs": [],
   "source": [
    "from sklearn.model_selection import cross_val_score\n",
    "\n",
    "y_train = train.pop('PRICE')\n",
    "X_train = train"
   ]
  },
  {
   "cell_type": "code",
   "execution_count": 89,
   "id": "3afd9fbf",
   "metadata": {},
   "outputs": [
    {
     "name": "stdout",
     "output_type": "stream",
     "text": [
      "hgbr_result: [0.83215003 0.85181699 0.86268402 0.85033268 0.83803841]\n",
      "hgbr_mean: 0.8470044248250227\n"
     ]
    }
   ],
   "source": [
    "hgbr_result = cross_val_score(hgbr, X_train, y_train, cv=5)\n",
    "\n",
    "\n",
    "print('hgbr_result:', hgbr_result)\n",
    "print('hgbr_mean:', hgbr_result.mean())"
   ]
  },
  {
   "cell_type": "code",
   "execution_count": 90,
   "id": "ffbbbd3e",
   "metadata": {},
   "outputs": [],
   "source": [
    "from sklearn.preprocessing import StandardScaler"
   ]
  },
  {
   "cell_type": "code",
   "execution_count": 91,
   "id": "9050caf7",
   "metadata": {},
   "outputs": [],
   "source": [
    "# 스케일러 생성\n",
    "scaler = StandardScaler()\n",
    "\n",
    "# 현재 데이터의 분포 범위 확인\n",
    "scaler.fit(X_train)\n",
    "\n",
    "# 데이터 변환\n",
    "tf_X_train = scaler.transform(X_train)\n",
    "tf_test = scaler.transform(test)"
   ]
  },
  {
   "cell_type": "code",
   "execution_count": 92,
   "id": "59844427",
   "metadata": {},
   "outputs": [
    {
     "name": "stdout",
     "output_type": "stream",
     "text": [
      "hgbr_result: [0.83044939 0.84919674 0.85975208 0.85158005 0.84003999]\n",
      "hgbr_mean: 0.8462036495872989\n"
     ]
    }
   ],
   "source": [
    "hgbr_result = cross_val_score(hgbr, tf_X_train, y_train, cv=5)\n",
    "\n",
    "print('hgbr_result:', hgbr_result)\n",
    "print('hgbr_mean:', hgbr_result.mean())"
   ]
  },
  {
   "cell_type": "code",
   "execution_count": 94,
   "id": "88f81732",
   "metadata": {},
   "outputs": [],
   "source": [
    "# 예측\n",
    "hgbr.fit(X_train, y_train)\n",
    "hgbr_pre = hgbr.predict(test)\n",
    "\n",
    "# 답안지 파일 불러오기\n",
    "result = pd.read_csv('data/sample_submission.csv')\n",
    "\n",
    "# 예측값 초기화\n",
    "result['PRICE'] = hgbr_pre\n",
    "\n",
    "# df -> csv 저장\n",
    "result.to_csv('try04_hgbr.csv', index=False)"
   ]
  },
  {
   "cell_type": "code",
   "execution_count": 95,
   "id": "e934b2ad",
   "metadata": {},
   "outputs": [],
   "source": [
    "hgbr2 = HistGradientBoostingRegressor()\n",
    "\n",
    "\n",
    "# 예측\n",
    "hgbr2.fit(tf_X_train, y_train)\n",
    "hgbr2_pre = hgbr2.predict(tf_test)\n",
    "\n",
    "# 답안지 파일 불러오기\n",
    "result = pd.read_csv('data/sample_submission.csv')\n",
    "\n",
    "# 예측값 초기화\n",
    "result['PRICE'] = hgbr2_pre\n",
    "\n",
    "# df -> csv 저장\n",
    "result.to_csv('try04_hgbr2.csv', index=False)"
   ]
  },
  {
   "cell_type": "code",
   "execution_count": null,
   "id": "a01b7510",
   "metadata": {},
   "outputs": [],
   "source": [
    " "
   ]
  }
 ],
 "metadata": {
  "kernelspec": {
   "display_name": "Python 3 (ipykernel)",
   "language": "python",
   "name": "python3"
  },
  "language_info": {
   "codemirror_mode": {
    "name": "ipython",
    "version": 3
   },
   "file_extension": ".py",
   "mimetype": "text/x-python",
   "name": "python",
   "nbconvert_exporter": "python",
   "pygments_lexer": "ipython3",
   "version": "3.9.12"
  }
 },
 "nbformat": 4,
 "nbformat_minor": 5
}
