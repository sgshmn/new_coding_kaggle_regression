{
 "cells": [
  {
   "cell_type": "code",
   "execution_count": 1,
   "id": "72e9db85",
   "metadata": {},
   "outputs": [],
   "source": [
    "import pandas as pd"
   ]
  },
  {
   "cell_type": "code",
   "execution_count": 2,
   "id": "c2ab08e6",
   "metadata": {},
   "outputs": [],
   "source": [
    "train = pd.read_csv('data/train.csv', index_col='ID')\n",
    "test = pd.read_csv('data/test.csv', index_col='ID')"
   ]
  },
  {
   "cell_type": "code",
   "execution_count": 3,
   "id": "772ce5f1",
   "metadata": {},
   "outputs": [],
   "source": [
    "train.drop('ADDRESS', axis=1, inplace=True)\n",
    "test.drop('ADDRESS', axis=1, inplace=True)"
   ]
  },
  {
   "cell_type": "code",
   "execution_count": 4,
   "id": "3f08a8d6",
   "metadata": {},
   "outputs": [
    {
     "data": {
      "text/plain": [
       "PRICE               1.000000\n",
       "FLOOR_AREA          0.539524\n",
       "NEAREST_SCH_RANK    0.453937\n",
       "BATHROOMS           0.386485\n",
       "CBD_DIST            0.357368\n",
       "BEDROOMS            0.256909\n",
       "LONGITUDE           0.183514\n",
       "POSTCODE            0.162925\n",
       "BUILD_YEAR          0.148771\n",
       "GARAGE              0.124276\n",
       "NEAREST_STN_DIST    0.099370\n",
       "LAND_AREA           0.046778\n",
       "LATITUDE            0.046722\n",
       "NEAREST_SCH_DIST    0.024030\n",
       "Name: PRICE, dtype: float64"
      ]
     },
     "execution_count": 4,
     "metadata": {},
     "output_type": "execute_result"
    }
   ],
   "source": [
    "train.corr()['PRICE'].abs().sort_values(ascending=False)"
   ]
  },
  {
   "cell_type": "code",
   "execution_count": 5,
   "id": "f79b4c11",
   "metadata": {},
   "outputs": [
    {
     "data": {
      "text/html": [
       "<div>\n",
       "<style scoped>\n",
       "    .dataframe tbody tr th:only-of-type {\n",
       "        vertical-align: middle;\n",
       "    }\n",
       "\n",
       "    .dataframe tbody tr th {\n",
       "        vertical-align: top;\n",
       "    }\n",
       "\n",
       "    .dataframe thead th {\n",
       "        text-align: right;\n",
       "    }\n",
       "</style>\n",
       "<table border=\"1\" class=\"dataframe\">\n",
       "  <thead>\n",
       "    <tr style=\"text-align: right;\">\n",
       "      <th></th>\n",
       "      <th>SUBURB</th>\n",
       "      <th>PRICE</th>\n",
       "      <th>BEDROOMS</th>\n",
       "      <th>BATHROOMS</th>\n",
       "      <th>GARAGE</th>\n",
       "      <th>LAND_AREA</th>\n",
       "      <th>FLOOR_AREA</th>\n",
       "      <th>BUILD_YEAR</th>\n",
       "      <th>CBD_DIST</th>\n",
       "      <th>NEAREST_STN</th>\n",
       "      <th>NEAREST_STN_DIST</th>\n",
       "      <th>DATE_SOLD</th>\n",
       "      <th>POSTCODE</th>\n",
       "      <th>LATITUDE</th>\n",
       "      <th>LONGITUDE</th>\n",
       "      <th>NEAREST_SCH</th>\n",
       "      <th>NEAREST_SCH_DIST</th>\n",
       "      <th>NEAREST_SCH_RANK</th>\n",
       "    </tr>\n",
       "    <tr>\n",
       "      <th>ID</th>\n",
       "      <th></th>\n",
       "      <th></th>\n",
       "      <th></th>\n",
       "      <th></th>\n",
       "      <th></th>\n",
       "      <th></th>\n",
       "      <th></th>\n",
       "      <th></th>\n",
       "      <th></th>\n",
       "      <th></th>\n",
       "      <th></th>\n",
       "      <th></th>\n",
       "      <th></th>\n",
       "      <th></th>\n",
       "      <th></th>\n",
       "      <th></th>\n",
       "      <th></th>\n",
       "      <th></th>\n",
       "    </tr>\n",
       "  </thead>\n",
       "  <tbody>\n",
       "    <tr>\n",
       "      <th>0</th>\n",
       "      <td>Ridgewood</td>\n",
       "      <td>520000</td>\n",
       "      <td>5</td>\n",
       "      <td>2</td>\n",
       "      <td>4.0</td>\n",
       "      <td>674</td>\n",
       "      <td>266</td>\n",
       "      <td>2007.0</td>\n",
       "      <td>35500</td>\n",
       "      <td>Butler Station</td>\n",
       "      <td>3000</td>\n",
       "      <td>09-2015\\r</td>\n",
       "      <td>6030</td>\n",
       "      <td>-31.656206</td>\n",
       "      <td>115.720566</td>\n",
       "      <td>IRENE MCCORMACK CATHOLIC COLLEGE</td>\n",
       "      <td>1.079230</td>\n",
       "      <td>120.0</td>\n",
       "    </tr>\n",
       "    <tr>\n",
       "      <th>1</th>\n",
       "      <td>Landsdale</td>\n",
       "      <td>575000</td>\n",
       "      <td>5</td>\n",
       "      <td>4</td>\n",
       "      <td>2.0</td>\n",
       "      <td>540</td>\n",
       "      <td>301</td>\n",
       "      <td>2014.0</td>\n",
       "      <td>16900</td>\n",
       "      <td>Whitfords Station</td>\n",
       "      <td>8100</td>\n",
       "      <td>07-2018\\r</td>\n",
       "      <td>6065</td>\n",
       "      <td>-31.800802</td>\n",
       "      <td>115.867675</td>\n",
       "      <td>LANDSDALE CHRISTIAN SCHOOL</td>\n",
       "      <td>0.667585</td>\n",
       "      <td>NaN</td>\n",
       "    </tr>\n",
       "    <tr>\n",
       "      <th>2</th>\n",
       "      <td>Mindarie</td>\n",
       "      <td>760000</td>\n",
       "      <td>4</td>\n",
       "      <td>2</td>\n",
       "      <td>2.0</td>\n",
       "      <td>781</td>\n",
       "      <td>220</td>\n",
       "      <td>1992.0</td>\n",
       "      <td>33500</td>\n",
       "      <td>Clarkson Station</td>\n",
       "      <td>3500</td>\n",
       "      <td>02-2020\\r</td>\n",
       "      <td>6030</td>\n",
       "      <td>-31.682040</td>\n",
       "      <td>115.702600</td>\n",
       "      <td>MINDARIE SENIOR COLLEGE</td>\n",
       "      <td>0.650761</td>\n",
       "      <td>111.0</td>\n",
       "    </tr>\n",
       "  </tbody>\n",
       "</table>\n",
       "</div>"
      ],
      "text/plain": [
       "       SUBURB   PRICE  BEDROOMS  BATHROOMS  GARAGE  LAND_AREA  FLOOR_AREA  \\\n",
       "ID                                                                          \n",
       "0   Ridgewood  520000         5          2     4.0        674         266   \n",
       "1   Landsdale  575000         5          4     2.0        540         301   \n",
       "2    Mindarie  760000         4          2     2.0        781         220   \n",
       "\n",
       "    BUILD_YEAR  CBD_DIST        NEAREST_STN  NEAREST_STN_DIST  DATE_SOLD  \\\n",
       "ID                                                                         \n",
       "0       2007.0     35500     Butler Station              3000  09-2015\\r   \n",
       "1       2014.0     16900  Whitfords Station              8100  07-2018\\r   \n",
       "2       1992.0     33500   Clarkson Station              3500  02-2020\\r   \n",
       "\n",
       "    POSTCODE   LATITUDE   LONGITUDE                       NEAREST_SCH  \\\n",
       "ID                                                                      \n",
       "0       6030 -31.656206  115.720566  IRENE MCCORMACK CATHOLIC COLLEGE   \n",
       "1       6065 -31.800802  115.867675        LANDSDALE CHRISTIAN SCHOOL   \n",
       "2       6030 -31.682040  115.702600           MINDARIE SENIOR COLLEGE   \n",
       "\n",
       "    NEAREST_SCH_DIST  NEAREST_SCH_RANK  \n",
       "ID                                      \n",
       "0           1.079230             120.0  \n",
       "1           0.667585               NaN  \n",
       "2           0.650761             111.0  "
      ]
     },
     "execution_count": 5,
     "metadata": {},
     "output_type": "execute_result"
    }
   ],
   "source": [
    "train.head(3)"
   ]
  },
  {
   "cell_type": "code",
   "execution_count": 6,
   "id": "a6035e9b",
   "metadata": {
    "scrolled": true
   },
   "outputs": [],
   "source": [
    "sub_sortby_price = train[['SUBURB', 'PRICE']].groupby(by='SUBURB').mean().sort_values('PRICE', ascending=False)\n",
    "\n",
    "sub_cols = sub_sortby_price.index\n",
    "\n",
    "sub_dict = {}\n",
    "for i, col in enumerate(sub_cols):\n",
    "    sub_dict[col] = i\n",
    "    \n",
    "train['SUBURB'] = train['SUBURB'].map(sub_dict)\n",
    "test['SUBURB'] = test['SUBURB'].map(sub_dict)"
   ]
  },
  {
   "cell_type": "code",
   "execution_count": 7,
   "id": "f77c40f1",
   "metadata": {},
   "outputs": [
    {
     "data": {
      "text/plain": [
       "PRICE               1.000000\n",
       "SUBURB              0.728402\n",
       "FLOOR_AREA          0.539524\n",
       "NEAREST_SCH_RANK    0.453937\n",
       "BATHROOMS           0.386485\n",
       "CBD_DIST            0.357368\n",
       "BEDROOMS            0.256909\n",
       "LONGITUDE           0.183514\n",
       "POSTCODE            0.162925\n",
       "BUILD_YEAR          0.148771\n",
       "GARAGE              0.124276\n",
       "NEAREST_STN_DIST    0.099370\n",
       "LAND_AREA           0.046778\n",
       "LATITUDE            0.046722\n",
       "NEAREST_SCH_DIST    0.024030\n",
       "Name: PRICE, dtype: float64"
      ]
     },
     "execution_count": 7,
     "metadata": {},
     "output_type": "execute_result"
    }
   ],
   "source": [
    "train.corr()['PRICE'].abs().sort_values(ascending=False)"
   ]
  },
  {
   "cell_type": "code",
   "execution_count": 8,
   "id": "dae85f1b",
   "metadata": {},
   "outputs": [],
   "source": [
    "stn_sortby_price = train[['NEAREST_STN', 'PRICE']].groupby(by='NEAREST_STN').mean().sort_values('PRICE', ascending=False)\n",
    "\n",
    "stn_cols = stn_sortby_price.index\n",
    "\n",
    "stn_dict = {}\n",
    "for i, col in enumerate(stn_cols):\n",
    "    sub_dict[col] = i\n",
    "    \n",
    "train['NEAREST_STN'] = train['NEAREST_STN'].map(sub_dict)\n",
    "test['NEAREST_STN'] = test['NEAREST_STN'].map(sub_dict)"
   ]
  },
  {
   "cell_type": "code",
   "execution_count": 9,
   "id": "4ba6004a",
   "metadata": {},
   "outputs": [
    {
     "data": {
      "text/plain": [
       "PRICE               1.000000\n",
       "SUBURB              0.728402\n",
       "NEAREST_STN         0.581309\n",
       "FLOOR_AREA          0.539524\n",
       "NEAREST_SCH_RANK    0.453937\n",
       "BATHROOMS           0.386485\n",
       "CBD_DIST            0.357368\n",
       "BEDROOMS            0.256909\n",
       "LONGITUDE           0.183514\n",
       "POSTCODE            0.162925\n",
       "BUILD_YEAR          0.148771\n",
       "GARAGE              0.124276\n",
       "NEAREST_STN_DIST    0.099370\n",
       "LAND_AREA           0.046778\n",
       "LATITUDE            0.046722\n",
       "NEAREST_SCH_DIST    0.024030\n",
       "Name: PRICE, dtype: float64"
      ]
     },
     "execution_count": 9,
     "metadata": {},
     "output_type": "execute_result"
    }
   ],
   "source": [
    "train.corr()['PRICE'].abs().sort_values(ascending=False)"
   ]
  },
  {
   "cell_type": "code",
   "execution_count": 10,
   "id": "95e5fef9",
   "metadata": {},
   "outputs": [],
   "source": [
    "test['SUBURB'] = test['SUBURB'].fillna(test['SUBURB'].mean())"
   ]
  },
  {
   "cell_type": "code",
   "execution_count": 11,
   "id": "aa9a4ae6",
   "metadata": {
    "scrolled": true
   },
   "outputs": [
    {
     "data": {
      "text/plain": [
       "ID\n",
       "0    09-2015\\r\n",
       "1    07-2018\\r\n",
       "2    02-2020\\r\n",
       "3    07-2020\\r\n",
       "4    10-2017\\r\n",
       "Name: DATE_SOLD, dtype: object"
      ]
     },
     "execution_count": 11,
     "metadata": {},
     "output_type": "execute_result"
    }
   ],
   "source": [
    "train['DATE_SOLD'].head()"
   ]
  },
  {
   "cell_type": "code",
   "execution_count": 12,
   "id": "7cdfd7e9",
   "metadata": {},
   "outputs": [
    {
     "data": {
      "text/plain": [
       "'2015'"
      ]
     },
     "execution_count": 12,
     "metadata": {},
     "output_type": "execute_result"
    }
   ],
   "source": [
    "train['DATE_SOLD'][0][:2]\n",
    "train['DATE_SOLD'][0][3:-1]"
   ]
  },
  {
   "cell_type": "code",
   "execution_count": 13,
   "id": "5f9707e4",
   "metadata": {},
   "outputs": [],
   "source": [
    "def month_sold(date):\n",
    "    return int(date[:2])\n",
    "\n",
    "def year_sold(date):\n",
    "    return int(date[3:-1])"
   ]
  },
  {
   "cell_type": "code",
   "execution_count": 14,
   "id": "05764d40",
   "metadata": {},
   "outputs": [],
   "source": [
    "train['MONTH_SOLD'] = train['DATE_SOLD'].apply(month_sold)\n",
    "train['YEAR_SOLD'] = train['DATE_SOLD'].apply(year_sold)"
   ]
  },
  {
   "cell_type": "code",
   "execution_count": 15,
   "id": "11935cf8",
   "metadata": {},
   "outputs": [],
   "source": [
    "test['MONTH_SOLD'] = test['DATE_SOLD'].apply(month_sold)\n",
    "test['YEAR_SOLD'] = test['DATE_SOLD'].apply(year_sold)"
   ]
  },
  {
   "cell_type": "code",
   "execution_count": 16,
   "id": "038da114",
   "metadata": {},
   "outputs": [],
   "source": [
    "train.drop('DATE_SOLD', axis=1, inplace=True)\n",
    "test.drop('DATE_SOLD', axis=1, inplace=True)"
   ]
  },
  {
   "cell_type": "code",
   "execution_count": 17,
   "id": "a0274b88",
   "metadata": {
    "scrolled": true
   },
   "outputs": [
    {
     "data": {
      "text/plain": [
       "PRICE               1.000000\n",
       "SUBURB              0.728402\n",
       "NEAREST_STN         0.581309\n",
       "FLOOR_AREA          0.539524\n",
       "NEAREST_SCH_RANK    0.453937\n",
       "BATHROOMS           0.386485\n",
       "CBD_DIST            0.357368\n",
       "BEDROOMS            0.256909\n",
       "LONGITUDE           0.183514\n",
       "POSTCODE            0.162925\n",
       "BUILD_YEAR          0.148771\n",
       "GARAGE              0.124276\n",
       "NEAREST_STN_DIST    0.099370\n",
       "YEAR_SOLD           0.084380\n",
       "LAND_AREA           0.046778\n",
       "LATITUDE            0.046722\n",
       "NEAREST_SCH_DIST    0.024030\n",
       "MONTH_SOLD          0.001545\n",
       "Name: PRICE, dtype: float64"
      ]
     },
     "execution_count": 17,
     "metadata": {},
     "output_type": "execute_result"
    }
   ],
   "source": [
    "train.corr()['PRICE'].abs().sort_values(ascending=False)"
   ]
  },
  {
   "cell_type": "code",
   "execution_count": 18,
   "id": "ffe8aa80",
   "metadata": {},
   "outputs": [
    {
     "data": {
      "text/plain": [
       "count    13719.000000\n",
       "mean        27.075297\n",
       "std         20.931649\n",
       "min        -23.000000\n",
       "25%         12.000000\n",
       "50%         22.000000\n",
       "75%         38.000000\n",
       "max        145.000000\n",
       "dtype: float64"
      ]
     },
     "execution_count": 18,
     "metadata": {},
     "output_type": "execute_result"
    }
   ],
   "source": [
    "byb = train['BUILD_YEAR'].notnull()\n",
    "\n",
    "tbyb = train[byb]\n",
    "\n",
    "kk1 = tbyb['YEAR_SOLD'] - tbyb['BUILD_YEAR']\n",
    "\n",
    "kk1.describe() # 건축 날짜보다 판 날짜가 먼저인것은 말이 안 된다. 빼자\n",
    "\n",
    "byb = test['BUILD_YEAR'].notnull()\n",
    "\n",
    "tbyb = test[byb]\n",
    "\n",
    "kk2 = tbyb['YEAR_SOLD'] - tbyb['BUILD_YEAR']\n",
    "\n",
    "kk2.describe() # 근데 test에도 그런게 있으니까 빼지 말자"
   ]
  },
  {
   "cell_type": "code",
   "execution_count": 19,
   "id": "d6d7822e",
   "metadata": {},
   "outputs": [
    {
     "data": {
      "text/plain": [
       "26.82081992611131"
      ]
     },
     "execution_count": 19,
     "metadata": {},
     "output_type": "execute_result"
    }
   ],
   "source": [
    "kk1.mean()"
   ]
  },
  {
   "cell_type": "code",
   "execution_count": 20,
   "id": "93320b0f",
   "metadata": {},
   "outputs": [
    {
     "data": {
      "text/plain": [
       " 12.0     537\n",
       " 15.0     504\n",
       " 13.0     495\n",
       " 14.0     464\n",
       " 11.0     460\n",
       "         ... \n",
       " 123.0      1\n",
       " 128.0      1\n",
       "-12.0       1\n",
       " 122.0      1\n",
       " 147.0      1\n",
       "Length: 145, dtype: int64"
      ]
     },
     "execution_count": 20,
     "metadata": {},
     "output_type": "execute_result"
    }
   ],
   "source": [
    "kk1.value_counts()"
   ]
  },
  {
   "cell_type": "code",
   "execution_count": 21,
   "id": "6999b40c",
   "metadata": {},
   "outputs": [
    {
     "data": {
      "text/plain": [
       "Float64Index([ 12.0,  15.0,  13.0,  14.0,  11.0,  16.0,  10.0,  18.0,  17.0,\n",
       "                6.0,\n",
       "              ...\n",
       "              -17.0, 130.0, 134.0, 129.0, -10.0, 123.0, 128.0, -12.0, 122.0,\n",
       "              147.0],\n",
       "             dtype='float64', length=145)"
      ]
     },
     "execution_count": 21,
     "metadata": {},
     "output_type": "execute_result"
    }
   ],
   "source": [
    "kk1.value_counts().index"
   ]
  },
  {
   "cell_type": "code",
   "execution_count": 22,
   "id": "7b172bf1",
   "metadata": {},
   "outputs": [],
   "source": [
    "import matplotlib.pyplot as plt"
   ]
  },
  {
   "cell_type": "code",
   "execution_count": 23,
   "id": "40a53ab4",
   "metadata": {},
   "outputs": [
    {
     "data": {
      "text/plain": [
       "<matplotlib.collections.PathCollection at 0x29144fe22b0>"
      ]
     },
     "execution_count": 23,
     "metadata": {},
     "output_type": "execute_result"
    },
    {
     "data": {
      "image/png": "[encoded data removed]",
      "text/plain": [
       "<Figure size 432x288 with 1 Axes>"
      ]
     },
     "metadata": {
      "needs_background": "light"
     },
     "output_type": "display_data"
    }
   ],
   "source": [
    "plt.scatter(kk1.value_counts().index, kk1.value_counts().values) # 12에서 최고점을 찍는 것을 볼 수 있다"
   ]
  },
  {
   "cell_type": "code",
   "execution_count": 33,
   "id": "96b953d6",
   "metadata": {},
   "outputs": [
    {
     "data": {
      "text/plain": [
       "0"
      ]
     },
     "execution_count": 33,
     "metadata": {},
     "output_type": "execute_result"
    }
   ],
   "source": [
    "# 판 연도에서 12년을 빼서 건축 연도의 결측치를 채우자\n",
    "train['BUILD_YEAR'].fillna(train[train['BUILD_YEAR'].isnull()]['YEAR_SOLD'] - 12, inplace=True)\n",
    "train['BUILD_YEAR'].isnull().sum()"
   ]
  },
  {
   "cell_type": "code",
   "execution_count": 42,
   "id": "31aa373e",
   "metadata": {},
   "outputs": [
    {
     "data": {
      "text/plain": [
       "0"
      ]
     },
     "execution_count": 42,
     "metadata": {},
     "output_type": "execute_result"
    }
   ],
   "source": [
    "test['BUILD_YEAR'].fillna(test[test['BUILD_YEAR'].isnull()]['YEAR_SOLD'] - 12, inplace=True)\n",
    "test['BUILD_YEAR'].isnull().sum()"
   ]
  },
  {
   "cell_type": "code",
   "execution_count": 36,
   "id": "9a828785",
   "metadata": {},
   "outputs": [
    {
     "data": {
      "text/plain": [
       "0"
      ]
     },
     "execution_count": 36,
     "metadata": {},
     "output_type": "execute_result"
    }
   ],
   "source": [
    "# GARAGE는 최빈값 2.0을 넣자\n",
    "train['GARAGE'].fillna(2.0, inplace=True)\n",
    "train['GARAGE'].isnull().sum()"
   ]
  },
  {
   "cell_type": "code",
   "execution_count": 43,
   "id": "66de5e65",
   "metadata": {},
   "outputs": [
    {
     "data": {
      "text/plain": [
       "0"
      ]
     },
     "execution_count": 43,
     "metadata": {},
     "output_type": "execute_result"
    }
   ],
   "source": [
    "# GARAGE는 최빈값 2.0을 넣자\n",
    "test['GARAGE'].fillna(2.0, inplace=True)\n",
    "test['GARAGE'].isnull().sum()"
   ]
  },
  {
   "cell_type": "code",
   "execution_count": 37,
   "id": "4f2e3580",
   "metadata": {},
   "outputs": [
    {
     "data": {
      "text/plain": [
       "PRICE               1.000000\n",
       "SUBURB              0.728402\n",
       "NEAREST_STN         0.581309\n",
       "FLOOR_AREA          0.539524\n",
       "NEAREST_SCH_RANK    0.453937\n",
       "BATHROOMS           0.386485\n",
       "CBD_DIST            0.357368\n",
       "BEDROOMS            0.256909\n",
       "LONGITUDE           0.183514\n",
       "POSTCODE            0.162925\n",
       "BUILD_YEAR          0.141895\n",
       "GARAGE              0.121527\n",
       "NEAREST_STN_DIST    0.099370\n",
       "YEAR_SOLD           0.084380\n",
       "LAND_AREA           0.046778\n",
       "LATITUDE            0.046722\n",
       "NEAREST_SCH_DIST    0.024030\n",
       "MONTH_SOLD          0.001545\n",
       "Name: PRICE, dtype: float64"
      ]
     },
     "execution_count": 37,
     "metadata": {},
     "output_type": "execute_result"
    }
   ],
   "source": [
    "train.corr()['PRICE'].abs().sort_values(ascending=False)"
   ]
  },
  {
   "cell_type": "code",
   "execution_count": 50,
   "id": "74ec22f3",
   "metadata": {},
   "outputs": [
    {
     "data": {
      "text/html": [
       "<div>\n",
       "<style scoped>\n",
       "    .dataframe tbody tr th:only-of-type {\n",
       "        vertical-align: middle;\n",
       "    }\n",
       "\n",
       "    .dataframe tbody tr th {\n",
       "        vertical-align: top;\n",
       "    }\n",
       "\n",
       "    .dataframe thead th {\n",
       "        text-align: right;\n",
       "    }\n",
       "</style>\n",
       "<table border=\"1\" class=\"dataframe\">\n",
       "  <thead>\n",
       "    <tr style=\"text-align: right;\">\n",
       "      <th></th>\n",
       "      <th>NEAREST_SCH_RANK</th>\n",
       "    </tr>\n",
       "    <tr>\n",
       "      <th>NEAREST_SCH</th>\n",
       "      <th></th>\n",
       "    </tr>\n",
       "  </thead>\n",
       "  <tbody>\n",
       "    <tr>\n",
       "      <th>PERTH MODERN SCHOOL</th>\n",
       "      <td>1.0</td>\n",
       "    </tr>\n",
       "    <tr>\n",
       "      <th>ST HILDA'S ANGLICAN SCHOOL FOR GIRLS</th>\n",
       "      <td>2.0</td>\n",
       "    </tr>\n",
       "    <tr>\n",
       "      <th>CHRIST CHURCH GRAMMAR SCHOOL</th>\n",
       "      <td>3.0</td>\n",
       "    </tr>\n",
       "    <tr>\n",
       "      <th>PENRHOS COLLEGE</th>\n",
       "      <td>4.0</td>\n",
       "    </tr>\n",
       "    <tr>\n",
       "      <th>METHODIST LADIES' COLLEGE</th>\n",
       "      <td>5.0</td>\n",
       "    </tr>\n",
       "    <tr>\n",
       "      <th>...</th>\n",
       "      <td>...</td>\n",
       "    </tr>\n",
       "    <tr>\n",
       "      <th>TREETOPS MONTESSORI SCHOOL</th>\n",
       "      <td>NaN</td>\n",
       "    </tr>\n",
       "    <tr>\n",
       "      <th>WARNBRO COMMUNITY HIGH SCHOOL</th>\n",
       "      <td>NaN</td>\n",
       "    </tr>\n",
       "    <tr>\n",
       "      <th>WARWICK SENIOR HIGH SCHOOL</th>\n",
       "      <td>NaN</td>\n",
       "    </tr>\n",
       "    <tr>\n",
       "      <th>YANCHEP SECONDARY COLLEGE</th>\n",
       "      <td>NaN</td>\n",
       "    </tr>\n",
       "    <tr>\n",
       "      <th>YOUTH FUTURES COMMUNITY SCHOOL</th>\n",
       "      <td>NaN</td>\n",
       "    </tr>\n",
       "  </tbody>\n",
       "</table>\n",
       "<p>159 rows × 1 columns</p>\n",
       "</div>"
      ],
      "text/plain": [
       "                                      NEAREST_SCH_RANK\n",
       "NEAREST_SCH                                           \n",
       "PERTH MODERN SCHOOL                                1.0\n",
       "ST HILDA'S ANGLICAN SCHOOL FOR GIRLS               2.0\n",
       "CHRIST CHURCH GRAMMAR SCHOOL                       3.0\n",
       "PENRHOS COLLEGE                                    4.0\n",
       "METHODIST LADIES' COLLEGE                          5.0\n",
       "...                                                ...\n",
       "TREETOPS MONTESSORI SCHOOL                         NaN\n",
       "WARNBRO COMMUNITY HIGH SCHOOL                      NaN\n",
       "WARWICK SENIOR HIGH SCHOOL                         NaN\n",
       "YANCHEP SECONDARY COLLEGE                          NaN\n",
       "YOUTH FUTURES COMMUNITY SCHOOL                     NaN\n",
       "\n",
       "[159 rows x 1 columns]"
      ]
     },
     "execution_count": 50,
     "metadata": {},
     "output_type": "execute_result"
    }
   ],
   "source": [
    "train[['NEAREST_SCH', 'NEAREST_SCH_RANK']].groupby('NEAREST_SCH').mean().sort_values('NEAREST_SCH_RANK')"
   ]
  },
  {
   "cell_type": "code",
   "execution_count": 55,
   "id": "9e460f0f",
   "metadata": {},
   "outputs": [],
   "source": [
    "train_sch = train[train['NEAREST_SCH_RANK'].isnull()]\n",
    "test_sch = train[train['NEAREST_SCH_RANK'].notnull()]"
   ]
  },
  {
   "cell_type": "code",
   "execution_count": 53,
   "id": "ee6dabdf",
   "metadata": {},
   "outputs": [
    {
     "data": {
      "text/plain": [
       "NEAREST_SCH_RANK    1.000000\n",
       "SUBURB              0.500715\n",
       "NEAREST_STN         0.477699\n",
       "PRICE               0.453937\n",
       "CBD_DIST            0.324407\n",
       "LONGITUDE           0.244113\n",
       "POSTCODE            0.190799\n",
       "NEAREST_STN_DIST    0.184562\n",
       "NEAREST_SCH_DIST    0.155208\n",
       "BUILD_YEAR          0.148622\n",
       "FLOOR_AREA          0.136373\n",
       "BATHROOMS           0.095940\n",
       "LATITUDE            0.050500\n",
       "YEAR_SOLD           0.035555\n",
       "LAND_AREA           0.034244\n",
       "BEDROOMS            0.029626\n",
       "GARAGE              0.012876\n",
       "MONTH_SOLD          0.002245\n",
       "Name: NEAREST_SCH_RANK, dtype: float64"
      ]
     },
     "execution_count": 53,
     "metadata": {},
     "output_type": "execute_result"
    }
   ],
   "source": [
    "train.corr()['NEAREST_SCH_RANK'].abs().sort_values(ascending=False)"
   ]
  }
 ],
 "metadata": {
  "kernelspec": {
   "display_name": "Python 3 (ipykernel)",
   "language": "python",
   "name": "python3"
  },
  "language_info": {
   "codemirror_mode": {
    "name": "ipython",
    "version": 3
   },
   "file_extension": ".py",
   "mimetype": "text/x-python",
   "name": "python",
   "nbconvert_exporter": "python",
   "pygments_lexer": "ipython3",
   "version": "3.9.12"
  }
 },
 "nbformat": 4,
 "nbformat_minor": 5
}
