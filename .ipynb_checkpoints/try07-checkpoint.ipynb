{
 "cells": [
  {
   "cell_type": "code",
   "execution_count": 1,
   "id": "189074a7",
   "metadata": {},
   "outputs": [],
   "source": [
    "import pandas as pd"
   ]
  },
  {
   "cell_type": "code",
   "execution_count": 2,
   "id": "8e21ab29",
   "metadata": {},
   "outputs": [],
   "source": [
    "train = pd.read_csv('data/train.csv', index_col='ID')\n",
    "test = pd.read_csv('data/test.csv', index_col='ID')"
   ]
  },
  {
   "cell_type": "code",
   "execution_count": 3,
   "id": "a8ddc430",
   "metadata": {},
   "outputs": [
    {
     "data": {
      "text/plain": [
       "PRICE               1.000000\n",
       "FLOOR_AREA          0.539524\n",
       "NEAREST_SCH_RANK    0.453937\n",
       "BATHROOMS           0.386485\n",
       "CBD_DIST            0.357368\n",
       "BEDROOMS            0.256909\n",
       "LONGITUDE           0.183514\n",
       "POSTCODE            0.162925\n",
       "BUILD_YEAR          0.148771\n",
       "GARAGE              0.124276\n",
       "NEAREST_STN_DIST    0.099370\n",
       "LAND_AREA           0.046778\n",
       "LATITUDE            0.046722\n",
       "NEAREST_SCH_DIST    0.024030\n",
       "Name: PRICE, dtype: float64"
      ]
     },
     "execution_count": 3,
     "metadata": {},
     "output_type": "execute_result"
    }
   ],
   "source": [
    "train.corr()['PRICE'].abs().sort_values(ascending=False)"
   ]
  },
  {
   "cell_type": "code",
   "execution_count": 4,
   "id": "27d360ec",
   "metadata": {},
   "outputs": [
    {
     "data": {
      "text/plain": [
       "count    18510.000000\n",
       "mean      4540.610535\n",
       "std       4534.872190\n",
       "min         46.000000\n",
       "25%       1800.000000\n",
       "50%       3200.000000\n",
       "75%       5300.000000\n",
       "max      35500.000000\n",
       "Name: NEAREST_STN_DIST, dtype: float64"
      ]
     },
     "execution_count": 4,
     "metadata": {},
     "output_type": "execute_result"
    }
   ],
   "source": [
    "train['NEAREST_STN_DIST'].describe()"
   ]
  },
  {
   "cell_type": "code",
   "execution_count": 5,
   "id": "70b29e6d",
   "metadata": {},
   "outputs": [
    {
     "data": {
      "text/plain": [
       "ID\n",
       "14806    999999\n",
       "4115     999999\n",
       "11523    999999\n",
       "12373    983690\n",
       "10191    566786\n",
       "Name: LAND_AREA, dtype: int64"
      ]
     },
     "execution_count": 5,
     "metadata": {},
     "output_type": "execute_result"
    }
   ],
   "source": [
    "train['LAND_AREA'].sort_values(ascending=False).head()"
   ]
  },
  {
   "cell_type": "code",
   "execution_count": 6,
   "id": "c3537312",
   "metadata": {},
   "outputs": [],
   "source": [
    "# 4115, 11523, 14806, 12373\n",
    "\n",
    "train.drop(4115, inplace=True)\n",
    "train.drop(11523, inplace=True)\n",
    "train.drop(14806, inplace=True)\n",
    "train.drop(12373, inplace=True)"
   ]
  },
  {
   "cell_type": "code",
   "execution_count": 7,
   "id": "10f42726",
   "metadata": {},
   "outputs": [
    {
     "data": {
      "text/plain": [
       "ID\n",
       "12576    99.0\n",
       "3566     32.0\n",
       "10928    26.0\n",
       "10735    21.0\n",
       "500      20.0\n",
       "Name: GARAGE, dtype: float64"
      ]
     },
     "execution_count": 7,
     "metadata": {},
     "output_type": "execute_result"
    }
   ],
   "source": [
    "train['GARAGE'].sort_values(ascending=False).head()"
   ]
  },
  {
   "cell_type": "code",
   "execution_count": 8,
   "id": "34140ffd",
   "metadata": {},
   "outputs": [],
   "source": [
    "train.drop(12576, inplace=True)"
   ]
  },
  {
   "cell_type": "code",
   "execution_count": 9,
   "id": "18c165ed",
   "metadata": {},
   "outputs": [
    {
     "data": {
      "text/plain": [
       "ID\n",
       "0               9 Crumlin Way\n",
       "1    37 Sissinghurst Crescent\n",
       "2               24 Tees Court\n",
       "3          31 Brentham Street\n",
       "4        46/1 Corkhill Street\n",
       "Name: ADDRESS, dtype: object"
      ]
     },
     "execution_count": 9,
     "metadata": {},
     "output_type": "execute_result"
    }
   ],
   "source": [
    "train['ADDRESS'].head()"
   ]
  },
  {
   "cell_type": "code",
   "execution_count": 10,
   "id": "ff81625d",
   "metadata": {},
   "outputs": [],
   "source": [
    "def change_address(ad):\n",
    "    li_ad = ad.split()\n",
    "    return (li_ad[-1]).upper()"
   ]
  },
  {
   "cell_type": "code",
   "execution_count": 11,
   "id": "f1b2457d",
   "metadata": {},
   "outputs": [],
   "source": [
    "train['ADDRESS'] = train['ADDRESS'].apply(change_address)\n",
    "test['ADDRESS'] = test['ADDRESS'].apply(change_address)"
   ]
  },
  {
   "cell_type": "code",
   "execution_count": 12,
   "id": "4750b89b",
   "metadata": {},
   "outputs": [],
   "source": [
    "dict_addr = {\n",
    "    'STREET':1,\n",
    "    'ROAD':2,\n",
    "    'WAY':3,\n",
    "    'AVENUE':4,\n",
    "    'DRIVE':4,\n",
    "    'PLACE':5,\n",
    "    'COURT':5,\n",
    "    'CRESCENT':5,\n",
    "    'LOOP':6,\n",
    "    'CLOSE':6,\n",
    "    'PARADE':7,\n",
    "    'BOULEVARD':7,\n",
    "    'TERRACE':8,\n",
    "    'LANE':8,\n",
    "    'MEWS':8,\n",
    "    'RISE':8,\n",
    "    'CIRCLE':8,\n",
    "    'CIRCUIT':8,\n",
    "    'GROVE':9,\n",
    "    'GARDENS':9,\n",
    "    'TURN':9,\n",
    "    'BEND':10,\n",
    "    'PASS':11,\n",
    "    'LINK':11,\n",
    "    'RETREAT':12,\n",
    "    'ENTRANCE':12,\n",
    "    'HIGHWAY':12,\n",
    "    'PROMENADE':13,\n",
    "    'PARKWAY':13,\n",
    "    'COVE':13,\n",
    "    'APPROACH':13,\n",
    "    'HEIGHTS':13,\n",
    "    'VISTA':13,\n",
    "    'VIEW':14,\n",
    "    'ELBOW':14,\n",
    "    'GREEN':14,\n",
    "    'MEANDER':14,\n",
    "    'GLEN':14,\n",
    "    'CHASE':14,\n",
    "    'RIDGE':14,\n",
    "    'CORNER':14,\n",
    "    'CROSS':14,\n",
    "    'RAMBLE':14,\n",
    "    'FAIRWAY':15,\n",
    "    'SQUARE':15,\n",
    "    'GLADE':15,\n",
    "    'CIRCUS':15,\n",
    "    'TRAIL':15,\n",
    "    'LOOKOUT':15,\n",
    "    'VALE':15,\n",
    "    'FAIRWAYS':15,\n",
    "    'CREST':15,\n",
    "    'KINGSWAY':15,\n",
    "    'ESPLANADE':15,\n",
    "    'GATE':15,\n",
    "    'TOR':15,\n",
    "    'GRANGE':15,\n",
    "    'EMBANKMENT':15,\n",
    "    'DALE':15,\n",
    "    'BRACE':15,\n",
    "    'BROADWAY':15,\n",
    "    'WALK':15,\n",
    "    'CONCOURSE':15,\n",
    "    'ROW':15,\n",
    "    'HILL':15,\n",
    "    'EDGE':15,\n",
    "    'BOARDWALK':15,\n",
    "    'EYRIE':15,\n",
    "    'ARCADE':15,\n",
    "    'MEAD':15,\n",
    "    'FOLLOW':15,\n",
    "    'HORSESHOE':15,\n",
    "    'BROADVIEW':15,\n",
    "    'OUTLOOK':15,\n",
    "    'BOULEVARDE':15,\n",
    "    'MALL':15,\n",
    "    'CUTTING':15,\n",
    "    'BYPASS':15,\n",
    "    'REST':15,\n",
    "    'STRAND':15,\n",
    "    'CEDUS':15,\n",
    "    'PLAZA':15,\n",
    "    'CROSSING':15,\n",
    "    'ALLEY':15,\n",
    "    'HILLWAY':15,\n",
    "    'END':15,\n",
    "    'KEY':15,\n",
    "    'ANCHORAGE':15,\n",
    "    'OAKS':15,\n",
    "    'LANTERNS':15,\n",
    "    'GETAWAY':15,\n",
    "    'RIDGEWAY':15,\n",
    "    'PINNACLE':15,\n",
    "    'OVAL':15,\n",
    "    'GAP':15,\n",
    "    'BROADWATER':15,\n",
    "    'CROSSWAY':15,\n",
    "    'GLENWAY':15,\n",
    "    'LAXTON':15,\n",
    "    'LINKS':15,\n",
    "    'RETURN':15,\n",
    "    'RIVERWALK':15,\n",
    "    'RIVERWAY':15,\n",
    "    'SPIT':15,\n",
    "    'TAFFRAIL':15,\n",
    "    'TIMBERTOP':15,\n",
    "    'TOP':15,\n",
    "    'VIEWWAY':15\n",
    "}"
   ]
  },
  {
   "cell_type": "code",
   "execution_count": 13,
   "id": "637967fc",
   "metadata": {},
   "outputs": [],
   "source": [
    "train['ADDRESS'] = train['ADDRESS'].map(dict_addr)\n",
    "test['ADDRESS'] = test['ADDRESS'].map(dict_addr)"
   ]
  },
  {
   "cell_type": "code",
   "execution_count": 14,
   "id": "8a61abe5",
   "metadata": {},
   "outputs": [
    {
     "data": {
      "text/plain": [
       "set()"
      ]
     },
     "execution_count": 14,
     "metadata": {},
     "output_type": "execute_result"
    }
   ],
   "source": [
    "set(test['ADDRESS'].unique()) - set(train['ADDRESS'].unique())"
   ]
  },
  {
   "cell_type": "code",
   "execution_count": 15,
   "id": "20948959",
   "metadata": {},
   "outputs": [
    {
     "data": {
      "text/plain": [
       "PRICE               1.000000\n",
       "FLOOR_AREA          0.539515\n",
       "NEAREST_SCH_RANK    0.454122\n",
       "BATHROOMS           0.386566\n",
       "CBD_DIST            0.357340\n",
       "BEDROOMS            0.256913\n",
       "LONGITUDE           0.183518\n",
       "POSTCODE            0.163032\n",
       "GARAGE              0.148633\n",
       "BUILD_YEAR          0.148597\n",
       "ADDRESS             0.111505\n",
       "NEAREST_STN_DIST    0.099240\n",
       "LAND_AREA           0.081050\n",
       "LATITUDE            0.046942\n",
       "NEAREST_SCH_DIST    0.024078\n",
       "Name: PRICE, dtype: float64"
      ]
     },
     "execution_count": 15,
     "metadata": {},
     "output_type": "execute_result"
    }
   ],
   "source": [
    "train.corr()['PRICE'].abs().sort_values(ascending=False)"
   ]
  },
  {
   "cell_type": "code",
   "execution_count": 16,
   "id": "ac838ce1",
   "metadata": {},
   "outputs": [
    {
     "data": {
      "text/html": [
       "<div>\n",
       "<style scoped>\n",
       "    .dataframe tbody tr th:only-of-type {\n",
       "        vertical-align: middle;\n",
       "    }\n",
       "\n",
       "    .dataframe tbody tr th {\n",
       "        vertical-align: top;\n",
       "    }\n",
       "\n",
       "    .dataframe thead th {\n",
       "        text-align: right;\n",
       "    }\n",
       "</style>\n",
       "<table border=\"1\" class=\"dataframe\">\n",
       "  <thead>\n",
       "    <tr style=\"text-align: right;\">\n",
       "      <th></th>\n",
       "      <th>ADDRESS</th>\n",
       "      <th>SUBURB</th>\n",
       "      <th>PRICE</th>\n",
       "      <th>BEDROOMS</th>\n",
       "      <th>BATHROOMS</th>\n",
       "      <th>GARAGE</th>\n",
       "      <th>LAND_AREA</th>\n",
       "      <th>FLOOR_AREA</th>\n",
       "      <th>BUILD_YEAR</th>\n",
       "      <th>CBD_DIST</th>\n",
       "      <th>NEAREST_STN</th>\n",
       "      <th>NEAREST_STN_DIST</th>\n",
       "      <th>DATE_SOLD</th>\n",
       "      <th>POSTCODE</th>\n",
       "      <th>LATITUDE</th>\n",
       "      <th>LONGITUDE</th>\n",
       "      <th>NEAREST_SCH</th>\n",
       "      <th>NEAREST_SCH_DIST</th>\n",
       "      <th>NEAREST_SCH_RANK</th>\n",
       "    </tr>\n",
       "    <tr>\n",
       "      <th>ID</th>\n",
       "      <th></th>\n",
       "      <th></th>\n",
       "      <th></th>\n",
       "      <th></th>\n",
       "      <th></th>\n",
       "      <th></th>\n",
       "      <th></th>\n",
       "      <th></th>\n",
       "      <th></th>\n",
       "      <th></th>\n",
       "      <th></th>\n",
       "      <th></th>\n",
       "      <th></th>\n",
       "      <th></th>\n",
       "      <th></th>\n",
       "      <th></th>\n",
       "      <th></th>\n",
       "      <th></th>\n",
       "      <th></th>\n",
       "    </tr>\n",
       "  </thead>\n",
       "  <tbody>\n",
       "    <tr>\n",
       "      <th>0</th>\n",
       "      <td>3</td>\n",
       "      <td>Ridgewood</td>\n",
       "      <td>520000</td>\n",
       "      <td>5</td>\n",
       "      <td>2</td>\n",
       "      <td>4.0</td>\n",
       "      <td>674</td>\n",
       "      <td>266</td>\n",
       "      <td>2007.0</td>\n",
       "      <td>35500</td>\n",
       "      <td>Butler Station</td>\n",
       "      <td>3000</td>\n",
       "      <td>09-2015\\r</td>\n",
       "      <td>6030</td>\n",
       "      <td>-31.656206</td>\n",
       "      <td>115.720566</td>\n",
       "      <td>IRENE MCCORMACK CATHOLIC COLLEGE</td>\n",
       "      <td>1.079230</td>\n",
       "      <td>120.0</td>\n",
       "    </tr>\n",
       "    <tr>\n",
       "      <th>1</th>\n",
       "      <td>5</td>\n",
       "      <td>Landsdale</td>\n",
       "      <td>575000</td>\n",
       "      <td>5</td>\n",
       "      <td>4</td>\n",
       "      <td>2.0</td>\n",
       "      <td>540</td>\n",
       "      <td>301</td>\n",
       "      <td>2014.0</td>\n",
       "      <td>16900</td>\n",
       "      <td>Whitfords Station</td>\n",
       "      <td>8100</td>\n",
       "      <td>07-2018\\r</td>\n",
       "      <td>6065</td>\n",
       "      <td>-31.800802</td>\n",
       "      <td>115.867675</td>\n",
       "      <td>LANDSDALE CHRISTIAN SCHOOL</td>\n",
       "      <td>0.667585</td>\n",
       "      <td>NaN</td>\n",
       "    </tr>\n",
       "    <tr>\n",
       "      <th>2</th>\n",
       "      <td>5</td>\n",
       "      <td>Mindarie</td>\n",
       "      <td>760000</td>\n",
       "      <td>4</td>\n",
       "      <td>2</td>\n",
       "      <td>2.0</td>\n",
       "      <td>781</td>\n",
       "      <td>220</td>\n",
       "      <td>1992.0</td>\n",
       "      <td>33500</td>\n",
       "      <td>Clarkson Station</td>\n",
       "      <td>3500</td>\n",
       "      <td>02-2020\\r</td>\n",
       "      <td>6030</td>\n",
       "      <td>-31.682040</td>\n",
       "      <td>115.702600</td>\n",
       "      <td>MINDARIE SENIOR COLLEGE</td>\n",
       "      <td>0.650761</td>\n",
       "      <td>111.0</td>\n",
       "    </tr>\n",
       "  </tbody>\n",
       "</table>\n",
       "</div>"
      ],
      "text/plain": [
       "    ADDRESS     SUBURB   PRICE  BEDROOMS  BATHROOMS  GARAGE  LAND_AREA  \\\n",
       "ID                                                                       \n",
       "0         3  Ridgewood  520000         5          2     4.0        674   \n",
       "1         5  Landsdale  575000         5          4     2.0        540   \n",
       "2         5   Mindarie  760000         4          2     2.0        781   \n",
       "\n",
       "    FLOOR_AREA  BUILD_YEAR  CBD_DIST        NEAREST_STN  NEAREST_STN_DIST  \\\n",
       "ID                                                                          \n",
       "0          266      2007.0     35500     Butler Station              3000   \n",
       "1          301      2014.0     16900  Whitfords Station              8100   \n",
       "2          220      1992.0     33500   Clarkson Station              3500   \n",
       "\n",
       "    DATE_SOLD  POSTCODE   LATITUDE   LONGITUDE  \\\n",
       "ID                                               \n",
       "0   09-2015\\r      6030 -31.656206  115.720566   \n",
       "1   07-2018\\r      6065 -31.800802  115.867675   \n",
       "2   02-2020\\r      6030 -31.682040  115.702600   \n",
       "\n",
       "                         NEAREST_SCH  NEAREST_SCH_DIST  NEAREST_SCH_RANK  \n",
       "ID                                                                        \n",
       "0   IRENE MCCORMACK CATHOLIC COLLEGE          1.079230             120.0  \n",
       "1         LANDSDALE CHRISTIAN SCHOOL          0.667585               NaN  \n",
       "2            MINDARIE SENIOR COLLEGE          0.650761             111.0  "
      ]
     },
     "execution_count": 16,
     "metadata": {},
     "output_type": "execute_result"
    }
   ],
   "source": [
    "train.head(3)"
   ]
  },
  {
   "cell_type": "code",
   "execution_count": 17,
   "id": "44e2b521",
   "metadata": {
    "scrolled": true
   },
   "outputs": [],
   "source": [
    "sub_sortby_price = train[['SUBURB', 'PRICE']].groupby(by='SUBURB').mean().sort_values('PRICE', ascending=False)\n",
    "\n",
    "sub_cols = sub_sortby_price.index\n",
    "\n",
    "sub_dict = {}\n",
    "for i, col in enumerate(sub_cols):\n",
    "    sub_dict[col] = i\n",
    "    \n",
    "train['SUBURB'] = train['SUBURB'].map(sub_dict)\n",
    "test['SUBURB'] = test['SUBURB'].map(sub_dict)"
   ]
  },
  {
   "cell_type": "code",
   "execution_count": 18,
   "id": "48316a50",
   "metadata": {},
   "outputs": [
    {
     "data": {
      "text/plain": [
       "PRICE               1.000000\n",
       "SUBURB              0.728384\n",
       "FLOOR_AREA          0.539515\n",
       "NEAREST_SCH_RANK    0.454122\n",
       "BATHROOMS           0.386566\n",
       "CBD_DIST            0.357340\n",
       "BEDROOMS            0.256913\n",
       "LONGITUDE           0.183518\n",
       "POSTCODE            0.163032\n",
       "GARAGE              0.148633\n",
       "BUILD_YEAR          0.148597\n",
       "ADDRESS             0.111505\n",
       "NEAREST_STN_DIST    0.099240\n",
       "LAND_AREA           0.081050\n",
       "LATITUDE            0.046942\n",
       "NEAREST_SCH_DIST    0.024078\n",
       "Name: PRICE, dtype: float64"
      ]
     },
     "execution_count": 18,
     "metadata": {},
     "output_type": "execute_result"
    }
   ],
   "source": [
    "train.corr()['PRICE'].abs().sort_values(ascending=False)"
   ]
  },
  {
   "cell_type": "code",
   "execution_count": 19,
   "id": "6dd4288f",
   "metadata": {},
   "outputs": [],
   "source": [
    "stn_sortby_price = train[['NEAREST_STN', 'PRICE']].groupby(by='NEAREST_STN').mean().sort_values('PRICE', ascending=False)\n",
    "\n",
    "stn_cols = stn_sortby_price.index\n",
    "\n",
    "stn_dict = {}\n",
    "for i, col in enumerate(stn_cols):\n",
    "    sub_dict[col] = i\n",
    "    \n",
    "train['NEAREST_STN'] = train['NEAREST_STN'].map(sub_dict)\n",
    "test['NEAREST_STN'] = test['NEAREST_STN'].map(sub_dict)"
   ]
  },
  {
   "cell_type": "code",
   "execution_count": 20,
   "id": "9a83138b",
   "metadata": {},
   "outputs": [
    {
     "data": {
      "text/plain": [
       "PRICE               1.000000\n",
       "SUBURB              0.728384\n",
       "NEAREST_STN         0.581367\n",
       "FLOOR_AREA          0.539515\n",
       "NEAREST_SCH_RANK    0.454122\n",
       "BATHROOMS           0.386566\n",
       "CBD_DIST            0.357340\n",
       "BEDROOMS            0.256913\n",
       "LONGITUDE           0.183518\n",
       "POSTCODE            0.163032\n",
       "GARAGE              0.148633\n",
       "BUILD_YEAR          0.148597\n",
       "ADDRESS             0.111505\n",
       "NEAREST_STN_DIST    0.099240\n",
       "LAND_AREA           0.081050\n",
       "LATITUDE            0.046942\n",
       "NEAREST_SCH_DIST    0.024078\n",
       "Name: PRICE, dtype: float64"
      ]
     },
     "execution_count": 20,
     "metadata": {},
     "output_type": "execute_result"
    }
   ],
   "source": [
    "train.corr()['PRICE'].abs().sort_values(ascending=False)"
   ]
  },
  {
   "cell_type": "code",
   "execution_count": 21,
   "id": "25656e69",
   "metadata": {},
   "outputs": [],
   "source": [
    "test['SUBURB'] = test['SUBURB'].fillna(train['SUBURB'].mean())"
   ]
  },
  {
   "cell_type": "code",
   "execution_count": 22,
   "id": "3c3ff4f1",
   "metadata": {},
   "outputs": [],
   "source": [
    "def month_sold(date):\n",
    "    return int(date[:2])\n",
    "\n",
    "def year_sold(date):\n",
    "    return int(date[3:-1])"
   ]
  },
  {
   "cell_type": "code",
   "execution_count": 23,
   "id": "0cabbd54",
   "metadata": {},
   "outputs": [],
   "source": [
    "train['MONTH_SOLD'] = train['DATE_SOLD'].apply(month_sold)\n",
    "train['YEAR_SOLD'] = train['DATE_SOLD'].apply(year_sold)"
   ]
  },
  {
   "cell_type": "code",
   "execution_count": 24,
   "id": "fff64200",
   "metadata": {},
   "outputs": [],
   "source": [
    "test['MONTH_SOLD'] = test['DATE_SOLD'].apply(month_sold)\n",
    "test['YEAR_SOLD'] = test['DATE_SOLD'].apply(year_sold)"
   ]
  },
  {
   "cell_type": "code",
   "execution_count": 25,
   "id": "99aa5743",
   "metadata": {},
   "outputs": [],
   "source": [
    "train.drop('DATE_SOLD', axis=1, inplace=True)\n",
    "test.drop('DATE_SOLD', axis=1, inplace=True)"
   ]
  },
  {
   "cell_type": "code",
   "execution_count": 26,
   "id": "845adb10",
   "metadata": {},
   "outputs": [],
   "source": [
    "train['FA/LA'] = train['FLOOR_AREA'] / train['LAND_AREA']\n",
    "test['FA/LA'] = test['FLOOR_AREA'] / test['LAND_AREA']"
   ]
  },
  {
   "cell_type": "code",
   "execution_count": 27,
   "id": "c1b0ea4c",
   "metadata": {},
   "outputs": [
    {
     "data": {
      "text/plain": [
       "PRICE               1.000000\n",
       "SUBURB              0.728384\n",
       "NEAREST_STN         0.581367\n",
       "FLOOR_AREA          0.539515\n",
       "NEAREST_SCH_RANK    0.454122\n",
       "BATHROOMS           0.386566\n",
       "CBD_DIST            0.357340\n",
       "BEDROOMS            0.256913\n",
       "FA/LA               0.220240\n",
       "LONGITUDE           0.183518\n",
       "POSTCODE            0.163032\n",
       "GARAGE              0.148633\n",
       "BUILD_YEAR          0.148597\n",
       "ADDRESS             0.111505\n",
       "NEAREST_STN_DIST    0.099240\n",
       "YEAR_SOLD           0.084474\n",
       "LAND_AREA           0.081050\n",
       "LATITUDE            0.046942\n",
       "NEAREST_SCH_DIST    0.024078\n",
       "MONTH_SOLD          0.001529\n",
       "Name: PRICE, dtype: float64"
      ]
     },
     "execution_count": 27,
     "metadata": {},
     "output_type": "execute_result"
    }
   ],
   "source": [
    "train.corr()['PRICE'].abs().sort_values(ascending=False)"
   ]
  },
  {
   "cell_type": "code",
   "execution_count": 28,
   "id": "6ce8da69",
   "metadata": {},
   "outputs": [],
   "source": [
    "def fix_sch(sch):\n",
    "    fs = sch.split()\n",
    "    return fs[-1]"
   ]
  },
  {
   "cell_type": "code",
   "execution_count": 29,
   "id": "4358ee38",
   "metadata": {},
   "outputs": [],
   "source": [
    "# COLLEGE 1\n",
    "# SHCOOL 2\n",
    "# 대안학교 3\n",
    "\n",
    "dict_sch = {\n",
    "    'COLLEGE':1,\n",
    "    'SCHOOL':2,\n",
    "    'ARTS':1,\n",
    "    'CAMPUS':2,\n",
    "    'KEWDALE':1,\n",
    "    'ALTA-1':3,\n",
    "    'AUSTRALIA':2,\n",
    "    'PERTH':1,\n",
    "    'GIRLS':2,\n",
    "    'WA':3,\n",
    "    'ACADEMY':3,\n",
    "    'GRAMMAR':2\n",
    "}"
   ]
  },
  {
   "cell_type": "code",
   "execution_count": 30,
   "id": "6162e27a",
   "metadata": {},
   "outputs": [],
   "source": [
    "train['SCH_FIX'] = train['NEAREST_SCH'].apply(fix_sch)\n",
    "test['SCH_FIX'] = test['NEAREST_SCH'].apply(fix_sch)"
   ]
  },
  {
   "cell_type": "code",
   "execution_count": 31,
   "id": "2062a269",
   "metadata": {},
   "outputs": [],
   "source": [
    "train['SCH_FIX'] = train['SCH_FIX'].map(dict_sch)\n",
    "test['SCH_FIX'] = test['SCH_FIX'].map(dict_sch)"
   ]
  },
  {
   "cell_type": "code",
   "execution_count": 32,
   "id": "49a5008e",
   "metadata": {},
   "outputs": [],
   "source": [
    "train['GARAGE'].fillna(2.0, inplace=True)\n",
    "test['GARAGE'].fillna(2.0, inplace=True)"
   ]
  },
  {
   "cell_type": "code",
   "execution_count": 33,
   "id": "2eb20dff",
   "metadata": {
    "scrolled": false
   },
   "outputs": [
    {
     "data": {
      "text/plain": [
       "BUILD_YEAR          1.000000\n",
       "BATHROOMS           0.345818\n",
       "FA/LA               0.340308\n",
       "ADDRESS             0.284111\n",
       "CBD_DIST            0.258195\n",
       "BEDROOMS            0.234340\n",
       "FLOOR_AREA          0.230543\n",
       "NEAREST_STN         0.207481\n",
       "SUBURB              0.190254\n",
       "NEAREST_SCH_RANK    0.151487\n",
       "PRICE               0.148597\n",
       "NEAREST_SCH_DIST    0.096927\n",
       "NEAREST_STN_DIST    0.090686\n",
       "YEAR_SOLD           0.081925\n",
       "SCH_FIX             0.076210\n",
       "LONGITUDE           0.063949\n",
       "GARAGE              0.049482\n",
       "LATITUDE            0.045304\n",
       "POSTCODE            0.039018\n",
       "LAND_AREA           0.007547\n",
       "MONTH_SOLD          0.001451\n",
       "Name: BUILD_YEAR, dtype: float64"
      ]
     },
     "execution_count": 33,
     "metadata": {},
     "output_type": "execute_result"
    }
   ],
   "source": [
    "train.corr()['BUILD_YEAR'].abs().sort_values(ascending=False)"
   ]
  },
  {
   "cell_type": "code",
   "execution_count": 34,
   "id": "d37b0aaa",
   "metadata": {},
   "outputs": [
    {
     "data": {
      "text/plain": [
       "Index(['ADDRESS', 'SUBURB', 'PRICE', 'BEDROOMS', 'BATHROOMS', 'GARAGE',\n",
       "       'LAND_AREA', 'FLOOR_AREA', 'BUILD_YEAR', 'CBD_DIST', 'NEAREST_STN',\n",
       "       'NEAREST_STN_DIST', 'POSTCODE', 'LATITUDE', 'LONGITUDE', 'NEAREST_SCH',\n",
       "       'NEAREST_SCH_DIST', 'NEAREST_SCH_RANK', 'MONTH_SOLD', 'YEAR_SOLD',\n",
       "       'FA/LA', 'SCH_FIX'],\n",
       "      dtype='object')"
      ]
     },
     "execution_count": 34,
     "metadata": {},
     "output_type": "execute_result"
    }
   ],
   "source": [
    "train.columns"
   ]
  },
  {
   "cell_type": "code",
   "execution_count": 35,
   "id": "93b62383",
   "metadata": {},
   "outputs": [
    {
     "data": {
      "text/html": [
       "<div>\n",
       "<style scoped>\n",
       "    .dataframe tbody tr th:only-of-type {\n",
       "        vertical-align: middle;\n",
       "    }\n",
       "\n",
       "    .dataframe tbody tr th {\n",
       "        vertical-align: top;\n",
       "    }\n",
       "\n",
       "    .dataframe thead th {\n",
       "        text-align: right;\n",
       "    }\n",
       "</style>\n",
       "<table border=\"1\" class=\"dataframe\">\n",
       "  <thead>\n",
       "    <tr style=\"text-align: right;\">\n",
       "      <th></th>\n",
       "      <th>ADDRESS</th>\n",
       "      <th>SUBURB</th>\n",
       "      <th>BEDROOMS</th>\n",
       "      <th>BATHROOMS</th>\n",
       "      <th>GARAGE</th>\n",
       "      <th>LAND_AREA</th>\n",
       "      <th>FLOOR_AREA</th>\n",
       "      <th>CBD_DIST</th>\n",
       "      <th>NEAREST_STN</th>\n",
       "      <th>NEAREST_STN_DIST</th>\n",
       "      <th>POSTCODE</th>\n",
       "      <th>LATITUDE</th>\n",
       "      <th>LONGITUDE</th>\n",
       "      <th>NEAREST_SCH_DIST</th>\n",
       "      <th>NEAREST_SCH_RANK</th>\n",
       "      <th>MONTH_SOLD</th>\n",
       "      <th>YEAR_SOLD</th>\n",
       "      <th>FA/LA</th>\n",
       "      <th>SCH_FIX</th>\n",
       "      <th>BUILD_YEAR</th>\n",
       "    </tr>\n",
       "    <tr>\n",
       "      <th>ID</th>\n",
       "      <th></th>\n",
       "      <th></th>\n",
       "      <th></th>\n",
       "      <th></th>\n",
       "      <th></th>\n",
       "      <th></th>\n",
       "      <th></th>\n",
       "      <th></th>\n",
       "      <th></th>\n",
       "      <th></th>\n",
       "      <th></th>\n",
       "      <th></th>\n",
       "      <th></th>\n",
       "      <th></th>\n",
       "      <th></th>\n",
       "      <th></th>\n",
       "      <th></th>\n",
       "      <th></th>\n",
       "      <th></th>\n",
       "      <th></th>\n",
       "    </tr>\n",
       "  </thead>\n",
       "  <tbody>\n",
       "    <tr>\n",
       "      <th>0</th>\n",
       "      <td>3</td>\n",
       "      <td>272</td>\n",
       "      <td>5</td>\n",
       "      <td>2</td>\n",
       "      <td>4.0</td>\n",
       "      <td>674</td>\n",
       "      <td>266</td>\n",
       "      <td>35500</td>\n",
       "      <td>59</td>\n",
       "      <td>3000</td>\n",
       "      <td>6030</td>\n",
       "      <td>-31.656206</td>\n",
       "      <td>115.720566</td>\n",
       "      <td>1.079230</td>\n",
       "      <td>120.0</td>\n",
       "      <td>9</td>\n",
       "      <td>2015</td>\n",
       "      <td>0.394659</td>\n",
       "      <td>1</td>\n",
       "      <td>2007.0</td>\n",
       "    </tr>\n",
       "    <tr>\n",
       "      <th>1</th>\n",
       "      <td>5</td>\n",
       "      <td>178</td>\n",
       "      <td>5</td>\n",
       "      <td>4</td>\n",
       "      <td>2.0</td>\n",
       "      <td>540</td>\n",
       "      <td>301</td>\n",
       "      <td>16900</td>\n",
       "      <td>31</td>\n",
       "      <td>8100</td>\n",
       "      <td>6065</td>\n",
       "      <td>-31.800802</td>\n",
       "      <td>115.867675</td>\n",
       "      <td>0.667585</td>\n",
       "      <td>NaN</td>\n",
       "      <td>7</td>\n",
       "      <td>2018</td>\n",
       "      <td>0.557407</td>\n",
       "      <td>2</td>\n",
       "      <td>2014.0</td>\n",
       "    </tr>\n",
       "    <tr>\n",
       "      <th>2</th>\n",
       "      <td>5</td>\n",
       "      <td>96</td>\n",
       "      <td>4</td>\n",
       "      <td>2</td>\n",
       "      <td>2.0</td>\n",
       "      <td>781</td>\n",
       "      <td>220</td>\n",
       "      <td>33500</td>\n",
       "      <td>46</td>\n",
       "      <td>3500</td>\n",
       "      <td>6030</td>\n",
       "      <td>-31.682040</td>\n",
       "      <td>115.702600</td>\n",
       "      <td>0.650761</td>\n",
       "      <td>111.0</td>\n",
       "      <td>2</td>\n",
       "      <td>2020</td>\n",
       "      <td>0.281690</td>\n",
       "      <td>1</td>\n",
       "      <td>1992.0</td>\n",
       "    </tr>\n",
       "  </tbody>\n",
       "</table>\n",
       "</div>"
      ],
      "text/plain": [
       "    ADDRESS  SUBURB  BEDROOMS  BATHROOMS  GARAGE  LAND_AREA  FLOOR_AREA  \\\n",
       "ID                                                                        \n",
       "0         3     272         5          2     4.0        674         266   \n",
       "1         5     178         5          4     2.0        540         301   \n",
       "2         5      96         4          2     2.0        781         220   \n",
       "\n",
       "    CBD_DIST  NEAREST_STN  NEAREST_STN_DIST  POSTCODE   LATITUDE   LONGITUDE  \\\n",
       "ID                                                                             \n",
       "0      35500           59              3000      6030 -31.656206  115.720566   \n",
       "1      16900           31              8100      6065 -31.800802  115.867675   \n",
       "2      33500           46              3500      6030 -31.682040  115.702600   \n",
       "\n",
       "    NEAREST_SCH_DIST  NEAREST_SCH_RANK  MONTH_SOLD  YEAR_SOLD     FA/LA  \\\n",
       "ID                                                                        \n",
       "0           1.079230             120.0           9       2015  0.394659   \n",
       "1           0.667585               NaN           7       2018  0.557407   \n",
       "2           0.650761             111.0           2       2020  0.281690   \n",
       "\n",
       "    SCH_FIX  BUILD_YEAR  \n",
       "ID                       \n",
       "0         1      2007.0  \n",
       "1         2      2014.0  \n",
       "2         1      1992.0  "
      ]
     },
     "execution_count": 35,
     "metadata": {},
     "output_type": "execute_result"
    }
   ],
   "source": [
    "bui = train[['ADDRESS', 'SUBURB', 'BEDROOMS', 'BATHROOMS', 'GARAGE',\n",
    "       'LAND_AREA', 'FLOOR_AREA', 'CBD_DIST', 'NEAREST_STN',\n",
    "       'NEAREST_STN_DIST', 'POSTCODE', 'LATITUDE', 'LONGITUDE',\n",
    "       'NEAREST_SCH_DIST', 'NEAREST_SCH_RANK', 'MONTH_SOLD', 'YEAR_SOLD',\n",
    "       'FA/LA', 'SCH_FIX', 'BUILD_YEAR']]\n",
    "bui.head(3)"
   ]
  },
  {
   "cell_type": "code",
   "execution_count": 36,
   "id": "b7c2ed07",
   "metadata": {},
   "outputs": [],
   "source": [
    "bui_train = bui[bui['BUILD_YEAR'].notnull()]\n",
    "bui_test = bui[bui['BUILD_YEAR'].isnull()][['ADDRESS', 'SUBURB', 'BEDROOMS', 'BATHROOMS', 'GARAGE',\n",
    "       'LAND_AREA', 'FLOOR_AREA', 'CBD_DIST', 'NEAREST_STN',\n",
    "       'NEAREST_STN_DIST', 'POSTCODE', 'LATITUDE', 'LONGITUDE',\n",
    "       'NEAREST_SCH_DIST', 'NEAREST_SCH_RANK', 'MONTH_SOLD', 'YEAR_SOLD',\n",
    "       'FA/LA', 'SCH_FIX', 'BUILD_YEAR']]\n",
    "bui_X = bui_train[['ADDRESS', 'SUBURB', 'BEDROOMS', 'BATHROOMS', 'GARAGE',\n",
    "       'LAND_AREA', 'FLOOR_AREA', 'CBD_DIST', 'NEAREST_STN',\n",
    "       'NEAREST_STN_DIST', 'POSTCODE', 'LATITUDE', 'LONGITUDE',\n",
    "       'NEAREST_SCH_DIST', 'NEAREST_SCH_RANK', 'MONTH_SOLD', 'YEAR_SOLD',\n",
    "       'FA/LA', 'SCH_FIX']]\n",
    "bui_y = bui_train['BUILD_YEAR']"
   ]
  },
  {
   "cell_type": "code",
   "execution_count": 37,
   "id": "073fa1d2",
   "metadata": {},
   "outputs": [],
   "source": [
    "from sklearn.ensemble import HistGradientBoostingRegressor\n",
    "\n",
    "hgbr = HistGradientBoostingRegressor()"
   ]
  },
  {
   "cell_type": "code",
   "execution_count": 38,
   "id": "3fdcbc98",
   "metadata": {},
   "outputs": [],
   "source": [
    "from sklearn.model_selection import cross_val_score"
   ]
  },
  {
   "cell_type": "code",
   "execution_count": 39,
   "id": "66a6891c",
   "metadata": {},
   "outputs": [
    {
     "name": "stdout",
     "output_type": "stream",
     "text": [
      "hgbr_result: [0.57820298 0.56897643 0.56177586 0.5751677  0.58804166]\n",
      "hgbr_mean: 0.5744329250229498\n"
     ]
    }
   ],
   "source": [
    "hgbr_result = cross_val_score(hgbr, bui_X, bui_y, cv=5)\n",
    "\n",
    "print('hgbr_result:', hgbr_result)\n",
    "print('hgbr_mean:', hgbr_result.mean())"
   ]
  },
  {
   "cell_type": "code",
   "execution_count": 40,
   "id": "20b6fd06",
   "metadata": {},
   "outputs": [
    {
     "data": {
      "text/plain": [
       "HistGradientBoostingRegressor()"
      ]
     },
     "execution_count": 40,
     "metadata": {},
     "output_type": "execute_result"
    }
   ],
   "source": [
    "hgbr.fit(bui_X, bui_y)"
   ]
  },
  {
   "cell_type": "code",
   "execution_count": 41,
   "id": "3e12e787",
   "metadata": {},
   "outputs": [],
   "source": [
    "bui_pre = hgbr.predict(bui_test[['ADDRESS', 'SUBURB', 'BEDROOMS', 'BATHROOMS', 'GARAGE',\n",
    "       'LAND_AREA', 'FLOOR_AREA', 'CBD_DIST', 'NEAREST_STN',\n",
    "       'NEAREST_STN_DIST', 'POSTCODE', 'LATITUDE', 'LONGITUDE',\n",
    "       'NEAREST_SCH_DIST', 'NEAREST_SCH_RANK', 'MONTH_SOLD', 'YEAR_SOLD',\n",
    "       'FA/LA', 'SCH_FIX']])"
   ]
  },
  {
   "cell_type": "code",
   "execution_count": 42,
   "id": "92cb3adb",
   "metadata": {},
   "outputs": [],
   "source": [
    "bui_test['BUILD_YEAR'] = bui_pre"
   ]
  },
  {
   "cell_type": "code",
   "execution_count": 43,
   "id": "b4bfc449",
   "metadata": {},
   "outputs": [
    {
     "data": {
      "text/plain": [
       "0"
      ]
     },
     "execution_count": 43,
     "metadata": {},
     "output_type": "execute_result"
    }
   ],
   "source": [
    "train['BUILD_YEAR'].fillna(bui_test['BUILD_YEAR'], inplace=True)\n",
    "train['BUILD_YEAR'].isnull().sum()"
   ]
  },
  {
   "cell_type": "code",
   "execution_count": 44,
   "id": "1af109e7",
   "metadata": {},
   "outputs": [
    {
     "data": {
      "text/html": [
       "<div>\n",
       "<style scoped>\n",
       "    .dataframe tbody tr th:only-of-type {\n",
       "        vertical-align: middle;\n",
       "    }\n",
       "\n",
       "    .dataframe tbody tr th {\n",
       "        vertical-align: top;\n",
       "    }\n",
       "\n",
       "    .dataframe thead th {\n",
       "        text-align: right;\n",
       "    }\n",
       "</style>\n",
       "<table border=\"1\" class=\"dataframe\">\n",
       "  <thead>\n",
       "    <tr style=\"text-align: right;\">\n",
       "      <th></th>\n",
       "      <th>ADDRESS</th>\n",
       "      <th>SUBURB</th>\n",
       "      <th>BEDROOMS</th>\n",
       "      <th>BATHROOMS</th>\n",
       "      <th>GARAGE</th>\n",
       "      <th>LAND_AREA</th>\n",
       "      <th>FLOOR_AREA</th>\n",
       "      <th>CBD_DIST</th>\n",
       "      <th>NEAREST_STN</th>\n",
       "      <th>NEAREST_STN_DIST</th>\n",
       "      <th>POSTCODE</th>\n",
       "      <th>LATITUDE</th>\n",
       "      <th>LONGITUDE</th>\n",
       "      <th>NEAREST_SCH_DIST</th>\n",
       "      <th>NEAREST_SCH_RANK</th>\n",
       "      <th>MONTH_SOLD</th>\n",
       "      <th>YEAR_SOLD</th>\n",
       "      <th>FA/LA</th>\n",
       "      <th>SCH_FIX</th>\n",
       "      <th>BUILD_YEAR</th>\n",
       "    </tr>\n",
       "    <tr>\n",
       "      <th>ID</th>\n",
       "      <th></th>\n",
       "      <th></th>\n",
       "      <th></th>\n",
       "      <th></th>\n",
       "      <th></th>\n",
       "      <th></th>\n",
       "      <th></th>\n",
       "      <th></th>\n",
       "      <th></th>\n",
       "      <th></th>\n",
       "      <th></th>\n",
       "      <th></th>\n",
       "      <th></th>\n",
       "      <th></th>\n",
       "      <th></th>\n",
       "      <th></th>\n",
       "      <th></th>\n",
       "      <th></th>\n",
       "      <th></th>\n",
       "      <th></th>\n",
       "    </tr>\n",
       "  </thead>\n",
       "  <tbody>\n",
       "    <tr>\n",
       "      <th>18510</th>\n",
       "      <td>1</td>\n",
       "      <td>124.0</td>\n",
       "      <td>3</td>\n",
       "      <td>2</td>\n",
       "      <td>3.0</td>\n",
       "      <td>2199</td>\n",
       "      <td>159</td>\n",
       "      <td>29600</td>\n",
       "      <td>41</td>\n",
       "      <td>15600</td>\n",
       "      <td>6073</td>\n",
       "      <td>-31.899705</td>\n",
       "      <td>116.166117</td>\n",
       "      <td>1.341198</td>\n",
       "      <td>NaN</td>\n",
       "      <td>3</td>\n",
       "      <td>2019</td>\n",
       "      <td>0.072306</td>\n",
       "      <td>1</td>\n",
       "      <td>1950.0</td>\n",
       "    </tr>\n",
       "    <tr>\n",
       "      <th>18511</th>\n",
       "      <td>14</td>\n",
       "      <td>15.0</td>\n",
       "      <td>4</td>\n",
       "      <td>3</td>\n",
       "      <td>2.0</td>\n",
       "      <td>509</td>\n",
       "      <td>341</td>\n",
       "      <td>8200</td>\n",
       "      <td>16</td>\n",
       "      <td>2000</td>\n",
       "      <td>6152</td>\n",
       "      <td>-32.018620</td>\n",
       "      <td>115.858900</td>\n",
       "      <td>0.882405</td>\n",
       "      <td>23.0</td>\n",
       "      <td>8</td>\n",
       "      <td>2017</td>\n",
       "      <td>0.669941</td>\n",
       "      <td>1</td>\n",
       "      <td>2001.0</td>\n",
       "    </tr>\n",
       "    <tr>\n",
       "      <th>18512</th>\n",
       "      <td>3</td>\n",
       "      <td>59.0</td>\n",
       "      <td>4</td>\n",
       "      <td>3</td>\n",
       "      <td>2.0</td>\n",
       "      <td>725</td>\n",
       "      <td>251</td>\n",
       "      <td>10500</td>\n",
       "      <td>21</td>\n",
       "      <td>2700</td>\n",
       "      <td>6154</td>\n",
       "      <td>-32.042090</td>\n",
       "      <td>115.826290</td>\n",
       "      <td>1.639635</td>\n",
       "      <td>34.0</td>\n",
       "      <td>7</td>\n",
       "      <td>2018</td>\n",
       "      <td>0.346207</td>\n",
       "      <td>2</td>\n",
       "      <td>1982.0</td>\n",
       "    </tr>\n",
       "  </tbody>\n",
       "</table>\n",
       "</div>"
      ],
      "text/plain": [
       "       ADDRESS  SUBURB  BEDROOMS  BATHROOMS  GARAGE  LAND_AREA  FLOOR_AREA  \\\n",
       "ID                                                                           \n",
       "18510        1   124.0         3          2     3.0       2199         159   \n",
       "18511       14    15.0         4          3     2.0        509         341   \n",
       "18512        3    59.0         4          3     2.0        725         251   \n",
       "\n",
       "       CBD_DIST  NEAREST_STN  NEAREST_STN_DIST  POSTCODE   LATITUDE  \\\n",
       "ID                                                                    \n",
       "18510     29600           41             15600      6073 -31.899705   \n",
       "18511      8200           16              2000      6152 -32.018620   \n",
       "18512     10500           21              2700      6154 -32.042090   \n",
       "\n",
       "        LONGITUDE  NEAREST_SCH_DIST  NEAREST_SCH_RANK  MONTH_SOLD  YEAR_SOLD  \\\n",
       "ID                                                                             \n",
       "18510  116.166117          1.341198               NaN           3       2019   \n",
       "18511  115.858900          0.882405              23.0           8       2017   \n",
       "18512  115.826290          1.639635              34.0           7       2018   \n",
       "\n",
       "          FA/LA  SCH_FIX  BUILD_YEAR  \n",
       "ID                                    \n",
       "18510  0.072306        1      1950.0  \n",
       "18511  0.669941        1      2001.0  \n",
       "18512  0.346207        2      1982.0  "
      ]
     },
     "execution_count": 44,
     "metadata": {},
     "output_type": "execute_result"
    }
   ],
   "source": [
    "bui = test[['ADDRESS', 'SUBURB', 'BEDROOMS', 'BATHROOMS', 'GARAGE',\n",
    "       'LAND_AREA', 'FLOOR_AREA', 'CBD_DIST', 'NEAREST_STN',\n",
    "       'NEAREST_STN_DIST', 'POSTCODE', 'LATITUDE', 'LONGITUDE',\n",
    "       'NEAREST_SCH_DIST', 'NEAREST_SCH_RANK', 'MONTH_SOLD', 'YEAR_SOLD',\n",
    "       'FA/LA', 'SCH_FIX', 'BUILD_YEAR']]\n",
    "bui.head(3)"
   ]
  },
  {
   "cell_type": "code",
   "execution_count": 45,
   "id": "a9b0e452",
   "metadata": {},
   "outputs": [],
   "source": [
    "bui_test = bui[bui['BUILD_YEAR'].isnull()][['ADDRESS', 'SUBURB', 'BEDROOMS', 'BATHROOMS', 'GARAGE',\n",
    "       'LAND_AREA', 'FLOOR_AREA', 'CBD_DIST', 'NEAREST_STN',\n",
    "       'NEAREST_STN_DIST', 'POSTCODE', 'LATITUDE', 'LONGITUDE',\n",
    "       'NEAREST_SCH_DIST', 'NEAREST_SCH_RANK', 'MONTH_SOLD', 'YEAR_SOLD',\n",
    "       'FA/LA', 'SCH_FIX', 'BUILD_YEAR']]"
   ]
  },
  {
   "cell_type": "code",
   "execution_count": 46,
   "id": "e2f8dfba",
   "metadata": {},
   "outputs": [],
   "source": [
    "bui_pre = hgbr.predict(bui_test[['ADDRESS', 'SUBURB', 'BEDROOMS', 'BATHROOMS', 'GARAGE',\n",
    "       'LAND_AREA', 'FLOOR_AREA', 'CBD_DIST', 'NEAREST_STN',\n",
    "       'NEAREST_STN_DIST', 'POSTCODE', 'LATITUDE', 'LONGITUDE',\n",
    "       'NEAREST_SCH_DIST', 'NEAREST_SCH_RANK', 'MONTH_SOLD', 'YEAR_SOLD',\n",
    "       'FA/LA', 'SCH_FIX']])"
   ]
  },
  {
   "cell_type": "code",
   "execution_count": 47,
   "id": "88121fa7",
   "metadata": {},
   "outputs": [],
   "source": [
    "bui_test['BUILD_YEAR'] = bui_pre"
   ]
  },
  {
   "cell_type": "code",
   "execution_count": 48,
   "id": "1848d838",
   "metadata": {},
   "outputs": [
    {
     "data": {
      "text/plain": [
       "0"
      ]
     },
     "execution_count": 48,
     "metadata": {},
     "output_type": "execute_result"
    }
   ],
   "source": [
    "test['BUILD_YEAR'].fillna(bui_test['BUILD_YEAR'], inplace=True)\n",
    "test['BUILD_YEAR'].isnull().sum()"
   ]
  },
  {
   "cell_type": "code",
   "execution_count": 49,
   "id": "e95e05f0",
   "metadata": {},
   "outputs": [],
   "source": [
    "train['YEAR_DIFF'] = train['YEAR_SOLD'] - train['BUILD_YEAR']\n",
    "test['YEAR_DIFF'] = test['YEAR_SOLD'] - test['BUILD_YEAR']"
   ]
  },
  {
   "cell_type": "code",
   "execution_count": 50,
   "id": "02d9d750",
   "metadata": {},
   "outputs": [
    {
     "data": {
      "text/plain": [
       "PRICE               1.000000\n",
       "SUBURB              0.728384\n",
       "NEAREST_STN         0.581367\n",
       "FLOOR_AREA          0.539515\n",
       "NEAREST_SCH_RANK    0.454122\n",
       "BATHROOMS           0.386566\n",
       "CBD_DIST            0.357340\n",
       "BEDROOMS            0.256913\n",
       "FA/LA               0.220240\n",
       "LONGITUDE           0.183518\n",
       "YEAR_DIFF           0.167679\n",
       "POSTCODE            0.163032\n",
       "BUILD_YEAR          0.153219\n",
       "GARAGE              0.145184\n",
       "ADDRESS             0.111505\n",
       "NEAREST_STN_DIST    0.099240\n",
       "YEAR_SOLD           0.084474\n",
       "LAND_AREA           0.081050\n",
       "LATITUDE            0.046942\n",
       "NEAREST_SCH_DIST    0.024078\n",
       "SCH_FIX             0.021598\n",
       "MONTH_SOLD          0.001529\n",
       "Name: PRICE, dtype: float64"
      ]
     },
     "execution_count": 50,
     "metadata": {},
     "output_type": "execute_result"
    }
   ],
   "source": [
    "train.corr()['PRICE'].abs().sort_values(ascending=False)"
   ]
  },
  {
   "cell_type": "code",
   "execution_count": 51,
   "id": "cf302eee",
   "metadata": {},
   "outputs": [
    {
     "data": {
      "text/html": [
       "<div>\n",
       "<style scoped>\n",
       "    .dataframe tbody tr th:only-of-type {\n",
       "        vertical-align: middle;\n",
       "    }\n",
       "\n",
       "    .dataframe tbody tr th {\n",
       "        vertical-align: top;\n",
       "    }\n",
       "\n",
       "    .dataframe thead th {\n",
       "        text-align: right;\n",
       "    }\n",
       "</style>\n",
       "<table border=\"1\" class=\"dataframe\">\n",
       "  <thead>\n",
       "    <tr style=\"text-align: right;\">\n",
       "      <th></th>\n",
       "      <th>NEAREST_SCH_RANK</th>\n",
       "    </tr>\n",
       "    <tr>\n",
       "      <th>NEAREST_SCH</th>\n",
       "      <th></th>\n",
       "    </tr>\n",
       "  </thead>\n",
       "  <tbody>\n",
       "    <tr>\n",
       "      <th>PERTH MODERN SCHOOL</th>\n",
       "      <td>1.0</td>\n",
       "    </tr>\n",
       "    <tr>\n",
       "      <th>ST HILDA'S ANGLICAN SCHOOL FOR GIRLS</th>\n",
       "      <td>2.0</td>\n",
       "    </tr>\n",
       "    <tr>\n",
       "      <th>CHRIST CHURCH GRAMMAR SCHOOL</th>\n",
       "      <td>3.0</td>\n",
       "    </tr>\n",
       "    <tr>\n",
       "      <th>PENRHOS COLLEGE</th>\n",
       "      <td>4.0</td>\n",
       "    </tr>\n",
       "    <tr>\n",
       "      <th>METHODIST LADIES' COLLEGE</th>\n",
       "      <td>5.0</td>\n",
       "    </tr>\n",
       "    <tr>\n",
       "      <th>...</th>\n",
       "      <td>...</td>\n",
       "    </tr>\n",
       "    <tr>\n",
       "      <th>TREETOPS MONTESSORI SCHOOL</th>\n",
       "      <td>NaN</td>\n",
       "    </tr>\n",
       "    <tr>\n",
       "      <th>WARNBRO COMMUNITY HIGH SCHOOL</th>\n",
       "      <td>NaN</td>\n",
       "    </tr>\n",
       "    <tr>\n",
       "      <th>WARWICK SENIOR HIGH SCHOOL</th>\n",
       "      <td>NaN</td>\n",
       "    </tr>\n",
       "    <tr>\n",
       "      <th>YANCHEP SECONDARY COLLEGE</th>\n",
       "      <td>NaN</td>\n",
       "    </tr>\n",
       "    <tr>\n",
       "      <th>YOUTH FUTURES COMMUNITY SCHOOL</th>\n",
       "      <td>NaN</td>\n",
       "    </tr>\n",
       "  </tbody>\n",
       "</table>\n",
       "<p>159 rows × 1 columns</p>\n",
       "</div>"
      ],
      "text/plain": [
       "                                      NEAREST_SCH_RANK\n",
       "NEAREST_SCH                                           \n",
       "PERTH MODERN SCHOOL                                1.0\n",
       "ST HILDA'S ANGLICAN SCHOOL FOR GIRLS               2.0\n",
       "CHRIST CHURCH GRAMMAR SCHOOL                       3.0\n",
       "PENRHOS COLLEGE                                    4.0\n",
       "METHODIST LADIES' COLLEGE                          5.0\n",
       "...                                                ...\n",
       "TREETOPS MONTESSORI SCHOOL                         NaN\n",
       "WARNBRO COMMUNITY HIGH SCHOOL                      NaN\n",
       "WARWICK SENIOR HIGH SCHOOL                         NaN\n",
       "YANCHEP SECONDARY COLLEGE                          NaN\n",
       "YOUTH FUTURES COMMUNITY SCHOOL                     NaN\n",
       "\n",
       "[159 rows x 1 columns]"
      ]
     },
     "execution_count": 51,
     "metadata": {},
     "output_type": "execute_result"
    }
   ],
   "source": [
    "train[['NEAREST_SCH', 'NEAREST_SCH_RANK']].groupby('NEAREST_SCH').mean().sort_values('NEAREST_SCH_RANK')"
   ]
  },
  {
   "cell_type": "code",
   "execution_count": 52,
   "id": "ad2aee03",
   "metadata": {
    "scrolled": false
   },
   "outputs": [
    {
     "data": {
      "text/plain": [
       "NEAREST_SCH_RANK    1.000000\n",
       "SUBURB              0.501109\n",
       "NEAREST_STN         0.478378\n",
       "PRICE               0.454122\n",
       "CBD_DIST            0.324637\n",
       "LONGITUDE           0.244226\n",
       "FA/LA               0.203713\n",
       "POSTCODE            0.190734\n",
       "NEAREST_STN_DIST    0.184769\n",
       "YEAR_DIFF           0.159556\n",
       "NEAREST_SCH_DIST    0.155256\n",
       "BUILD_YEAR          0.153969\n",
       "FLOOR_AREA          0.136397\n",
       "SCH_FIX             0.130795\n",
       "ADDRESS             0.116781\n",
       "BATHROOMS           0.095898\n",
       "LAND_AREA           0.074042\n",
       "LATITUDE            0.050279\n",
       "YEAR_SOLD           0.035431\n",
       "BEDROOMS            0.029659\n",
       "GARAGE              0.012849\n",
       "MONTH_SOLD          0.002343\n",
       "Name: NEAREST_SCH_RANK, dtype: float64"
      ]
     },
     "execution_count": 52,
     "metadata": {},
     "output_type": "execute_result"
    }
   ],
   "source": [
    "train.corr()['NEAREST_SCH_RANK'].abs().sort_values(ascending=False)"
   ]
  },
  {
   "cell_type": "code",
   "execution_count": 53,
   "id": "41ca05f8",
   "metadata": {
    "scrolled": true
   },
   "outputs": [
    {
     "data": {
      "text/plain": [
       "Index(['ADDRESS', 'SUBURB', 'PRICE', 'BEDROOMS', 'BATHROOMS', 'GARAGE',\n",
       "       'LAND_AREA', 'FLOOR_AREA', 'BUILD_YEAR', 'CBD_DIST', 'NEAREST_STN',\n",
       "       'NEAREST_STN_DIST', 'POSTCODE', 'LATITUDE', 'LONGITUDE', 'NEAREST_SCH',\n",
       "       'NEAREST_SCH_DIST', 'NEAREST_SCH_RANK', 'MONTH_SOLD', 'YEAR_SOLD',\n",
       "       'FA/LA', 'SCH_FIX', 'YEAR_DIFF'],\n",
       "      dtype='object')"
      ]
     },
     "execution_count": 53,
     "metadata": {},
     "output_type": "execute_result"
    }
   ],
   "source": [
    "train.columns"
   ]
  },
  {
   "cell_type": "code",
   "execution_count": 54,
   "id": "ac87634a",
   "metadata": {},
   "outputs": [
    {
     "data": {
      "text/html": [
       "<div>\n",
       "<style scoped>\n",
       "    .dataframe tbody tr th:only-of-type {\n",
       "        vertical-align: middle;\n",
       "    }\n",
       "\n",
       "    .dataframe tbody tr th {\n",
       "        vertical-align: top;\n",
       "    }\n",
       "\n",
       "    .dataframe thead th {\n",
       "        text-align: right;\n",
       "    }\n",
       "</style>\n",
       "<table border=\"1\" class=\"dataframe\">\n",
       "  <thead>\n",
       "    <tr style=\"text-align: right;\">\n",
       "      <th></th>\n",
       "      <th>ADDRESS</th>\n",
       "      <th>SUBURB</th>\n",
       "      <th>PRICE</th>\n",
       "      <th>BEDROOMS</th>\n",
       "      <th>BATHROOMS</th>\n",
       "      <th>GARAGE</th>\n",
       "      <th>LAND_AREA</th>\n",
       "      <th>FLOOR_AREA</th>\n",
       "      <th>BUILD_YEAR</th>\n",
       "      <th>CBD_DIST</th>\n",
       "      <th>...</th>\n",
       "      <th>POSTCODE</th>\n",
       "      <th>LATITUDE</th>\n",
       "      <th>LONGITUDE</th>\n",
       "      <th>NEAREST_SCH_DIST</th>\n",
       "      <th>MONTH_SOLD</th>\n",
       "      <th>YEAR_SOLD</th>\n",
       "      <th>FA/LA</th>\n",
       "      <th>SCH_FIX</th>\n",
       "      <th>YEAR_DIFF</th>\n",
       "      <th>NEAREST_SCH_RANK</th>\n",
       "    </tr>\n",
       "    <tr>\n",
       "      <th>ID</th>\n",
       "      <th></th>\n",
       "      <th></th>\n",
       "      <th></th>\n",
       "      <th></th>\n",
       "      <th></th>\n",
       "      <th></th>\n",
       "      <th></th>\n",
       "      <th></th>\n",
       "      <th></th>\n",
       "      <th></th>\n",
       "      <th></th>\n",
       "      <th></th>\n",
       "      <th></th>\n",
       "      <th></th>\n",
       "      <th></th>\n",
       "      <th></th>\n",
       "      <th></th>\n",
       "      <th></th>\n",
       "      <th></th>\n",
       "      <th></th>\n",
       "      <th></th>\n",
       "    </tr>\n",
       "  </thead>\n",
       "  <tbody>\n",
       "    <tr>\n",
       "      <th>0</th>\n",
       "      <td>3</td>\n",
       "      <td>272</td>\n",
       "      <td>520000</td>\n",
       "      <td>5</td>\n",
       "      <td>2</td>\n",
       "      <td>4.0</td>\n",
       "      <td>674</td>\n",
       "      <td>266</td>\n",
       "      <td>2007.0</td>\n",
       "      <td>35500</td>\n",
       "      <td>...</td>\n",
       "      <td>6030</td>\n",
       "      <td>-31.656206</td>\n",
       "      <td>115.720566</td>\n",
       "      <td>1.079230</td>\n",
       "      <td>9</td>\n",
       "      <td>2015</td>\n",
       "      <td>0.394659</td>\n",
       "      <td>1</td>\n",
       "      <td>8.0</td>\n",
       "      <td>120.0</td>\n",
       "    </tr>\n",
       "    <tr>\n",
       "      <th>1</th>\n",
       "      <td>5</td>\n",
       "      <td>178</td>\n",
       "      <td>575000</td>\n",
       "      <td>5</td>\n",
       "      <td>4</td>\n",
       "      <td>2.0</td>\n",
       "      <td>540</td>\n",
       "      <td>301</td>\n",
       "      <td>2014.0</td>\n",
       "      <td>16900</td>\n",
       "      <td>...</td>\n",
       "      <td>6065</td>\n",
       "      <td>-31.800802</td>\n",
       "      <td>115.867675</td>\n",
       "      <td>0.667585</td>\n",
       "      <td>7</td>\n",
       "      <td>2018</td>\n",
       "      <td>0.557407</td>\n",
       "      <td>2</td>\n",
       "      <td>4.0</td>\n",
       "      <td>NaN</td>\n",
       "    </tr>\n",
       "    <tr>\n",
       "      <th>2</th>\n",
       "      <td>5</td>\n",
       "      <td>96</td>\n",
       "      <td>760000</td>\n",
       "      <td>4</td>\n",
       "      <td>2</td>\n",
       "      <td>2.0</td>\n",
       "      <td>781</td>\n",
       "      <td>220</td>\n",
       "      <td>1992.0</td>\n",
       "      <td>33500</td>\n",
       "      <td>...</td>\n",
       "      <td>6030</td>\n",
       "      <td>-31.682040</td>\n",
       "      <td>115.702600</td>\n",
       "      <td>0.650761</td>\n",
       "      <td>2</td>\n",
       "      <td>2020</td>\n",
       "      <td>0.281690</td>\n",
       "      <td>1</td>\n",
       "      <td>28.0</td>\n",
       "      <td>111.0</td>\n",
       "    </tr>\n",
       "    <tr>\n",
       "      <th>3</th>\n",
       "      <td>1</td>\n",
       "      <td>44</td>\n",
       "      <td>1230000</td>\n",
       "      <td>2</td>\n",
       "      <td>1</td>\n",
       "      <td>2.0</td>\n",
       "      <td>425</td>\n",
       "      <td>185</td>\n",
       "      <td>1938.0</td>\n",
       "      <td>3500</td>\n",
       "      <td>...</td>\n",
       "      <td>6016</td>\n",
       "      <td>-31.926046</td>\n",
       "      <td>115.838181</td>\n",
       "      <td>0.484465</td>\n",
       "      <td>7</td>\n",
       "      <td>2020</td>\n",
       "      <td>0.435294</td>\n",
       "      <td>1</td>\n",
       "      <td>82.0</td>\n",
       "      <td>106.0</td>\n",
       "    </tr>\n",
       "    <tr>\n",
       "      <th>4</th>\n",
       "      <td>1</td>\n",
       "      <td>18</td>\n",
       "      <td>2010000</td>\n",
       "      <td>3</td>\n",
       "      <td>2</td>\n",
       "      <td>2.0</td>\n",
       "      <td>546</td>\n",
       "      <td>186</td>\n",
       "      <td>2004.0</td>\n",
       "      <td>12900</td>\n",
       "      <td>...</td>\n",
       "      <td>6159</td>\n",
       "      <td>-32.032079</td>\n",
       "      <td>115.759626</td>\n",
       "      <td>1.869050</td>\n",
       "      <td>10</td>\n",
       "      <td>2017</td>\n",
       "      <td>0.340659</td>\n",
       "      <td>1</td>\n",
       "      <td>13.0</td>\n",
       "      <td>25.0</td>\n",
       "    </tr>\n",
       "  </tbody>\n",
       "</table>\n",
       "<p>5 rows × 22 columns</p>\n",
       "</div>"
      ],
      "text/plain": [
       "    ADDRESS  SUBURB    PRICE  BEDROOMS  BATHROOMS  GARAGE  LAND_AREA  \\\n",
       "ID                                                                     \n",
       "0         3     272   520000         5          2     4.0        674   \n",
       "1         5     178   575000         5          4     2.0        540   \n",
       "2         5      96   760000         4          2     2.0        781   \n",
       "3         1      44  1230000         2          1     2.0        425   \n",
       "4         1      18  2010000         3          2     2.0        546   \n",
       "\n",
       "    FLOOR_AREA  BUILD_YEAR  CBD_DIST  ...  POSTCODE   LATITUDE   LONGITUDE  \\\n",
       "ID                                    ...                                    \n",
       "0          266      2007.0     35500  ...      6030 -31.656206  115.720566   \n",
       "1          301      2014.0     16900  ...      6065 -31.800802  115.867675   \n",
       "2          220      1992.0     33500  ...      6030 -31.682040  115.702600   \n",
       "3          185      1938.0      3500  ...      6016 -31.926046  115.838181   \n",
       "4          186      2004.0     12900  ...      6159 -32.032079  115.759626   \n",
       "\n",
       "    NEAREST_SCH_DIST  MONTH_SOLD  YEAR_SOLD     FA/LA  SCH_FIX  YEAR_DIFF  \\\n",
       "ID                                                                          \n",
       "0           1.079230           9       2015  0.394659        1        8.0   \n",
       "1           0.667585           7       2018  0.557407        2        4.0   \n",
       "2           0.650761           2       2020  0.281690        1       28.0   \n",
       "3           0.484465           7       2020  0.435294        1       82.0   \n",
       "4           1.869050          10       2017  0.340659        1       13.0   \n",
       "\n",
       "    NEAREST_SCH_RANK  \n",
       "ID                    \n",
       "0              120.0  \n",
       "1                NaN  \n",
       "2              111.0  \n",
       "3              106.0  \n",
       "4               25.0  \n",
       "\n",
       "[5 rows x 22 columns]"
      ]
     },
     "execution_count": 54,
     "metadata": {},
     "output_type": "execute_result"
    }
   ],
   "source": [
    "sch = train[['ADDRESS', 'SUBURB', 'PRICE', 'BEDROOMS', 'BATHROOMS', 'GARAGE',\n",
    "       'LAND_AREA', 'FLOOR_AREA', 'BUILD_YEAR', 'CBD_DIST', 'NEAREST_STN',\n",
    "       'NEAREST_STN_DIST', 'POSTCODE', 'LATITUDE', 'LONGITUDE',\n",
    "       'NEAREST_SCH_DIST', 'MONTH_SOLD', 'YEAR_SOLD',\n",
    "       'FA/LA', 'SCH_FIX', 'YEAR_DIFF', 'NEAREST_SCH_RANK']]\n",
    "sch.head()"
   ]
  },
  {
   "cell_type": "code",
   "execution_count": 55,
   "id": "af026833",
   "metadata": {},
   "outputs": [],
   "source": [
    "sch_train = sch[sch['NEAREST_SCH_RANK'].notnull()]\n",
    "sch_test = sch[sch['NEAREST_SCH_RANK'].isnull()][['ADDRESS', 'SUBURB', 'PRICE', 'BEDROOMS', 'BATHROOMS', 'GARAGE',\n",
    "       'LAND_AREA', 'FLOOR_AREA', 'BUILD_YEAR', 'CBD_DIST', 'NEAREST_STN',\n",
    "       'NEAREST_STN_DIST', 'POSTCODE', 'LATITUDE', 'LONGITUDE',\n",
    "       'NEAREST_SCH_DIST', 'MONTH_SOLD', 'YEAR_SOLD',\n",
    "       'FA/LA', 'SCH_FIX', 'YEAR_DIFF', 'NEAREST_SCH_RANK']]\n",
    "sch_X = sch_train[['ADDRESS', 'SUBURB', 'PRICE', 'BEDROOMS', 'BATHROOMS', 'GARAGE',\n",
    "       'LAND_AREA', 'FLOOR_AREA', 'BUILD_YEAR', 'CBD_DIST', 'NEAREST_STN',\n",
    "       'NEAREST_STN_DIST', 'POSTCODE', 'LATITUDE', 'LONGITUDE',\n",
    "       'NEAREST_SCH_DIST', 'MONTH_SOLD', 'YEAR_SOLD',\n",
    "       'FA/LA', 'SCH_FIX', 'YEAR_DIFF']]\n",
    "sch_y = sch_train['NEAREST_SCH_RANK']"
   ]
  },
  {
   "cell_type": "code",
   "execution_count": 56,
   "id": "ebd757a3",
   "metadata": {},
   "outputs": [],
   "source": [
    "from sklearn.ensemble import HistGradientBoostingRegressor\n",
    "hgbr = HistGradientBoostingRegressor()"
   ]
  },
  {
   "cell_type": "code",
   "execution_count": 57,
   "id": "a794eec6",
   "metadata": {},
   "outputs": [],
   "source": [
    "from sklearn.model_selection import cross_val_score"
   ]
  },
  {
   "cell_type": "code",
   "execution_count": 58,
   "id": "023c5fbf",
   "metadata": {},
   "outputs": [],
   "source": [
    "sch_result = cross_val_score(hgbr, sch_X, sch_y, cv=5)"
   ]
  },
  {
   "cell_type": "code",
   "execution_count": 59,
   "id": "b5859c47",
   "metadata": {},
   "outputs": [
    {
     "name": "stdout",
     "output_type": "stream",
     "text": [
      "[0.94281315 0.9441503  0.93732413 0.93290545 0.93197696]\n",
      "0.9378339976646537\n"
     ]
    }
   ],
   "source": [
    "print(sch_result)\n",
    "print(sch_result.mean())"
   ]
  },
  {
   "cell_type": "code",
   "execution_count": 60,
   "id": "28d7a5f7",
   "metadata": {},
   "outputs": [
    {
     "data": {
      "text/plain": [
       "HistGradientBoostingRegressor()"
      ]
     },
     "execution_count": 60,
     "metadata": {},
     "output_type": "execute_result"
    }
   ],
   "source": [
    "hgbr.fit(sch_X, sch_y)"
   ]
  },
  {
   "cell_type": "code",
   "execution_count": 61,
   "id": "9b93249a",
   "metadata": {},
   "outputs": [],
   "source": [
    "sch_pre = hgbr.predict(sch_test[['ADDRESS', 'SUBURB', 'PRICE', 'BEDROOMS', 'BATHROOMS', 'GARAGE',\n",
    "       'LAND_AREA', 'FLOOR_AREA', 'BUILD_YEAR', 'CBD_DIST', 'NEAREST_STN',\n",
    "       'NEAREST_STN_DIST', 'POSTCODE', 'LATITUDE', 'LONGITUDE',\n",
    "       'NEAREST_SCH_DIST', 'MONTH_SOLD', 'YEAR_SOLD',\n",
    "       'FA/LA', 'SCH_FIX', 'YEAR_DIFF']])"
   ]
  },
  {
   "cell_type": "code",
   "execution_count": 62,
   "id": "7e214f1b",
   "metadata": {},
   "outputs": [],
   "source": [
    "sch_test['NEAREST_SCH_RANK'] = sch_pre"
   ]
  },
  {
   "cell_type": "code",
   "execution_count": 63,
   "id": "dd59595a",
   "metadata": {},
   "outputs": [
    {
     "data": {
      "text/plain": [
       "0"
      ]
     },
     "execution_count": 63,
     "metadata": {},
     "output_type": "execute_result"
    }
   ],
   "source": [
    "train['NEAREST_SCH_RANK'].fillna(sch_test['NEAREST_SCH_RANK'], inplace=True)\n",
    "train['NEAREST_SCH_RANK'].isnull().sum()"
   ]
  },
  {
   "cell_type": "code",
   "execution_count": 64,
   "id": "fcff4c9c",
   "metadata": {},
   "outputs": [
    {
     "data": {
      "text/html": [
       "<div>\n",
       "<style scoped>\n",
       "    .dataframe tbody tr th:only-of-type {\n",
       "        vertical-align: middle;\n",
       "    }\n",
       "\n",
       "    .dataframe tbody tr th {\n",
       "        vertical-align: top;\n",
       "    }\n",
       "\n",
       "    .dataframe thead th {\n",
       "        text-align: right;\n",
       "    }\n",
       "</style>\n",
       "<table border=\"1\" class=\"dataframe\">\n",
       "  <thead>\n",
       "    <tr style=\"text-align: right;\">\n",
       "      <th></th>\n",
       "      <th>NEAREST_SCH_RANK</th>\n",
       "    </tr>\n",
       "    <tr>\n",
       "      <th>NEAREST_SCH</th>\n",
       "      <th></th>\n",
       "    </tr>\n",
       "  </thead>\n",
       "  <tbody>\n",
       "    <tr>\n",
       "      <th>PERTH MODERN SCHOOL</th>\n",
       "      <td>1.000000</td>\n",
       "    </tr>\n",
       "    <tr>\n",
       "      <th>ST HILDA'S ANGLICAN SCHOOL FOR GIRLS</th>\n",
       "      <td>2.000000</td>\n",
       "    </tr>\n",
       "    <tr>\n",
       "      <th>CHRIST CHURCH GRAMMAR SCHOOL</th>\n",
       "      <td>3.000000</td>\n",
       "    </tr>\n",
       "    <tr>\n",
       "      <th>PENRHOS COLLEGE</th>\n",
       "      <td>4.000000</td>\n",
       "    </tr>\n",
       "    <tr>\n",
       "      <th>METHODIST LADIES' COLLEGE</th>\n",
       "      <td>5.000000</td>\n",
       "    </tr>\n",
       "    <tr>\n",
       "      <th>...</th>\n",
       "      <td>...</td>\n",
       "    </tr>\n",
       "    <tr>\n",
       "      <th>ROCKINGHAM MONTESSORI SCHOOL</th>\n",
       "      <td>135.968357</td>\n",
       "    </tr>\n",
       "    <tr>\n",
       "      <th>SAFETY BAY SENIOR HIGH SCHOOL</th>\n",
       "      <td>136.000000</td>\n",
       "    </tr>\n",
       "    <tr>\n",
       "      <th>DARLING RANGE SPORTS COLLEGE</th>\n",
       "      <td>137.000000</td>\n",
       "    </tr>\n",
       "    <tr>\n",
       "      <th>GILMORE COLLEGE</th>\n",
       "      <td>138.000000</td>\n",
       "    </tr>\n",
       "    <tr>\n",
       "      <th>CECIL ANDREWS COLLEGE</th>\n",
       "      <td>139.000000</td>\n",
       "    </tr>\n",
       "  </tbody>\n",
       "</table>\n",
       "<p>159 rows × 1 columns</p>\n",
       "</div>"
      ],
      "text/plain": [
       "                                      NEAREST_SCH_RANK\n",
       "NEAREST_SCH                                           \n",
       "PERTH MODERN SCHOOL                           1.000000\n",
       "ST HILDA'S ANGLICAN SCHOOL FOR GIRLS          2.000000\n",
       "CHRIST CHURCH GRAMMAR SCHOOL                  3.000000\n",
       "PENRHOS COLLEGE                               4.000000\n",
       "METHODIST LADIES' COLLEGE                     5.000000\n",
       "...                                                ...\n",
       "ROCKINGHAM MONTESSORI SCHOOL                135.968357\n",
       "SAFETY BAY SENIOR HIGH SCHOOL               136.000000\n",
       "DARLING RANGE SPORTS COLLEGE                137.000000\n",
       "GILMORE COLLEGE                             138.000000\n",
       "CECIL ANDREWS COLLEGE                       139.000000\n",
       "\n",
       "[159 rows x 1 columns]"
      ]
     },
     "execution_count": 64,
     "metadata": {},
     "output_type": "execute_result"
    }
   ],
   "source": [
    "train[['NEAREST_SCH', 'NEAREST_SCH_RANK']].groupby('NEAREST_SCH').mean().sort_values('NEAREST_SCH_RANK')"
   ]
  },
  {
   "cell_type": "code",
   "execution_count": 65,
   "id": "d8ac8a7a",
   "metadata": {},
   "outputs": [
    {
     "data": {
      "text/plain": [
       "ID\n",
       "0    120.000000\n",
       "1     74.322663\n",
       "2    111.000000\n",
       "3    106.000000\n",
       "4     25.000000\n",
       "Name: NEAREST_SCH_RANK, dtype: float64"
      ]
     },
     "execution_count": 65,
     "metadata": {},
     "output_type": "execute_result"
    }
   ],
   "source": [
    "train['NEAREST_SCH_RANK'].head()"
   ]
  },
  {
   "cell_type": "code",
   "execution_count": 66,
   "id": "6f33b486",
   "metadata": {},
   "outputs": [
    {
     "data": {
      "text/plain": [
       "{'SOUTH METROPOLITAN YOUTH LINK COMMUNITY COLLEGE'}"
      ]
     },
     "execution_count": 66,
     "metadata": {},
     "output_type": "execute_result"
    }
   ],
   "source": [
    "set(test['NEAREST_SCH']) - set(train['NEAREST_SCH'])"
   ]
  },
  {
   "cell_type": "code",
   "execution_count": 67,
   "id": "abb5795e",
   "metadata": {
    "scrolled": true
   },
   "outputs": [],
   "source": [
    "k = train['NEAREST_SCH_RANK'].mean()"
   ]
  },
  {
   "cell_type": "code",
   "execution_count": 68,
   "id": "a950894b",
   "metadata": {},
   "outputs": [],
   "source": [
    "a = train[['NEAREST_SCH', 'NEAREST_SCH_RANK']]['NEAREST_SCH']\n",
    "b = train[['NEAREST_SCH', 'NEAREST_SCH_RANK']]['NEAREST_SCH_RANK']"
   ]
  },
  {
   "cell_type": "code",
   "execution_count": 69,
   "id": "20131a48",
   "metadata": {},
   "outputs": [
    {
     "data": {
      "text/plain": [
       "'ARANMORE CATHOLIC COLLEGE'"
      ]
     },
     "execution_count": 69,
     "metadata": {},
     "output_type": "execute_result"
    }
   ],
   "source": [
    "a[3]"
   ]
  },
  {
   "cell_type": "code",
   "execution_count": 73,
   "id": "92a93258",
   "metadata": {},
   "outputs": [],
   "source": [
    "# 4115, 11523, 14806, 12373, 12576\n",
    "\n",
    "ns_dict = {}\n",
    "\n",
    "for i in range(len(a) + 5):\n",
    "    if i not in [4115, 11523, 14806, 12373, 12576]:    \n",
    "        ns_dict[a[i]] = b[i]"
   ]
  },
  {
   "cell_type": "code",
   "execution_count": 74,
   "id": "195eb946",
   "metadata": {},
   "outputs": [],
   "source": [
    "ns_dict['SOUTH METROPOLITAN YOUTH LINK COMMUNITY COLLEGE'] = k"
   ]
  },
  {
   "cell_type": "code",
   "execution_count": 75,
   "id": "a925eb3f",
   "metadata": {},
   "outputs": [],
   "source": [
    "test['NEAREST_SCH_RANK'] = test['NEAREST_SCH'].map(ns_dict)"
   ]
  },
  {
   "cell_type": "code",
   "execution_count": 76,
   "id": "570ca3c0",
   "metadata": {},
   "outputs": [],
   "source": [
    "train.drop('NEAREST_SCH', axis=1, inplace=True)\n",
    "test.drop('NEAREST_SCH', axis=1, inplace=True)"
   ]
  },
  {
   "cell_type": "code",
   "execution_count": 77,
   "id": "b0747063",
   "metadata": {},
   "outputs": [],
   "source": [
    "from sklearn.ensemble import HistGradientBoostingRegressor"
   ]
  },
  {
   "cell_type": "code",
   "execution_count": 78,
   "id": "adc1f499",
   "metadata": {},
   "outputs": [],
   "source": [
    "hgbr = HistGradientBoostingRegressor()"
   ]
  },
  {
   "cell_type": "code",
   "execution_count": 79,
   "id": "cac58a69",
   "metadata": {},
   "outputs": [],
   "source": [
    "from sklearn.model_selection import cross_val_score\n",
    "\n",
    "y_train = train.pop('PRICE')\n",
    "X_train = train"
   ]
  },
  {
   "cell_type": "code",
   "execution_count": 80,
   "id": "3afd9fbf",
   "metadata": {},
   "outputs": [
    {
     "name": "stdout",
     "output_type": "stream",
     "text": [
      "hgbr_result: [0.83287051 0.85330379 0.86000832 0.85098564 0.84081152]\n",
      "hgbr_mean: 0.8475959556487421\n"
     ]
    }
   ],
   "source": [
    "hgbr_result = cross_val_score(hgbr, X_train, y_train, cv=5)\n",
    "\n",
    "\n",
    "print('hgbr_result:', hgbr_result)\n",
    "print('hgbr_mean:', hgbr_result.mean())"
   ]
  },
  {
   "cell_type": "code",
   "execution_count": 81,
   "id": "ffbbbd3e",
   "metadata": {},
   "outputs": [],
   "source": [
    "from sklearn.preprocessing import StandardScaler"
   ]
  },
  {
   "cell_type": "code",
   "execution_count": 82,
   "id": "9050caf7",
   "metadata": {},
   "outputs": [],
   "source": [
    "# 스케일러 생성\n",
    "scaler = StandardScaler()\n",
    "\n",
    "# 현재 데이터의 분포 범위 확인\n",
    "scaler.fit(X_train)\n",
    "\n",
    "# 데이터 변환\n",
    "tf_X_train = scaler.transform(X_train)\n",
    "tf_test = scaler.transform(test)"
   ]
  },
  {
   "cell_type": "code",
   "execution_count": 83,
   "id": "59844427",
   "metadata": {},
   "outputs": [
    {
     "name": "stdout",
     "output_type": "stream",
     "text": [
      "hgbr_result: [0.82954972 0.84931242 0.85924838 0.85213226 0.8421432 ]\n",
      "hgbr_mean: 0.846477198050032\n"
     ]
    }
   ],
   "source": [
    "hgbr_result = cross_val_score(hgbr, tf_X_train, y_train, cv=5)\n",
    "\n",
    "print('hgbr_result:', hgbr_result)\n",
    "print('hgbr_mean:', hgbr_result.mean())"
   ]
  },
  {
   "cell_type": "code",
   "execution_count": 84,
   "id": "88f81732",
   "metadata": {},
   "outputs": [],
   "source": [
    "# 예측\n",
    "hgbr.fit(X_train, y_train)\n",
    "hgbr_pre = hgbr.predict(test)\n",
    "\n",
    "# 답안지 파일 불러오기\n",
    "result = pd.read_csv('data/sample_submission.csv')\n",
    "\n",
    "# 예측값 초기화\n",
    "result['PRICE'] = hgbr_pre\n",
    "\n",
    "# df -> csv 저장\n",
    "result.to_csv('try07_hgbr.csv', index=False)"
   ]
  },
  {
   "cell_type": "code",
   "execution_count": 85,
   "id": "e934b2ad",
   "metadata": {},
   "outputs": [],
   "source": [
    "hgbr2 = HistGradientBoostingRegressor()\n",
    "\n",
    "\n",
    "# 예측\n",
    "hgbr2.fit(tf_X_train, y_train)\n",
    "hgbr2_pre = hgbr2.predict(tf_test)\n",
    "\n",
    "# 답안지 파일 불러오기\n",
    "result = pd.read_csv('data/sample_submission.csv')\n",
    "\n",
    "# 예측값 초기화\n",
    "result['PRICE'] = hgbr2_pre\n",
    "\n",
    "# df -> csv 저장\n",
    "result.to_csv('try07_hgbr2.csv', index=False)"
   ]
  },
  {
   "cell_type": "code",
   "execution_count": null,
   "id": "a01b7510",
   "metadata": {},
   "outputs": [],
   "source": [
    " "
   ]
  }
 ],
 "metadata": {
  "kernelspec": {
   "display_name": "Python 3 (ipykernel)",
   "language": "python",
   "name": "python3"
  },
  "language_info": {
   "codemirror_mode": {
    "name": "ipython",
    "version": 3
   },
   "file_extension": ".py",
   "mimetype": "text/x-python",
   "name": "python",
   "nbconvert_exporter": "python",
   "pygments_lexer": "ipython3",
   "version": "3.9.12"
  }
 },
 "nbformat": 4,
 "nbformat_minor": 5
}
