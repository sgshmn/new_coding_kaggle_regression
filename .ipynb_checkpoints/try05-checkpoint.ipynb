{
 "cells": [
  {
   "cell_type": "code",
   "execution_count": 1,
   "id": "189074a7",
   "metadata": {},
   "outputs": [],
   "source": [
    "import pandas as pd"
   ]
  },
  {
   "cell_type": "code",
   "execution_count": 2,
   "id": "8e21ab29",
   "metadata": {},
   "outputs": [],
   "source": [
    "train = pd.read_csv('data/train.csv', index_col='ID')\n",
    "test = pd.read_csv('data/test.csv', index_col='ID')"
   ]
  },
  {
   "cell_type": "code",
   "execution_count": 3,
   "id": "5aaa7ba1",
   "metadata": {},
   "outputs": [
    {
     "data": {
      "text/plain": [
       "ID\n",
       "0               9 Crumlin Way\n",
       "1    37 Sissinghurst Crescent\n",
       "2               24 Tees Court\n",
       "3          31 Brentham Street\n",
       "4        46/1 Corkhill Street\n",
       "Name: ADDRESS, dtype: object"
      ]
     },
     "execution_count": 3,
     "metadata": {},
     "output_type": "execute_result"
    }
   ],
   "source": [
    "train['ADDRESS'].head()"
   ]
  },
  {
   "cell_type": "code",
   "execution_count": 4,
   "id": "ff81625d",
   "metadata": {},
   "outputs": [],
   "source": [
    "def change_address(ad):\n",
    "    li_ad = ad.split()\n",
    "    return (li_ad[-1]).upper()"
   ]
  },
  {
   "cell_type": "code",
   "execution_count": 5,
   "id": "f1b2457d",
   "metadata": {},
   "outputs": [],
   "source": [
    "train['ADDRESS'] = train['ADDRESS'].apply(change_address)\n",
    "test['ADDRESS'] = test['ADDRESS'].apply(change_address)"
   ]
  },
  {
   "cell_type": "code",
   "execution_count": 6,
   "id": "20948959",
   "metadata": {},
   "outputs": [
    {
     "data": {
      "text/plain": [
       "PRICE               1.000000\n",
       "FLOOR_AREA          0.539524\n",
       "NEAREST_SCH_RANK    0.453937\n",
       "BATHROOMS           0.386485\n",
       "CBD_DIST            0.357368\n",
       "BEDROOMS            0.256909\n",
       "LONGITUDE           0.183514\n",
       "POSTCODE            0.162925\n",
       "BUILD_YEAR          0.148771\n",
       "GARAGE              0.124276\n",
       "NEAREST_STN_DIST    0.099370\n",
       "LAND_AREA           0.046778\n",
       "LATITUDE            0.046722\n",
       "NEAREST_SCH_DIST    0.024030\n",
       "Name: PRICE, dtype: float64"
      ]
     },
     "execution_count": 6,
     "metadata": {},
     "output_type": "execute_result"
    }
   ],
   "source": [
    "train.corr()['PRICE'].abs().sort_values(ascending=False)"
   ]
  },
  {
   "cell_type": "code",
   "execution_count": 7,
   "id": "ac838ce1",
   "metadata": {
    "scrolled": true
   },
   "outputs": [
    {
     "data": {
      "text/html": [
       "<div>\n",
       "<style scoped>\n",
       "    .dataframe tbody tr th:only-of-type {\n",
       "        vertical-align: middle;\n",
       "    }\n",
       "\n",
       "    .dataframe tbody tr th {\n",
       "        vertical-align: top;\n",
       "    }\n",
       "\n",
       "    .dataframe thead th {\n",
       "        text-align: right;\n",
       "    }\n",
       "</style>\n",
       "<table border=\"1\" class=\"dataframe\">\n",
       "  <thead>\n",
       "    <tr style=\"text-align: right;\">\n",
       "      <th></th>\n",
       "      <th>ADDRESS</th>\n",
       "      <th>SUBURB</th>\n",
       "      <th>PRICE</th>\n",
       "      <th>BEDROOMS</th>\n",
       "      <th>BATHROOMS</th>\n",
       "      <th>GARAGE</th>\n",
       "      <th>LAND_AREA</th>\n",
       "      <th>FLOOR_AREA</th>\n",
       "      <th>BUILD_YEAR</th>\n",
       "      <th>CBD_DIST</th>\n",
       "      <th>NEAREST_STN</th>\n",
       "      <th>NEAREST_STN_DIST</th>\n",
       "      <th>DATE_SOLD</th>\n",
       "      <th>POSTCODE</th>\n",
       "      <th>LATITUDE</th>\n",
       "      <th>LONGITUDE</th>\n",
       "      <th>NEAREST_SCH</th>\n",
       "      <th>NEAREST_SCH_DIST</th>\n",
       "      <th>NEAREST_SCH_RANK</th>\n",
       "    </tr>\n",
       "    <tr>\n",
       "      <th>ID</th>\n",
       "      <th></th>\n",
       "      <th></th>\n",
       "      <th></th>\n",
       "      <th></th>\n",
       "      <th></th>\n",
       "      <th></th>\n",
       "      <th></th>\n",
       "      <th></th>\n",
       "      <th></th>\n",
       "      <th></th>\n",
       "      <th></th>\n",
       "      <th></th>\n",
       "      <th></th>\n",
       "      <th></th>\n",
       "      <th></th>\n",
       "      <th></th>\n",
       "      <th></th>\n",
       "      <th></th>\n",
       "      <th></th>\n",
       "    </tr>\n",
       "  </thead>\n",
       "  <tbody>\n",
       "    <tr>\n",
       "      <th>0</th>\n",
       "      <td>WAY</td>\n",
       "      <td>Ridgewood</td>\n",
       "      <td>520000</td>\n",
       "      <td>5</td>\n",
       "      <td>2</td>\n",
       "      <td>4.0</td>\n",
       "      <td>674</td>\n",
       "      <td>266</td>\n",
       "      <td>2007.0</td>\n",
       "      <td>35500</td>\n",
       "      <td>Butler Station</td>\n",
       "      <td>3000</td>\n",
       "      <td>09-2015\\r</td>\n",
       "      <td>6030</td>\n",
       "      <td>-31.656206</td>\n",
       "      <td>115.720566</td>\n",
       "      <td>IRENE MCCORMACK CATHOLIC COLLEGE</td>\n",
       "      <td>1.079230</td>\n",
       "      <td>120.0</td>\n",
       "    </tr>\n",
       "    <tr>\n",
       "      <th>1</th>\n",
       "      <td>CRESCENT</td>\n",
       "      <td>Landsdale</td>\n",
       "      <td>575000</td>\n",
       "      <td>5</td>\n",
       "      <td>4</td>\n",
       "      <td>2.0</td>\n",
       "      <td>540</td>\n",
       "      <td>301</td>\n",
       "      <td>2014.0</td>\n",
       "      <td>16900</td>\n",
       "      <td>Whitfords Station</td>\n",
       "      <td>8100</td>\n",
       "      <td>07-2018\\r</td>\n",
       "      <td>6065</td>\n",
       "      <td>-31.800802</td>\n",
       "      <td>115.867675</td>\n",
       "      <td>LANDSDALE CHRISTIAN SCHOOL</td>\n",
       "      <td>0.667585</td>\n",
       "      <td>NaN</td>\n",
       "    </tr>\n",
       "    <tr>\n",
       "      <th>2</th>\n",
       "      <td>COURT</td>\n",
       "      <td>Mindarie</td>\n",
       "      <td>760000</td>\n",
       "      <td>4</td>\n",
       "      <td>2</td>\n",
       "      <td>2.0</td>\n",
       "      <td>781</td>\n",
       "      <td>220</td>\n",
       "      <td>1992.0</td>\n",
       "      <td>33500</td>\n",
       "      <td>Clarkson Station</td>\n",
       "      <td>3500</td>\n",
       "      <td>02-2020\\r</td>\n",
       "      <td>6030</td>\n",
       "      <td>-31.682040</td>\n",
       "      <td>115.702600</td>\n",
       "      <td>MINDARIE SENIOR COLLEGE</td>\n",
       "      <td>0.650761</td>\n",
       "      <td>111.0</td>\n",
       "    </tr>\n",
       "  </tbody>\n",
       "</table>\n",
       "</div>"
      ],
      "text/plain": [
       "     ADDRESS     SUBURB   PRICE  BEDROOMS  BATHROOMS  GARAGE  LAND_AREA  \\\n",
       "ID                                                                        \n",
       "0        WAY  Ridgewood  520000         5          2     4.0        674   \n",
       "1   CRESCENT  Landsdale  575000         5          4     2.0        540   \n",
       "2      COURT   Mindarie  760000         4          2     2.0        781   \n",
       "\n",
       "    FLOOR_AREA  BUILD_YEAR  CBD_DIST        NEAREST_STN  NEAREST_STN_DIST  \\\n",
       "ID                                                                          \n",
       "0          266      2007.0     35500     Butler Station              3000   \n",
       "1          301      2014.0     16900  Whitfords Station              8100   \n",
       "2          220      1992.0     33500   Clarkson Station              3500   \n",
       "\n",
       "    DATE_SOLD  POSTCODE   LATITUDE   LONGITUDE  \\\n",
       "ID                                               \n",
       "0   09-2015\\r      6030 -31.656206  115.720566   \n",
       "1   07-2018\\r      6065 -31.800802  115.867675   \n",
       "2   02-2020\\r      6030 -31.682040  115.702600   \n",
       "\n",
       "                         NEAREST_SCH  NEAREST_SCH_DIST  NEAREST_SCH_RANK  \n",
       "ID                                                                        \n",
       "0   IRENE MCCORMACK CATHOLIC COLLEGE          1.079230             120.0  \n",
       "1         LANDSDALE CHRISTIAN SCHOOL          0.667585               NaN  \n",
       "2            MINDARIE SENIOR COLLEGE          0.650761             111.0  "
      ]
     },
     "execution_count": 7,
     "metadata": {},
     "output_type": "execute_result"
    }
   ],
   "source": [
    "train.head(3)"
   ]
  },
  {
   "cell_type": "code",
   "execution_count": 8,
   "id": "a3f9ff99",
   "metadata": {},
   "outputs": [],
   "source": [
    "# SUBURB\n",
    "# NEAREST_STN"
   ]
  },
  {
   "cell_type": "code",
   "execution_count": 9,
   "id": "3c3ff4f1",
   "metadata": {},
   "outputs": [],
   "source": [
    "def year_sold(date):\n",
    "    return int(date[3:-1])"
   ]
  },
  {
   "cell_type": "code",
   "execution_count": 10,
   "id": "0cabbd54",
   "metadata": {},
   "outputs": [],
   "source": [
    "train['YEAR_SOLD'] = train['DATE_SOLD'].apply(year_sold)"
   ]
  },
  {
   "cell_type": "code",
   "execution_count": 11,
   "id": "fff64200",
   "metadata": {},
   "outputs": [],
   "source": [
    "test['YEAR_SOLD'] = test['DATE_SOLD'].apply(year_sold)"
   ]
  },
  {
   "cell_type": "code",
   "execution_count": 12,
   "id": "99aa5743",
   "metadata": {},
   "outputs": [],
   "source": [
    "train.drop('DATE_SOLD', axis=1, inplace=True)\n",
    "test.drop('DATE_SOLD', axis=1, inplace=True)"
   ]
  },
  {
   "cell_type": "code",
   "execution_count": 13,
   "id": "873a5322",
   "metadata": {},
   "outputs": [],
   "source": [
    "train['GARAGE'].fillna(2.0, inplace=True)\n",
    "test['GARAGE'].fillna(2.0, inplace=True)"
   ]
  },
  {
   "cell_type": "code",
   "execution_count": 14,
   "id": "2eb20dff",
   "metadata": {
    "scrolled": true
   },
   "outputs": [
    {
     "data": {
      "text/plain": [
       "BUILD_YEAR          1.000000\n",
       "BATHROOMS           0.345848\n",
       "CBD_DIST            0.258332\n",
       "BEDROOMS            0.234275\n",
       "FLOOR_AREA          0.230423\n",
       "NEAREST_SCH_RANK    0.151206\n",
       "PRICE               0.148771\n",
       "NEAREST_SCH_DIST    0.096881\n",
       "NEAREST_STN_DIST    0.090911\n",
       "YEAR_SOLD           0.082095\n",
       "LONGITUDE           0.063877\n",
       "LATITUDE            0.045702\n",
       "GARAGE              0.044824\n",
       "POSTCODE            0.038833\n",
       "LAND_AREA           0.009614\n",
       "Name: BUILD_YEAR, dtype: float64"
      ]
     },
     "execution_count": 14,
     "metadata": {},
     "output_type": "execute_result"
    }
   ],
   "source": [
    "train.corr()['BUILD_YEAR'].abs().sort_values(ascending=False)"
   ]
  },
  {
   "cell_type": "code",
   "execution_count": 15,
   "id": "d37b0aaa",
   "metadata": {},
   "outputs": [
    {
     "data": {
      "text/plain": [
       "Index(['ADDRESS', 'SUBURB', 'PRICE', 'BEDROOMS', 'BATHROOMS', 'GARAGE',\n",
       "       'LAND_AREA', 'FLOOR_AREA', 'BUILD_YEAR', 'CBD_DIST', 'NEAREST_STN',\n",
       "       'NEAREST_STN_DIST', 'POSTCODE', 'LATITUDE', 'LONGITUDE', 'NEAREST_SCH',\n",
       "       'NEAREST_SCH_DIST', 'NEAREST_SCH_RANK', 'YEAR_SOLD'],\n",
       "      dtype='object')"
      ]
     },
     "execution_count": 15,
     "metadata": {},
     "output_type": "execute_result"
    }
   ],
   "source": [
    "train.columns"
   ]
  },
  {
   "cell_type": "code",
   "execution_count": 16,
   "id": "93b62383",
   "metadata": {},
   "outputs": [
    {
     "data": {
      "text/html": [
       "<div>\n",
       "<style scoped>\n",
       "    .dataframe tbody tr th:only-of-type {\n",
       "        vertical-align: middle;\n",
       "    }\n",
       "\n",
       "    .dataframe tbody tr th {\n",
       "        vertical-align: top;\n",
       "    }\n",
       "\n",
       "    .dataframe thead th {\n",
       "        text-align: right;\n",
       "    }\n",
       "</style>\n",
       "<table border=\"1\" class=\"dataframe\">\n",
       "  <thead>\n",
       "    <tr style=\"text-align: right;\">\n",
       "      <th></th>\n",
       "      <th>BEDROOMS</th>\n",
       "      <th>BATHROOMS</th>\n",
       "      <th>GARAGE</th>\n",
       "      <th>LAND_AREA</th>\n",
       "      <th>FLOOR_AREA</th>\n",
       "      <th>CBD_DIST</th>\n",
       "      <th>NEAREST_STN_DIST</th>\n",
       "      <th>POSTCODE</th>\n",
       "      <th>LATITUDE</th>\n",
       "      <th>LONGITUDE</th>\n",
       "      <th>NEAREST_SCH_DIST</th>\n",
       "      <th>YEAR_SOLD</th>\n",
       "      <th>BUILD_YEAR</th>\n",
       "    </tr>\n",
       "    <tr>\n",
       "      <th>ID</th>\n",
       "      <th></th>\n",
       "      <th></th>\n",
       "      <th></th>\n",
       "      <th></th>\n",
       "      <th></th>\n",
       "      <th></th>\n",
       "      <th></th>\n",
       "      <th></th>\n",
       "      <th></th>\n",
       "      <th></th>\n",
       "      <th></th>\n",
       "      <th></th>\n",
       "      <th></th>\n",
       "    </tr>\n",
       "  </thead>\n",
       "  <tbody>\n",
       "    <tr>\n",
       "      <th>0</th>\n",
       "      <td>5</td>\n",
       "      <td>2</td>\n",
       "      <td>4.0</td>\n",
       "      <td>674</td>\n",
       "      <td>266</td>\n",
       "      <td>35500</td>\n",
       "      <td>3000</td>\n",
       "      <td>6030</td>\n",
       "      <td>-31.656206</td>\n",
       "      <td>115.720566</td>\n",
       "      <td>1.079230</td>\n",
       "      <td>2015</td>\n",
       "      <td>2007.0</td>\n",
       "    </tr>\n",
       "    <tr>\n",
       "      <th>1</th>\n",
       "      <td>5</td>\n",
       "      <td>4</td>\n",
       "      <td>2.0</td>\n",
       "      <td>540</td>\n",
       "      <td>301</td>\n",
       "      <td>16900</td>\n",
       "      <td>8100</td>\n",
       "      <td>6065</td>\n",
       "      <td>-31.800802</td>\n",
       "      <td>115.867675</td>\n",
       "      <td>0.667585</td>\n",
       "      <td>2018</td>\n",
       "      <td>2014.0</td>\n",
       "    </tr>\n",
       "    <tr>\n",
       "      <th>2</th>\n",
       "      <td>4</td>\n",
       "      <td>2</td>\n",
       "      <td>2.0</td>\n",
       "      <td>781</td>\n",
       "      <td>220</td>\n",
       "      <td>33500</td>\n",
       "      <td>3500</td>\n",
       "      <td>6030</td>\n",
       "      <td>-31.682040</td>\n",
       "      <td>115.702600</td>\n",
       "      <td>0.650761</td>\n",
       "      <td>2020</td>\n",
       "      <td>1992.0</td>\n",
       "    </tr>\n",
       "  </tbody>\n",
       "</table>\n",
       "</div>"
      ],
      "text/plain": [
       "    BEDROOMS  BATHROOMS  GARAGE  LAND_AREA  FLOOR_AREA  CBD_DIST  \\\n",
       "ID                                                                 \n",
       "0          5          2     4.0        674         266     35500   \n",
       "1          5          4     2.0        540         301     16900   \n",
       "2          4          2     2.0        781         220     33500   \n",
       "\n",
       "    NEAREST_STN_DIST  POSTCODE   LATITUDE   LONGITUDE  NEAREST_SCH_DIST  \\\n",
       "ID                                                                        \n",
       "0               3000      6030 -31.656206  115.720566          1.079230   \n",
       "1               8100      6065 -31.800802  115.867675          0.667585   \n",
       "2               3500      6030 -31.682040  115.702600          0.650761   \n",
       "\n",
       "    YEAR_SOLD  BUILD_YEAR  \n",
       "ID                         \n",
       "0        2015      2007.0  \n",
       "1        2018      2014.0  \n",
       "2        2020      1992.0  "
      ]
     },
     "execution_count": 16,
     "metadata": {},
     "output_type": "execute_result"
    }
   ],
   "source": [
    "bui = train[['BEDROOMS', 'BATHROOMS', 'GARAGE',\n",
    "       'LAND_AREA', 'FLOOR_AREA', 'CBD_DIST',\n",
    "       'NEAREST_STN_DIST', 'POSTCODE', 'LATITUDE', 'LONGITUDE', 'NEAREST_SCH_DIST', 'YEAR_SOLD', 'BUILD_YEAR']]\n",
    "bui.head(3)"
   ]
  },
  {
   "cell_type": "code",
   "execution_count": 17,
   "id": "b7c2ed07",
   "metadata": {},
   "outputs": [],
   "source": [
    "bui_train = bui[bui['BUILD_YEAR'].notnull()]\n",
    "bui_test = bui[bui['BUILD_YEAR'].isnull()][['BEDROOMS', 'BATHROOMS', 'GARAGE',\n",
    "       'LAND_AREA', 'FLOOR_AREA', 'CBD_DIST',\n",
    "       'NEAREST_STN_DIST', 'POSTCODE', 'LATITUDE', 'LONGITUDE', 'NEAREST_SCH_DIST', 'YEAR_SOLD', 'BUILD_YEAR']]\n",
    "bui_X = bui_train[['BEDROOMS', 'BATHROOMS', 'GARAGE',\n",
    "       'LAND_AREA', 'FLOOR_AREA', 'CBD_DIST',\n",
    "       'NEAREST_STN_DIST', 'POSTCODE', 'LATITUDE', 'LONGITUDE', 'NEAREST_SCH_DIST', 'YEAR_SOLD']]\n",
    "bui_y = bui_train['BUILD_YEAR']"
   ]
  },
  {
   "cell_type": "code",
   "execution_count": 18,
   "id": "073fa1d2",
   "metadata": {},
   "outputs": [],
   "source": [
    "from sklearn.ensemble import HistGradientBoostingRegressor\n",
    "\n",
    "hgbr = HistGradientBoostingRegressor()"
   ]
  },
  {
   "cell_type": "code",
   "execution_count": 19,
   "id": "3fdcbc98",
   "metadata": {},
   "outputs": [],
   "source": [
    "from sklearn.model_selection import cross_val_score"
   ]
  },
  {
   "cell_type": "code",
   "execution_count": 20,
   "id": "66a6891c",
   "metadata": {},
   "outputs": [
    {
     "name": "stdout",
     "output_type": "stream",
     "text": [
      "hgbr_result: [0.56746857 0.5800927  0.5654447  0.5572853  0.5815074 ]\n",
      "hgbr_mean: 0.5703597342510573\n"
     ]
    }
   ],
   "source": [
    "hgbr_result = cross_val_score(hgbr, bui_X, bui_y, cv=5)\n",
    "\n",
    "print('hgbr_result:', hgbr_result)\n",
    "print('hgbr_mean:', hgbr_result.mean())"
   ]
  },
  {
   "cell_type": "code",
   "execution_count": 21,
   "id": "20b6fd06",
   "metadata": {},
   "outputs": [
    {
     "data": {
      "text/plain": [
       "HistGradientBoostingRegressor()"
      ]
     },
     "execution_count": 21,
     "metadata": {},
     "output_type": "execute_result"
    }
   ],
   "source": [
    "hgbr.fit(bui_X, bui_y)"
   ]
  },
  {
   "cell_type": "code",
   "execution_count": 22,
   "id": "3e12e787",
   "metadata": {},
   "outputs": [],
   "source": [
    "bui_pre = hgbr.predict(bui_test[['BEDROOMS', 'BATHROOMS', 'GARAGE',\n",
    "       'LAND_AREA', 'FLOOR_AREA', 'CBD_DIST',\n",
    "       'NEAREST_STN_DIST', 'POSTCODE', 'LATITUDE', 'LONGITUDE', 'NEAREST_SCH_DIST', 'YEAR_SOLD']])"
   ]
  },
  {
   "cell_type": "code",
   "execution_count": 23,
   "id": "92cb3adb",
   "metadata": {},
   "outputs": [],
   "source": [
    "bui_test['BUILD_YEAR'] = bui_pre"
   ]
  },
  {
   "cell_type": "code",
   "execution_count": 24,
   "id": "b4bfc449",
   "metadata": {},
   "outputs": [
    {
     "data": {
      "text/plain": [
       "0"
      ]
     },
     "execution_count": 24,
     "metadata": {},
     "output_type": "execute_result"
    }
   ],
   "source": [
    "train['BUILD_YEAR'].fillna(bui_test['BUILD_YEAR'], inplace=True)\n",
    "train['BUILD_YEAR'].isnull().sum()"
   ]
  },
  {
   "cell_type": "code",
   "execution_count": 25,
   "id": "1af109e7",
   "metadata": {},
   "outputs": [
    {
     "data": {
      "text/html": [
       "<div>\n",
       "<style scoped>\n",
       "    .dataframe tbody tr th:only-of-type {\n",
       "        vertical-align: middle;\n",
       "    }\n",
       "\n",
       "    .dataframe tbody tr th {\n",
       "        vertical-align: top;\n",
       "    }\n",
       "\n",
       "    .dataframe thead th {\n",
       "        text-align: right;\n",
       "    }\n",
       "</style>\n",
       "<table border=\"1\" class=\"dataframe\">\n",
       "  <thead>\n",
       "    <tr style=\"text-align: right;\">\n",
       "      <th></th>\n",
       "      <th>BEDROOMS</th>\n",
       "      <th>BATHROOMS</th>\n",
       "      <th>GARAGE</th>\n",
       "      <th>LAND_AREA</th>\n",
       "      <th>FLOOR_AREA</th>\n",
       "      <th>CBD_DIST</th>\n",
       "      <th>NEAREST_STN_DIST</th>\n",
       "      <th>POSTCODE</th>\n",
       "      <th>LATITUDE</th>\n",
       "      <th>LONGITUDE</th>\n",
       "      <th>NEAREST_SCH_DIST</th>\n",
       "      <th>YEAR_SOLD</th>\n",
       "      <th>BUILD_YEAR</th>\n",
       "    </tr>\n",
       "    <tr>\n",
       "      <th>ID</th>\n",
       "      <th></th>\n",
       "      <th></th>\n",
       "      <th></th>\n",
       "      <th></th>\n",
       "      <th></th>\n",
       "      <th></th>\n",
       "      <th></th>\n",
       "      <th></th>\n",
       "      <th></th>\n",
       "      <th></th>\n",
       "      <th></th>\n",
       "      <th></th>\n",
       "      <th></th>\n",
       "    </tr>\n",
       "  </thead>\n",
       "  <tbody>\n",
       "    <tr>\n",
       "      <th>18510</th>\n",
       "      <td>3</td>\n",
       "      <td>2</td>\n",
       "      <td>3.0</td>\n",
       "      <td>2199</td>\n",
       "      <td>159</td>\n",
       "      <td>29600</td>\n",
       "      <td>15600</td>\n",
       "      <td>6073</td>\n",
       "      <td>-31.899705</td>\n",
       "      <td>116.166117</td>\n",
       "      <td>1.341198</td>\n",
       "      <td>2019</td>\n",
       "      <td>1950.0</td>\n",
       "    </tr>\n",
       "    <tr>\n",
       "      <th>18511</th>\n",
       "      <td>4</td>\n",
       "      <td>3</td>\n",
       "      <td>2.0</td>\n",
       "      <td>509</td>\n",
       "      <td>341</td>\n",
       "      <td>8200</td>\n",
       "      <td>2000</td>\n",
       "      <td>6152</td>\n",
       "      <td>-32.018620</td>\n",
       "      <td>115.858900</td>\n",
       "      <td>0.882405</td>\n",
       "      <td>2017</td>\n",
       "      <td>2001.0</td>\n",
       "    </tr>\n",
       "    <tr>\n",
       "      <th>18512</th>\n",
       "      <td>4</td>\n",
       "      <td>3</td>\n",
       "      <td>2.0</td>\n",
       "      <td>725</td>\n",
       "      <td>251</td>\n",
       "      <td>10500</td>\n",
       "      <td>2700</td>\n",
       "      <td>6154</td>\n",
       "      <td>-32.042090</td>\n",
       "      <td>115.826290</td>\n",
       "      <td>1.639635</td>\n",
       "      <td>2018</td>\n",
       "      <td>1982.0</td>\n",
       "    </tr>\n",
       "  </tbody>\n",
       "</table>\n",
       "</div>"
      ],
      "text/plain": [
       "       BEDROOMS  BATHROOMS  GARAGE  LAND_AREA  FLOOR_AREA  CBD_DIST  \\\n",
       "ID                                                                    \n",
       "18510         3          2     3.0       2199         159     29600   \n",
       "18511         4          3     2.0        509         341      8200   \n",
       "18512         4          3     2.0        725         251     10500   \n",
       "\n",
       "       NEAREST_STN_DIST  POSTCODE   LATITUDE   LONGITUDE  NEAREST_SCH_DIST  \\\n",
       "ID                                                                           \n",
       "18510             15600      6073 -31.899705  116.166117          1.341198   \n",
       "18511              2000      6152 -32.018620  115.858900          0.882405   \n",
       "18512              2700      6154 -32.042090  115.826290          1.639635   \n",
       "\n",
       "       YEAR_SOLD  BUILD_YEAR  \n",
       "ID                            \n",
       "18510       2019      1950.0  \n",
       "18511       2017      2001.0  \n",
       "18512       2018      1982.0  "
      ]
     },
     "execution_count": 25,
     "metadata": {},
     "output_type": "execute_result"
    }
   ],
   "source": [
    "bui = test[['BEDROOMS', 'BATHROOMS', 'GARAGE',\n",
    "       'LAND_AREA', 'FLOOR_AREA', 'CBD_DIST',\n",
    "       'NEAREST_STN_DIST', 'POSTCODE', 'LATITUDE', 'LONGITUDE', 'NEAREST_SCH_DIST', 'YEAR_SOLD', 'BUILD_YEAR']]\n",
    "bui.head(3)"
   ]
  },
  {
   "cell_type": "code",
   "execution_count": 26,
   "id": "a9b0e452",
   "metadata": {},
   "outputs": [],
   "source": [
    "bui_test = bui[bui['BUILD_YEAR'].isnull()][['BEDROOMS', 'BATHROOMS', 'GARAGE',\n",
    "       'LAND_AREA', 'FLOOR_AREA', 'CBD_DIST',\n",
    "       'NEAREST_STN_DIST', 'POSTCODE', 'LATITUDE', 'LONGITUDE', 'NEAREST_SCH_DIST', 'YEAR_SOLD', 'BUILD_YEAR']]"
   ]
  },
  {
   "cell_type": "code",
   "execution_count": 27,
   "id": "e2f8dfba",
   "metadata": {},
   "outputs": [],
   "source": [
    "bui_pre = hgbr.predict(bui_test[['BEDROOMS', 'BATHROOMS', 'GARAGE',\n",
    "       'LAND_AREA', 'FLOOR_AREA', 'CBD_DIST',\n",
    "       'NEAREST_STN_DIST', 'POSTCODE', 'LATITUDE', 'LONGITUDE', 'NEAREST_SCH_DIST', 'YEAR_SOLD']])"
   ]
  },
  {
   "cell_type": "code",
   "execution_count": 28,
   "id": "88121fa7",
   "metadata": {},
   "outputs": [],
   "source": [
    "bui_test['BUILD_YEAR'] = bui_pre"
   ]
  },
  {
   "cell_type": "code",
   "execution_count": 29,
   "id": "1848d838",
   "metadata": {},
   "outputs": [
    {
     "data": {
      "text/plain": [
       "0"
      ]
     },
     "execution_count": 29,
     "metadata": {},
     "output_type": "execute_result"
    }
   ],
   "source": [
    "test['BUILD_YEAR'].fillna(bui_test['BUILD_YEAR'], inplace=True)\n",
    "test['BUILD_YEAR'].isnull().sum()"
   ]
  },
  {
   "cell_type": "code",
   "execution_count": 30,
   "id": "e95e05f0",
   "metadata": {},
   "outputs": [],
   "source": [
    "train['YEAR_DIFF'] = train['YEAR_SOLD'] - train['BUILD_YEAR']\n",
    "test['YEAR_DIFF'] = test['YEAR_SOLD'] - test['BUILD_YEAR']"
   ]
  },
  {
   "cell_type": "code",
   "execution_count": 31,
   "id": "41ca05f8",
   "metadata": {
    "scrolled": true
   },
   "outputs": [
    {
     "data": {
      "text/plain": [
       "Index(['ADDRESS', 'SUBURB', 'PRICE', 'BEDROOMS', 'BATHROOMS', 'GARAGE',\n",
       "       'LAND_AREA', 'FLOOR_AREA', 'BUILD_YEAR', 'CBD_DIST', 'NEAREST_STN',\n",
       "       'NEAREST_STN_DIST', 'POSTCODE', 'LATITUDE', 'LONGITUDE', 'NEAREST_SCH',\n",
       "       'NEAREST_SCH_DIST', 'NEAREST_SCH_RANK', 'YEAR_SOLD', 'YEAR_DIFF'],\n",
       "      dtype='object')"
      ]
     },
     "execution_count": 31,
     "metadata": {},
     "output_type": "execute_result"
    }
   ],
   "source": [
    "train.columns"
   ]
  },
  {
   "cell_type": "code",
   "execution_count": 32,
   "id": "ac87634a",
   "metadata": {},
   "outputs": [
    {
     "data": {
      "text/html": [
       "<div>\n",
       "<style scoped>\n",
       "    .dataframe tbody tr th:only-of-type {\n",
       "        vertical-align: middle;\n",
       "    }\n",
       "\n",
       "    .dataframe tbody tr th {\n",
       "        vertical-align: top;\n",
       "    }\n",
       "\n",
       "    .dataframe thead th {\n",
       "        text-align: right;\n",
       "    }\n",
       "</style>\n",
       "<table border=\"1\" class=\"dataframe\">\n",
       "  <thead>\n",
       "    <tr style=\"text-align: right;\">\n",
       "      <th></th>\n",
       "      <th>BEDROOMS</th>\n",
       "      <th>BATHROOMS</th>\n",
       "      <th>GARAGE</th>\n",
       "      <th>LAND_AREA</th>\n",
       "      <th>FLOOR_AREA</th>\n",
       "      <th>BUILD_YEAR</th>\n",
       "      <th>CBD_DIST</th>\n",
       "      <th>NEAREST_STN_DIST</th>\n",
       "      <th>POSTCODE</th>\n",
       "      <th>LATITUDE</th>\n",
       "      <th>LONGITUDE</th>\n",
       "      <th>NEAREST_SCH_DIST</th>\n",
       "      <th>YEAR_SOLD</th>\n",
       "      <th>YEAR_DIFF</th>\n",
       "      <th>NEAREST_SCH_RANK</th>\n",
       "    </tr>\n",
       "    <tr>\n",
       "      <th>ID</th>\n",
       "      <th></th>\n",
       "      <th></th>\n",
       "      <th></th>\n",
       "      <th></th>\n",
       "      <th></th>\n",
       "      <th></th>\n",
       "      <th></th>\n",
       "      <th></th>\n",
       "      <th></th>\n",
       "      <th></th>\n",
       "      <th></th>\n",
       "      <th></th>\n",
       "      <th></th>\n",
       "      <th></th>\n",
       "      <th></th>\n",
       "    </tr>\n",
       "  </thead>\n",
       "  <tbody>\n",
       "    <tr>\n",
       "      <th>0</th>\n",
       "      <td>5</td>\n",
       "      <td>2</td>\n",
       "      <td>4.0</td>\n",
       "      <td>674</td>\n",
       "      <td>266</td>\n",
       "      <td>2007.0</td>\n",
       "      <td>35500</td>\n",
       "      <td>3000</td>\n",
       "      <td>6030</td>\n",
       "      <td>-31.656206</td>\n",
       "      <td>115.720566</td>\n",
       "      <td>1.079230</td>\n",
       "      <td>2015</td>\n",
       "      <td>8.0</td>\n",
       "      <td>120.0</td>\n",
       "    </tr>\n",
       "    <tr>\n",
       "      <th>1</th>\n",
       "      <td>5</td>\n",
       "      <td>4</td>\n",
       "      <td>2.0</td>\n",
       "      <td>540</td>\n",
       "      <td>301</td>\n",
       "      <td>2014.0</td>\n",
       "      <td>16900</td>\n",
       "      <td>8100</td>\n",
       "      <td>6065</td>\n",
       "      <td>-31.800802</td>\n",
       "      <td>115.867675</td>\n",
       "      <td>0.667585</td>\n",
       "      <td>2018</td>\n",
       "      <td>4.0</td>\n",
       "      <td>NaN</td>\n",
       "    </tr>\n",
       "    <tr>\n",
       "      <th>2</th>\n",
       "      <td>4</td>\n",
       "      <td>2</td>\n",
       "      <td>2.0</td>\n",
       "      <td>781</td>\n",
       "      <td>220</td>\n",
       "      <td>1992.0</td>\n",
       "      <td>33500</td>\n",
       "      <td>3500</td>\n",
       "      <td>6030</td>\n",
       "      <td>-31.682040</td>\n",
       "      <td>115.702600</td>\n",
       "      <td>0.650761</td>\n",
       "      <td>2020</td>\n",
       "      <td>28.0</td>\n",
       "      <td>111.0</td>\n",
       "    </tr>\n",
       "    <tr>\n",
       "      <th>3</th>\n",
       "      <td>2</td>\n",
       "      <td>1</td>\n",
       "      <td>2.0</td>\n",
       "      <td>425</td>\n",
       "      <td>185</td>\n",
       "      <td>1938.0</td>\n",
       "      <td>3500</td>\n",
       "      <td>1500</td>\n",
       "      <td>6016</td>\n",
       "      <td>-31.926046</td>\n",
       "      <td>115.838181</td>\n",
       "      <td>0.484465</td>\n",
       "      <td>2020</td>\n",
       "      <td>82.0</td>\n",
       "      <td>106.0</td>\n",
       "    </tr>\n",
       "    <tr>\n",
       "      <th>4</th>\n",
       "      <td>3</td>\n",
       "      <td>2</td>\n",
       "      <td>2.0</td>\n",
       "      <td>546</td>\n",
       "      <td>186</td>\n",
       "      <td>2004.0</td>\n",
       "      <td>12900</td>\n",
       "      <td>800</td>\n",
       "      <td>6159</td>\n",
       "      <td>-32.032079</td>\n",
       "      <td>115.759626</td>\n",
       "      <td>1.869050</td>\n",
       "      <td>2017</td>\n",
       "      <td>13.0</td>\n",
       "      <td>25.0</td>\n",
       "    </tr>\n",
       "  </tbody>\n",
       "</table>\n",
       "</div>"
      ],
      "text/plain": [
       "    BEDROOMS  BATHROOMS  GARAGE  LAND_AREA  FLOOR_AREA  BUILD_YEAR  CBD_DIST  \\\n",
       "ID                                                                             \n",
       "0          5          2     4.0        674         266      2007.0     35500   \n",
       "1          5          4     2.0        540         301      2014.0     16900   \n",
       "2          4          2     2.0        781         220      1992.0     33500   \n",
       "3          2          1     2.0        425         185      1938.0      3500   \n",
       "4          3          2     2.0        546         186      2004.0     12900   \n",
       "\n",
       "    NEAREST_STN_DIST  POSTCODE   LATITUDE   LONGITUDE  NEAREST_SCH_DIST  \\\n",
       "ID                                                                        \n",
       "0               3000      6030 -31.656206  115.720566          1.079230   \n",
       "1               8100      6065 -31.800802  115.867675          0.667585   \n",
       "2               3500      6030 -31.682040  115.702600          0.650761   \n",
       "3               1500      6016 -31.926046  115.838181          0.484465   \n",
       "4                800      6159 -32.032079  115.759626          1.869050   \n",
       "\n",
       "    YEAR_SOLD  YEAR_DIFF  NEAREST_SCH_RANK  \n",
       "ID                                          \n",
       "0        2015        8.0             120.0  \n",
       "1        2018        4.0               NaN  \n",
       "2        2020       28.0             111.0  \n",
       "3        2020       82.0             106.0  \n",
       "4        2017       13.0              25.0  "
      ]
     },
     "execution_count": 32,
     "metadata": {},
     "output_type": "execute_result"
    }
   ],
   "source": [
    "sch = train[['BEDROOMS', 'BATHROOMS', 'GARAGE',\n",
    "       'LAND_AREA', 'FLOOR_AREA', 'BUILD_YEAR', 'CBD_DIST',\n",
    "       'NEAREST_STN_DIST', 'POSTCODE', 'LATITUDE', 'LONGITUDE', 'NEAREST_SCH_DIST', 'YEAR_SOLD', 'YEAR_DIFF', 'NEAREST_SCH_RANK']]\n",
    "sch.head()"
   ]
  },
  {
   "cell_type": "code",
   "execution_count": 33,
   "id": "af026833",
   "metadata": {},
   "outputs": [],
   "source": [
    "sch_train = sch[sch['NEAREST_SCH_RANK'].notnull()]\n",
    "sch_test = sch[sch['NEAREST_SCH_RANK'].isnull()][['BEDROOMS', 'BATHROOMS', 'GARAGE',\n",
    "       'LAND_AREA', 'FLOOR_AREA', 'BUILD_YEAR', 'CBD_DIST',\n",
    "       'NEAREST_STN_DIST', 'POSTCODE', 'LATITUDE', 'LONGITUDE', 'NEAREST_SCH_DIST', 'YEAR_SOLD', 'YEAR_DIFF', 'NEAREST_SCH_RANK']]\n",
    "sch_X = sch_train[['BEDROOMS', 'BATHROOMS', 'GARAGE',\n",
    "       'LAND_AREA', 'FLOOR_AREA', 'BUILD_YEAR', 'CBD_DIST',\n",
    "       'NEAREST_STN_DIST', 'POSTCODE', 'LATITUDE', 'LONGITUDE', 'NEAREST_SCH_DIST', 'YEAR_SOLD', 'YEAR_DIFF']]\n",
    "sch_y = sch_train['NEAREST_SCH_RANK']"
   ]
  },
  {
   "cell_type": "code",
   "execution_count": 34,
   "id": "ebd757a3",
   "metadata": {},
   "outputs": [],
   "source": [
    "from sklearn.ensemble import HistGradientBoostingRegressor\n",
    "hgbr = HistGradientBoostingRegressor()"
   ]
  },
  {
   "cell_type": "code",
   "execution_count": 35,
   "id": "a794eec6",
   "metadata": {},
   "outputs": [],
   "source": [
    "from sklearn.model_selection import cross_val_score"
   ]
  },
  {
   "cell_type": "code",
   "execution_count": 36,
   "id": "023c5fbf",
   "metadata": {},
   "outputs": [],
   "source": [
    "sch_result = cross_val_score(hgbr, sch_X, sch_y, cv=5)"
   ]
  },
  {
   "cell_type": "code",
   "execution_count": 37,
   "id": "b5859c47",
   "metadata": {},
   "outputs": [
    {
     "name": "stdout",
     "output_type": "stream",
     "text": [
      "[0.92198959 0.92191194 0.92391405 0.92562892 0.91921296]\n",
      "0.9225314924624837\n"
     ]
    }
   ],
   "source": [
    "print(sch_result)\n",
    "print(sch_result.mean())"
   ]
  },
  {
   "cell_type": "code",
   "execution_count": 38,
   "id": "28d7a5f7",
   "metadata": {},
   "outputs": [
    {
     "data": {
      "text/plain": [
       "HistGradientBoostingRegressor()"
      ]
     },
     "execution_count": 38,
     "metadata": {},
     "output_type": "execute_result"
    }
   ],
   "source": [
    "hgbr.fit(sch_X, sch_y)"
   ]
  },
  {
   "cell_type": "code",
   "execution_count": 39,
   "id": "9b93249a",
   "metadata": {},
   "outputs": [],
   "source": [
    "sch_pre = hgbr.predict(sch_test[['BEDROOMS', 'BATHROOMS', 'GARAGE',\n",
    "       'LAND_AREA', 'FLOOR_AREA', 'BUILD_YEAR', 'CBD_DIST',\n",
    "       'NEAREST_STN_DIST', 'POSTCODE', 'LATITUDE', 'LONGITUDE', 'NEAREST_SCH_DIST', 'YEAR_SOLD', 'YEAR_DIFF']])"
   ]
  },
  {
   "cell_type": "code",
   "execution_count": 40,
   "id": "7e214f1b",
   "metadata": {},
   "outputs": [],
   "source": [
    "sch_test['NEAREST_SCH_RANK'] = sch_pre"
   ]
  },
  {
   "cell_type": "code",
   "execution_count": 41,
   "id": "dd59595a",
   "metadata": {},
   "outputs": [
    {
     "data": {
      "text/plain": [
       "0"
      ]
     },
     "execution_count": 41,
     "metadata": {},
     "output_type": "execute_result"
    }
   ],
   "source": [
    "train['NEAREST_SCH_RANK'].fillna(sch_test['NEAREST_SCH_RANK'], inplace=True)\n",
    "train['NEAREST_SCH_RANK'].isnull().sum()"
   ]
  },
  {
   "cell_type": "code",
   "execution_count": 42,
   "id": "6f33b486",
   "metadata": {},
   "outputs": [],
   "source": [
    "n = set(test['NEAREST_SCH']) - set(train['NEAREST_SCH'])"
   ]
  },
  {
   "cell_type": "code",
   "execution_count": 43,
   "id": "abb5795e",
   "metadata": {
    "scrolled": true
   },
   "outputs": [],
   "source": [
    "k = train['NEAREST_SCH_RANK'].mean()"
   ]
  },
  {
   "cell_type": "code",
   "execution_count": 44,
   "id": "a950894b",
   "metadata": {},
   "outputs": [],
   "source": [
    "a = train[['NEAREST_SCH', 'NEAREST_SCH_RANK']]['NEAREST_SCH']\n",
    "b = train[['NEAREST_SCH', 'NEAREST_SCH_RANK']]['NEAREST_SCH_RANK']"
   ]
  },
  {
   "cell_type": "code",
   "execution_count": 45,
   "id": "20131a48",
   "metadata": {},
   "outputs": [
    {
     "data": {
      "text/plain": [
       "'ARANMORE CATHOLIC COLLEGE'"
      ]
     },
     "execution_count": 45,
     "metadata": {},
     "output_type": "execute_result"
    }
   ],
   "source": [
    "a[3]"
   ]
  },
  {
   "cell_type": "code",
   "execution_count": 46,
   "id": "92a93258",
   "metadata": {},
   "outputs": [],
   "source": [
    "ns_dict = {}\n",
    "\n",
    "for i in range(len(a)):\n",
    "    ns_dict[a[i]] = b[i]"
   ]
  },
  {
   "cell_type": "code",
   "execution_count": 47,
   "id": "195eb946",
   "metadata": {},
   "outputs": [],
   "source": [
    "ns_dict[list(n)[0]] = k"
   ]
  },
  {
   "cell_type": "code",
   "execution_count": 48,
   "id": "a925eb3f",
   "metadata": {},
   "outputs": [],
   "source": [
    "test['NEAREST_SCH_RANK'] = test['NEAREST_SCH'].map(ns_dict)"
   ]
  },
  {
   "cell_type": "code",
   "execution_count": 49,
   "id": "570ca3c0",
   "metadata": {},
   "outputs": [],
   "source": [
    "train.drop('NEAREST_SCH', axis=1, inplace=True)\n",
    "test.drop('NEAREST_SCH', axis=1, inplace=True)"
   ]
  },
  {
   "cell_type": "code",
   "execution_count": 50,
   "id": "fec28d61",
   "metadata": {},
   "outputs": [
    {
     "name": "stdout",
     "output_type": "stream",
     "text": [
      "<class 'pandas.core.frame.DataFrame'>\n",
      "Int64Index: 18510 entries, 0 to 18509\n",
      "Data columns (total 19 columns):\n",
      " #   Column            Non-Null Count  Dtype  \n",
      "---  ------            --------------  -----  \n",
      " 0   ADDRESS           18510 non-null  object \n",
      " 1   SUBURB            18510 non-null  object \n",
      " 2   PRICE             18510 non-null  int64  \n",
      " 3   BEDROOMS          18510 non-null  int64  \n",
      " 4   BATHROOMS         18510 non-null  int64  \n",
      " 5   GARAGE            18510 non-null  float64\n",
      " 6   LAND_AREA         18510 non-null  int64  \n",
      " 7   FLOOR_AREA        18510 non-null  int64  \n",
      " 8   BUILD_YEAR        18510 non-null  float64\n",
      " 9   CBD_DIST          18510 non-null  int64  \n",
      " 10  NEAREST_STN       18510 non-null  object \n",
      " 11  NEAREST_STN_DIST  18510 non-null  int64  \n",
      " 12  POSTCODE          18510 non-null  int64  \n",
      " 13  LATITUDE          18510 non-null  float64\n",
      " 14  LONGITUDE         18510 non-null  float64\n",
      " 15  NEAREST_SCH_DIST  18510 non-null  float64\n",
      " 16  NEAREST_SCH_RANK  18510 non-null  float64\n",
      " 17  YEAR_SOLD         18510 non-null  int64  \n",
      " 18  YEAR_DIFF         18510 non-null  float64\n",
      "dtypes: float64(7), int64(9), object(3)\n",
      "memory usage: 3.3+ MB\n"
     ]
    }
   ],
   "source": [
    "train.info()\n",
    "\n",
    "# 'ADDRESS', 'SUBURB', 'NEAREST_STN' object"
   ]
  },
  {
   "cell_type": "code",
   "execution_count": 51,
   "id": "759848c5",
   "metadata": {},
   "outputs": [
    {
     "data": {
      "text/plain": [
       "['ADDRESS', 'SUBURB', 'NEAREST_STN']"
      ]
     },
     "execution_count": 51,
     "metadata": {},
     "output_type": "execute_result"
    }
   ],
   "source": [
    "cat_features = ['ADDRESS', 'SUBURB', 'NEAREST_STN']\n",
    "cat_features"
   ]
  },
  {
   "cell_type": "code",
   "execution_count": 52,
   "id": "d5a82063",
   "metadata": {},
   "outputs": [],
   "source": [
    "for cat_name in cat_features:\n",
    "    dummy = pd.get_dummies(train[cat_name], prefix=cat_name)\n",
    "    train = pd.concat([train, dummy], axis=1)\n",
    "    train.drop(cat_name, axis=1, inplace=True)"
   ]
  },
  {
   "cell_type": "code",
   "execution_count": 53,
   "id": "29b60b6b",
   "metadata": {},
   "outputs": [],
   "source": [
    "for cat_name in cat_features:\n",
    "    dummy = pd.get_dummies(test[cat_name], prefix=cat_name)\n",
    "    test = pd.concat([test, dummy], axis=1)\n",
    "    test.drop(cat_name, axis=1, inplace=True)"
   ]
  },
  {
   "cell_type": "code",
   "execution_count": 54,
   "id": "190a459a",
   "metadata": {},
   "outputs": [],
   "source": [
    "for_test = set(train.columns) - set(test.columns)\n",
    "for_train = set(test.columns) - set(train.columns)"
   ]
  },
  {
   "cell_type": "code",
   "execution_count": 55,
   "id": "f7384b95",
   "metadata": {},
   "outputs": [],
   "source": [
    "for i in for_test:\n",
    "    test[i] = 0"
   ]
  },
  {
   "cell_type": "code",
   "execution_count": 56,
   "id": "ee3bc4bc",
   "metadata": {},
   "outputs": [],
   "source": [
    "for i in for_train:\n",
    "    train[i] = 0"
   ]
  },
  {
   "cell_type": "code",
   "execution_count": 57,
   "id": "c6cd183c",
   "metadata": {},
   "outputs": [],
   "source": [
    "test.drop('PRICE', axis=1, inplace=True)"
   ]
  },
  {
   "cell_type": "code",
   "execution_count": 59,
   "id": "b0747063",
   "metadata": {},
   "outputs": [],
   "source": [
    "from sklearn.ensemble import HistGradientBoostingRegressor"
   ]
  },
  {
   "cell_type": "code",
   "execution_count": 60,
   "id": "adc1f499",
   "metadata": {},
   "outputs": [],
   "source": [
    "hgbr = HistGradientBoostingRegressor()"
   ]
  },
  {
   "cell_type": "code",
   "execution_count": 61,
   "id": "cac58a69",
   "metadata": {},
   "outputs": [],
   "source": [
    "from sklearn.model_selection import cross_val_score\n",
    "\n",
    "y_train = train.pop('PRICE')\n",
    "X_train = train"
   ]
  },
  {
   "cell_type": "code",
   "execution_count": 63,
   "id": "3afd9fbf",
   "metadata": {},
   "outputs": [
    {
     "name": "stdout",
     "output_type": "stream",
     "text": [
      "hgbr_result: [0.82354145 0.83909635 0.85338979 0.8470183  0.82910332]\n",
      "hgbr_mean: 0.8384298428633377\n"
     ]
    }
   ],
   "source": [
    "hgbr_result = cross_val_score(hgbr, X_train, y_train, cv=5)\n",
    "\n",
    "\n",
    "print('hgbr_result:', hgbr_result)\n",
    "print('hgbr_mean:', hgbr_result.mean())"
   ]
  },
  {
   "cell_type": "code",
   "execution_count": 64,
   "id": "ffbbbd3e",
   "metadata": {},
   "outputs": [],
   "source": [
    "from sklearn.preprocessing import StandardScaler"
   ]
  },
  {
   "cell_type": "code",
   "execution_count": 65,
   "id": "9050caf7",
   "metadata": {},
   "outputs": [
    {
     "name": "stderr",
     "output_type": "stream",
     "text": [
      "C:\\Anaconda3\\lib\\site-packages\\sklearn\\base.py:493: FutureWarning: The feature names should match those that were passed during fit. Starting version 1.2, an error will be raised.\n",
      "Feature names must be in the same order as they were in fit.\n",
      "\n",
      "  warnings.warn(message, FutureWarning)\n"
     ]
    }
   ],
   "source": [
    "# 스케일러 생성\n",
    "scaler = StandardScaler()\n",
    "\n",
    "# 현재 데이터의 분포 범위 확인\n",
    "scaler.fit(X_train)\n",
    "\n",
    "# 데이터 변환\n",
    "tf_X_train = scaler.transform(X_train)\n",
    "tf_test = scaler.transform(test)"
   ]
  },
  {
   "cell_type": "code",
   "execution_count": 66,
   "id": "59844427",
   "metadata": {},
   "outputs": [
    {
     "name": "stdout",
     "output_type": "stream",
     "text": [
      "hgbr_result: [0.82741144 0.83477257 0.84956793 0.84332299 0.83037694]\n",
      "hgbr_mean: 0.8370903747762451\n"
     ]
    }
   ],
   "source": [
    "hgbr_result = cross_val_score(hgbr, tf_X_train, y_train, cv=5)\n",
    "\n",
    "print('hgbr_result:', hgbr_result)\n",
    "print('hgbr_mean:', hgbr_result.mean())"
   ]
  },
  {
   "cell_type": "code",
   "execution_count": 67,
   "id": "88f81732",
   "metadata": {},
   "outputs": [
    {
     "name": "stderr",
     "output_type": "stream",
     "text": [
      "C:\\Anaconda3\\lib\\site-packages\\sklearn\\base.py:493: FutureWarning: The feature names should match those that were passed during fit. Starting version 1.2, an error will be raised.\n",
      "Feature names must be in the same order as they were in fit.\n",
      "\n",
      "  warnings.warn(message, FutureWarning)\n"
     ]
    }
   ],
   "source": [
    "# 예측\n",
    "hgbr.fit(X_train, y_train)\n",
    "hgbr_pre = hgbr.predict(test)\n",
    "\n",
    "# 답안지 파일 불러오기\n",
    "result = pd.read_csv('data/sample_submission.csv')\n",
    "\n",
    "# 예측값 초기화\n",
    "result['PRICE'] = hgbr_pre\n",
    "\n",
    "# df -> csv 저장\n",
    "result.to_csv('try05/try05_hgbr.csv', index=False)"
   ]
  },
  {
   "cell_type": "code",
   "execution_count": 68,
   "id": "e934b2ad",
   "metadata": {},
   "outputs": [],
   "source": [
    "hgbr2 = HistGradientBoostingRegressor()\n",
    "\n",
    "\n",
    "# 예측\n",
    "hgbr2.fit(tf_X_train, y_train)\n",
    "hgbr2_pre = hgbr2.predict(tf_test)\n",
    "\n",
    "# 답안지 파일 불러오기\n",
    "result = pd.read_csv('data/sample_submission.csv')\n",
    "\n",
    "# 예측값 초기화\n",
    "result['PRICE'] = hgbr2_pre\n",
    "\n",
    "# df -> csv 저장\n",
    "result.to_csv('try05/try05_hgbr2.csv', index=False)"
   ]
  },
  {
   "cell_type": "code",
   "execution_count": null,
   "id": "a01b7510",
   "metadata": {},
   "outputs": [],
   "source": []
  }
 ],
 "metadata": {
  "kernelspec": {
   "display_name": "Python 3 (ipykernel)",
   "language": "python",
   "name": "python3"
  },
  "language_info": {
   "codemirror_mode": {
    "name": "ipython",
    "version": 3
   },
   "file_extension": ".py",
   "mimetype": "text/x-python",
   "name": "python",
   "nbconvert_exporter": "python",
   "pygments_lexer": "ipython3",
   "version": "3.9.12"
  }
 },
 "nbformat": 4,
 "nbformat_minor": 5
}
