{
 "cells": [
  {
   "cell_type": "code",
   "execution_count": 8,
   "id": "508dd536",
   "metadata": {},
   "outputs": [],
   "source": [
    "import pandas as pd\n",
    "import matplotlib.pyplot as plt\n",
    "import numpy as np"
   ]
  },
  {
   "cell_type": "markdown",
   "id": "9f91c321",
   "metadata": {},
   "source": [
    "## 내용"
   ]
  },
  {
   "cell_type": "code",
   "execution_count": 9,
   "id": "18071028",
   "metadata": {
    "scrolled": false
   },
   "outputs": [
    {
     "name": "stdout",
     "output_type": "stream",
     "text": [
      "<class 'pandas.core.frame.DataFrame'>\n"
     ]
    },
    {
     "data": {
      "text/html": [
       "<div>\n",
       "<style scoped>\n",
       "    .dataframe tbody tr th:only-of-type {\n",
       "        vertical-align: middle;\n",
       "    }\n",
       "\n",
       "    .dataframe tbody tr th {\n",
       "        vertical-align: top;\n",
       "    }\n",
       "\n",
       "    .dataframe thead th {\n",
       "        text-align: right;\n",
       "    }\n",
       "</style>\n",
       "<table border=\"1\" class=\"dataframe\">\n",
       "  <thead>\n",
       "    <tr style=\"text-align: right;\">\n",
       "      <th></th>\n",
       "      <th>ADDRESS</th>\n",
       "      <th>SUBURB</th>\n",
       "      <th>PRICE</th>\n",
       "      <th>BEDROOMS</th>\n",
       "      <th>BATHROOMS</th>\n",
       "      <th>GARAGE</th>\n",
       "      <th>LAND_AREA</th>\n",
       "      <th>FLOOR_AREA</th>\n",
       "      <th>BUILD_YEAR</th>\n",
       "      <th>CBD_DIST</th>\n",
       "      <th>NEAREST_STN</th>\n",
       "      <th>NEAREST_STN_DIST</th>\n",
       "      <th>DATE_SOLD</th>\n",
       "      <th>POSTCODE</th>\n",
       "      <th>LATITUDE</th>\n",
       "      <th>LONGITUDE</th>\n",
       "      <th>NEAREST_SCH</th>\n",
       "      <th>NEAREST_SCH_DIST</th>\n",
       "      <th>NEAREST_SCH_RANK</th>\n",
       "    </tr>\n",
       "    <tr>\n",
       "      <th>ID</th>\n",
       "      <th></th>\n",
       "      <th></th>\n",
       "      <th></th>\n",
       "      <th></th>\n",
       "      <th></th>\n",
       "      <th></th>\n",
       "      <th></th>\n",
       "      <th></th>\n",
       "      <th></th>\n",
       "      <th></th>\n",
       "      <th></th>\n",
       "      <th></th>\n",
       "      <th></th>\n",
       "      <th></th>\n",
       "      <th></th>\n",
       "      <th></th>\n",
       "      <th></th>\n",
       "      <th></th>\n",
       "      <th></th>\n",
       "    </tr>\n",
       "  </thead>\n",
       "  <tbody>\n",
       "    <tr>\n",
       "      <th>0</th>\n",
       "      <td>9 Crumlin Way</td>\n",
       "      <td>Ridgewood</td>\n",
       "      <td>520000</td>\n",
       "      <td>5</td>\n",
       "      <td>2</td>\n",
       "      <td>4.0</td>\n",
       "      <td>674</td>\n",
       "      <td>266</td>\n",
       "      <td>2007.0</td>\n",
       "      <td>35500</td>\n",
       "      <td>Butler Station</td>\n",
       "      <td>3000</td>\n",
       "      <td>09-2015\\r</td>\n",
       "      <td>6030</td>\n",
       "      <td>-31.656206</td>\n",
       "      <td>115.720566</td>\n",
       "      <td>IRENE MCCORMACK CATHOLIC COLLEGE</td>\n",
       "      <td>1.079230</td>\n",
       "      <td>120.0</td>\n",
       "    </tr>\n",
       "    <tr>\n",
       "      <th>1</th>\n",
       "      <td>37 Sissinghurst Crescent</td>\n",
       "      <td>Landsdale</td>\n",
       "      <td>575000</td>\n",
       "      <td>5</td>\n",
       "      <td>4</td>\n",
       "      <td>2.0</td>\n",
       "      <td>540</td>\n",
       "      <td>301</td>\n",
       "      <td>2014.0</td>\n",
       "      <td>16900</td>\n",
       "      <td>Whitfords Station</td>\n",
       "      <td>8100</td>\n",
       "      <td>07-2018\\r</td>\n",
       "      <td>6065</td>\n",
       "      <td>-31.800802</td>\n",
       "      <td>115.867675</td>\n",
       "      <td>LANDSDALE CHRISTIAN SCHOOL</td>\n",
       "      <td>0.667585</td>\n",
       "      <td>NaN</td>\n",
       "    </tr>\n",
       "    <tr>\n",
       "      <th>2</th>\n",
       "      <td>24 Tees Court</td>\n",
       "      <td>Mindarie</td>\n",
       "      <td>760000</td>\n",
       "      <td>4</td>\n",
       "      <td>2</td>\n",
       "      <td>2.0</td>\n",
       "      <td>781</td>\n",
       "      <td>220</td>\n",
       "      <td>1992.0</td>\n",
       "      <td>33500</td>\n",
       "      <td>Clarkson Station</td>\n",
       "      <td>3500</td>\n",
       "      <td>02-2020\\r</td>\n",
       "      <td>6030</td>\n",
       "      <td>-31.682040</td>\n",
       "      <td>115.702600</td>\n",
       "      <td>MINDARIE SENIOR COLLEGE</td>\n",
       "      <td>0.650761</td>\n",
       "      <td>111.0</td>\n",
       "    </tr>\n",
       "    <tr>\n",
       "      <th>3</th>\n",
       "      <td>31 Brentham Street</td>\n",
       "      <td>Mount Hawthorn</td>\n",
       "      <td>1230000</td>\n",
       "      <td>2</td>\n",
       "      <td>1</td>\n",
       "      <td>2.0</td>\n",
       "      <td>425</td>\n",
       "      <td>185</td>\n",
       "      <td>1938.0</td>\n",
       "      <td>3500</td>\n",
       "      <td>Leederville Station</td>\n",
       "      <td>1500</td>\n",
       "      <td>07-2020\\r</td>\n",
       "      <td>6016</td>\n",
       "      <td>-31.926046</td>\n",
       "      <td>115.838181</td>\n",
       "      <td>ARANMORE CATHOLIC COLLEGE</td>\n",
       "      <td>0.484465</td>\n",
       "      <td>106.0</td>\n",
       "    </tr>\n",
       "    <tr>\n",
       "      <th>4</th>\n",
       "      <td>46/1 Corkhill Street</td>\n",
       "      <td>North Fremantle</td>\n",
       "      <td>2010000</td>\n",
       "      <td>3</td>\n",
       "      <td>2</td>\n",
       "      <td>2.0</td>\n",
       "      <td>546</td>\n",
       "      <td>186</td>\n",
       "      <td>2004.0</td>\n",
       "      <td>12900</td>\n",
       "      <td>North Fremantle Station</td>\n",
       "      <td>800</td>\n",
       "      <td>10-2017\\r</td>\n",
       "      <td>6159</td>\n",
       "      <td>-32.032079</td>\n",
       "      <td>115.759626</td>\n",
       "      <td>JOHN CURTIN COLLEGE OF THE ARTS</td>\n",
       "      <td>1.869050</td>\n",
       "      <td>25.0</td>\n",
       "    </tr>\n",
       "  </tbody>\n",
       "</table>\n",
       "</div>"
      ],
      "text/plain": [
       "                     ADDRESS           SUBURB    PRICE  BEDROOMS  BATHROOMS  \\\n",
       "ID                                                                            \n",
       "0              9 Crumlin Way        Ridgewood   520000         5          2   \n",
       "1   37 Sissinghurst Crescent        Landsdale   575000         5          4   \n",
       "2              24 Tees Court         Mindarie   760000         4          2   \n",
       "3         31 Brentham Street   Mount Hawthorn  1230000         2          1   \n",
       "4       46/1 Corkhill Street  North Fremantle  2010000         3          2   \n",
       "\n",
       "    GARAGE  LAND_AREA  FLOOR_AREA  BUILD_YEAR  CBD_DIST  \\\n",
       "ID                                                        \n",
       "0      4.0        674         266      2007.0     35500   \n",
       "1      2.0        540         301      2014.0     16900   \n",
       "2      2.0        781         220      1992.0     33500   \n",
       "3      2.0        425         185      1938.0      3500   \n",
       "4      2.0        546         186      2004.0     12900   \n",
       "\n",
       "                NEAREST_STN  NEAREST_STN_DIST  DATE_SOLD  POSTCODE   LATITUDE  \\\n",
       "ID                                                                              \n",
       "0            Butler Station              3000  09-2015\\r      6030 -31.656206   \n",
       "1         Whitfords Station              8100  07-2018\\r      6065 -31.800802   \n",
       "2          Clarkson Station              3500  02-2020\\r      6030 -31.682040   \n",
       "3       Leederville Station              1500  07-2020\\r      6016 -31.926046   \n",
       "4   North Fremantle Station               800  10-2017\\r      6159 -32.032079   \n",
       "\n",
       "     LONGITUDE                       NEAREST_SCH  NEAREST_SCH_DIST  \\\n",
       "ID                                                                   \n",
       "0   115.720566  IRENE MCCORMACK CATHOLIC COLLEGE          1.079230   \n",
       "1   115.867675        LANDSDALE CHRISTIAN SCHOOL          0.667585   \n",
       "2   115.702600           MINDARIE SENIOR COLLEGE          0.650761   \n",
       "3   115.838181         ARANMORE CATHOLIC COLLEGE          0.484465   \n",
       "4   115.759626   JOHN CURTIN COLLEGE OF THE ARTS          1.869050   \n",
       "\n",
       "    NEAREST_SCH_RANK  \n",
       "ID                    \n",
       "0              120.0  \n",
       "1                NaN  \n",
       "2              111.0  \n",
       "3              106.0  \n",
       "4               25.0  "
      ]
     },
     "metadata": {},
     "output_type": "display_data"
    },
    {
     "data": {
      "text/html": [
       "<div>\n",
       "<style scoped>\n",
       "    .dataframe tbody tr th:only-of-type {\n",
       "        vertical-align: middle;\n",
       "    }\n",
       "\n",
       "    .dataframe tbody tr th {\n",
       "        vertical-align: top;\n",
       "    }\n",
       "\n",
       "    .dataframe thead th {\n",
       "        text-align: right;\n",
       "    }\n",
       "</style>\n",
       "<table border=\"1\" class=\"dataframe\">\n",
       "  <thead>\n",
       "    <tr style=\"text-align: right;\">\n",
       "      <th></th>\n",
       "      <th>ADDRESS</th>\n",
       "      <th>SUBURB</th>\n",
       "      <th>BEDROOMS</th>\n",
       "      <th>BATHROOMS</th>\n",
       "      <th>GARAGE</th>\n",
       "      <th>LAND_AREA</th>\n",
       "      <th>FLOOR_AREA</th>\n",
       "      <th>BUILD_YEAR</th>\n",
       "      <th>CBD_DIST</th>\n",
       "      <th>NEAREST_STN</th>\n",
       "      <th>NEAREST_STN_DIST</th>\n",
       "      <th>DATE_SOLD</th>\n",
       "      <th>POSTCODE</th>\n",
       "      <th>LATITUDE</th>\n",
       "      <th>LONGITUDE</th>\n",
       "      <th>NEAREST_SCH</th>\n",
       "      <th>NEAREST_SCH_DIST</th>\n",
       "      <th>NEAREST_SCH_RANK</th>\n",
       "    </tr>\n",
       "    <tr>\n",
       "      <th>ID</th>\n",
       "      <th></th>\n",
       "      <th></th>\n",
       "      <th></th>\n",
       "      <th></th>\n",
       "      <th></th>\n",
       "      <th></th>\n",
       "      <th></th>\n",
       "      <th></th>\n",
       "      <th></th>\n",
       "      <th></th>\n",
       "      <th></th>\n",
       "      <th></th>\n",
       "      <th></th>\n",
       "      <th></th>\n",
       "      <th></th>\n",
       "      <th></th>\n",
       "      <th></th>\n",
       "      <th></th>\n",
       "    </tr>\n",
       "  </thead>\n",
       "  <tbody>\n",
       "    <tr>\n",
       "      <th>18510</th>\n",
       "      <td>29 Hartung Street</td>\n",
       "      <td>Mundaring</td>\n",
       "      <td>3</td>\n",
       "      <td>2</td>\n",
       "      <td>3.0</td>\n",
       "      <td>2199</td>\n",
       "      <td>159</td>\n",
       "      <td>1950.0</td>\n",
       "      <td>29600</td>\n",
       "      <td>Midland Station</td>\n",
       "      <td>15600</td>\n",
       "      <td>03-2019\\r</td>\n",
       "      <td>6073</td>\n",
       "      <td>-31.899705</td>\n",
       "      <td>116.166117</td>\n",
       "      <td>MUNDARING CHRISTIAN COLLEGE</td>\n",
       "      <td>1.341198</td>\n",
       "      <td>NaN</td>\n",
       "    </tr>\n",
       "    <tr>\n",
       "      <th>18511</th>\n",
       "      <td>6 Kirkby Ridge</td>\n",
       "      <td>Salter Point</td>\n",
       "      <td>4</td>\n",
       "      <td>3</td>\n",
       "      <td>2.0</td>\n",
       "      <td>509</td>\n",
       "      <td>341</td>\n",
       "      <td>2001.0</td>\n",
       "      <td>8200</td>\n",
       "      <td>Canning Bridge Station</td>\n",
       "      <td>2000</td>\n",
       "      <td>08-2017\\r</td>\n",
       "      <td>6152</td>\n",
       "      <td>-32.018620</td>\n",
       "      <td>115.858900</td>\n",
       "      <td>AQUINAS COLLEGE</td>\n",
       "      <td>0.882405</td>\n",
       "      <td>23.0</td>\n",
       "    </tr>\n",
       "    <tr>\n",
       "      <th>18512</th>\n",
       "      <td>45 Connelly Way</td>\n",
       "      <td>Booragoon</td>\n",
       "      <td>4</td>\n",
       "      <td>3</td>\n",
       "      <td>2.0</td>\n",
       "      <td>725</td>\n",
       "      <td>251</td>\n",
       "      <td>1982.0</td>\n",
       "      <td>10500</td>\n",
       "      <td>Bull Creek Station</td>\n",
       "      <td>2700</td>\n",
       "      <td>07-2018\\r</td>\n",
       "      <td>6154</td>\n",
       "      <td>-32.042090</td>\n",
       "      <td>115.826290</td>\n",
       "      <td>APPLECROSS SENIOR HIGH SCHOOL</td>\n",
       "      <td>1.639635</td>\n",
       "      <td>34.0</td>\n",
       "    </tr>\n",
       "    <tr>\n",
       "      <th>18513</th>\n",
       "      <td>21 Torrenova Way</td>\n",
       "      <td>Sinagra</td>\n",
       "      <td>3</td>\n",
       "      <td>2</td>\n",
       "      <td>2.0</td>\n",
       "      <td>401</td>\n",
       "      <td>169</td>\n",
       "      <td>2009.0</td>\n",
       "      <td>24100</td>\n",
       "      <td>Joondalup Station</td>\n",
       "      <td>3500</td>\n",
       "      <td>05-2014\\r</td>\n",
       "      <td>6065</td>\n",
       "      <td>-31.740480</td>\n",
       "      <td>115.804078</td>\n",
       "      <td>WANNEROO SECONDARY COLLEGE</td>\n",
       "      <td>2.199511</td>\n",
       "      <td>131.0</td>\n",
       "    </tr>\n",
       "    <tr>\n",
       "      <th>18514</th>\n",
       "      <td>4B Hilo Place</td>\n",
       "      <td>Warnbro</td>\n",
       "      <td>3</td>\n",
       "      <td>1</td>\n",
       "      <td>1.0</td>\n",
       "      <td>474</td>\n",
       "      <td>107</td>\n",
       "      <td>1993.0</td>\n",
       "      <td>43600</td>\n",
       "      <td>Warnbro Station</td>\n",
       "      <td>1100</td>\n",
       "      <td>03-2019\\r</td>\n",
       "      <td>6169</td>\n",
       "      <td>-32.335790</td>\n",
       "      <td>115.765140</td>\n",
       "      <td>WARNBRO COMMUNITY HIGH SCHOOL</td>\n",
       "      <td>1.227092</td>\n",
       "      <td>NaN</td>\n",
       "    </tr>\n",
       "  </tbody>\n",
       "</table>\n",
       "</div>"
      ],
      "text/plain": [
       "                 ADDRESS        SUBURB  BEDROOMS  BATHROOMS  GARAGE  \\\n",
       "ID                                                                    \n",
       "18510  29 Hartung Street     Mundaring         3          2     3.0   \n",
       "18511     6 Kirkby Ridge  Salter Point         4          3     2.0   \n",
       "18512    45 Connelly Way     Booragoon         4          3     2.0   \n",
       "18513   21 Torrenova Way       Sinagra         3          2     2.0   \n",
       "18514      4B Hilo Place       Warnbro         3          1     1.0   \n",
       "\n",
       "       LAND_AREA  FLOOR_AREA  BUILD_YEAR  CBD_DIST             NEAREST_STN  \\\n",
       "ID                                                                           \n",
       "18510       2199         159      1950.0     29600         Midland Station   \n",
       "18511        509         341      2001.0      8200  Canning Bridge Station   \n",
       "18512        725         251      1982.0     10500      Bull Creek Station   \n",
       "18513        401         169      2009.0     24100       Joondalup Station   \n",
       "18514        474         107      1993.0     43600         Warnbro Station   \n",
       "\n",
       "       NEAREST_STN_DIST  DATE_SOLD  POSTCODE   LATITUDE   LONGITUDE  \\\n",
       "ID                                                                    \n",
       "18510             15600  03-2019\\r      6073 -31.899705  116.166117   \n",
       "18511              2000  08-2017\\r      6152 -32.018620  115.858900   \n",
       "18512              2700  07-2018\\r      6154 -32.042090  115.826290   \n",
       "18513              3500  05-2014\\r      6065 -31.740480  115.804078   \n",
       "18514              1100  03-2019\\r      6169 -32.335790  115.765140   \n",
       "\n",
       "                         NEAREST_SCH  NEAREST_SCH_DIST  NEAREST_SCH_RANK  \n",
       "ID                                                                        \n",
       "18510    MUNDARING CHRISTIAN COLLEGE          1.341198               NaN  \n",
       "18511                AQUINAS COLLEGE          0.882405              23.0  \n",
       "18512  APPLECROSS SENIOR HIGH SCHOOL          1.639635              34.0  \n",
       "18513     WANNEROO SECONDARY COLLEGE          2.199511             131.0  \n",
       "18514  WARNBRO COMMUNITY HIGH SCHOOL          1.227092               NaN  "
      ]
     },
     "metadata": {},
     "output_type": "display_data"
    }
   ],
   "source": [
    "train = pd.read_csv('data/train.csv', index_col='ID') # 훈련 데이터. 문제와 답으로 분리해야한다\n",
    "X_test = pd.read_csv('data/test.csv', index_col='ID') # 테스트 문제 데이터\n",
    "\n",
    "print(type(train))\n",
    "\n",
    "display(train.head())\n",
    "display(X_test.head()) # PRICE가 답이다"
   ]
  },
  {
   "cell_type": "markdown",
   "id": "ff2134c6",
   "metadata": {},
   "source": [
    "## 결측치 처리"
   ]
  },
  {
   "cell_type": "code",
   "execution_count": 41,
   "id": "26e3bd94",
   "metadata": {},
   "outputs": [
    {
     "data": {
      "text/plain": [
       "array([  1.,   2.,   3.,   4.,   5.,   6.,   7.,   8.,   9.,  10.,  11.,\n",
       "        12.,  13.,  14.,  15.,  16.,  17.,  18.,  19.,  20.,  21.,  22.,\n",
       "        23.,  24.,  25.,  28.,  29.,  31.,  32.,  34.,  35.,  37.,  38.,\n",
       "        39.,  40.,  41.,  42.,  43.,  44.,  46.,  47.,  49.,  50.,  51.,\n",
       "        52.,  53.,  55.,  56.,  57.,  58.,  60.,  61.,  62.,  65.,  68.,\n",
       "        71.,  74.,  75.,  77.,  78.,  80.,  83.,  85.,  86.,  87.,  88.,\n",
       "        89.,  91.,  92.,  93.,  96.,  97.,  98.,  99., 100., 102., 104.,\n",
       "       105., 106., 107., 109., 111., 113., 114., 116., 117., 118., 119.,\n",
       "       120., 121., 122., 125., 128., 129., 130., 131., 133., 134., 135.,\n",
       "       136., 137., 138., 139.,  nan])"
      ]
     },
     "execution_count": 41,
     "metadata": {},
     "output_type": "execute_result"
    }
   ],
   "source": [
    "t = train['NEAREST_SCH_RANK'].unique()\n",
    "t.sort()\n",
    "t\n",
    "\n",
    "# 중간중간 랭킹이 비어있다\n",
    "# 빈곳을 채울 수 있을까?"
   ]
  },
  {
   "cell_type": "code",
   "execution_count": 11,
   "id": "a2647d5d",
   "metadata": {
    "scrolled": true
   },
   "outputs": [
    {
     "name": "stdout",
     "output_type": "stream",
     "text": [
      "159\n",
      "104\n"
     ]
    }
   ],
   "source": [
    "print(len(train['NEAREST_SCH'].unique())) # 얘는 조치가 필요하다\n",
    "print(len(train['NEAREST_SCH_RANK'].unique()))\n",
    "\n",
    "# 학교는 159개 인데\n",
    "# 랭킹은 104개다\n",
    "# 랭킹이 없는 학교가 55개일까?"
   ]
  },
  {
   "cell_type": "code",
   "execution_count": 12,
   "id": "dfd8741d",
   "metadata": {},
   "outputs": [
    {
     "name": "stdout",
     "output_type": "stream",
     "text": [
      "49\n",
      "110\n"
     ]
    }
   ],
   "source": [
    "print(len(train[train['NEAREST_SCH_RANK'].isnull()]['NEAREST_SCH'].unique()))\n",
    "print(len(train[train['NEAREST_SCH_RANK'].notnull()]['NEAREST_SCH'].unique()))\n",
    "\n",
    "# ????\n",
    "# 랭킹이 없는 학교는 49개다\n",
    "# 랭킹이 있는 학교는 110개다\n",
    "\n",
    "# 6개의 학교는 다른 학교와 랭킹이 같다\n",
    "# 49개는 랭킹이 null 이다"
   ]
  },
  {
   "cell_type": "code",
   "execution_count": 44,
   "id": "2da47fa8",
   "metadata": {},
   "outputs": [
    {
     "name": "stdout",
     "output_type": "stream",
     "text": [
      "25.0\n",
      "35.0\n",
      "53.0\n",
      "58.0\n",
      "62.0\n",
      "93.0\n",
      "102.0\n",
      "nan\n"
     ]
    }
   ],
   "source": [
    "for i in t:\n",
    "    if len(train[train['NEAREST_SCH_RANK'] == i]['NEAREST_SCH'].unique()) != 1:\n",
    "        print(i)\n",
    "        \n",
    "# 같은 랭킹에 여러개의 학교가 있는 랭킹"
   ]
  },
  {
   "cell_type": "code",
   "execution_count": 13,
   "id": "44eb46d5",
   "metadata": {},
   "outputs": [
    {
     "data": {
      "text/plain": [
       "[]"
      ]
     },
     "execution_count": 13,
     "metadata": {},
     "output_type": "execute_result"
    }
   ],
   "source": [
    "aa = train[train['NEAREST_SCH_RANK'].isnull()]['NEAREST_SCH'].unique()\n",
    "bb = train[train['NEAREST_SCH_RANK'].notnull()]['NEAREST_SCH'].unique()\n",
    "\n",
    "cc = []\n",
    "for a in aa:\n",
    "    for b in bb:\n",
    "        if a == b:\n",
    "            cc.append(a)\n",
    "            \n",
    "cc\n",
    "\n",
    "# 어떤 학교에 랭킹이 붙어있으면 \n",
    "# 그 학교의 랭킹은 null이 아니다\n",
    "# 랭킹을 똑같은지는 모르겠지만 일단은 하나가 null이면 다 null이고 하나가 notnull이면 다 notnull이다"
   ]
  },
  {
   "cell_type": "code",
   "execution_count": 14,
   "id": "42b4ed87",
   "metadata": {
    "scrolled": true
   },
   "outputs": [
    {
     "data": {
      "text/plain": [
       "159"
      ]
     },
     "execution_count": 14,
     "metadata": {},
     "output_type": "execute_result"
    }
   ],
   "source": [
    "len(train['NEAREST_SCH'].unique()) # NEAREST_SCH 은 인코딩 하자"
   ]
  },
  {
   "cell_type": "code",
   "execution_count": 15,
   "id": "def048c5",
   "metadata": {
    "scrolled": true
   },
   "outputs": [
    {
     "data": {
      "text/plain": [
       "318"
      ]
     },
     "execution_count": 15,
     "metadata": {},
     "output_type": "execute_result"
    }
   ],
   "source": [
    "len(train['SUBURB'].unique()) # 'SUBURB'은 인코딩하자"
   ]
  },
  {
   "cell_type": "code",
   "execution_count": 16,
   "id": "6f73afb3",
   "metadata": {},
   "outputs": [
    {
     "data": {
      "text/plain": [
       "68"
      ]
     },
     "execution_count": 16,
     "metadata": {},
     "output_type": "execute_result"
    }
   ],
   "source": [
    "len(train['NEAREST_STN'].unique()) # 'NEAREST_STN'는 인코딩하자"
   ]
  },
  {
   "cell_type": "code",
   "execution_count": 17,
   "id": "afa83361",
   "metadata": {},
   "outputs": [],
   "source": [
    "aa = train['ADDRESS']"
   ]
  },
  {
   "cell_type": "code",
   "execution_count": 18,
   "id": "a554aba6",
   "metadata": {},
   "outputs": [],
   "source": [
    "def deal_aa(aa):\n",
    "    bb = aa.split()\n",
    "    result = ' '.join(s for s in bb[1:])\n",
    "    return result"
   ]
  },
  {
   "cell_type": "code",
   "execution_count": 19,
   "id": "3b0230fc",
   "metadata": {},
   "outputs": [
    {
     "data": {
      "text/plain": [
       "18510"
      ]
     },
     "execution_count": 19,
     "metadata": {},
     "output_type": "execute_result"
    }
   ],
   "source": [
    "len(aa.apply(deal_aa)) # 'ADDRESS'는 버리자"
   ]
  },
  {
   "cell_type": "code",
   "execution_count": 20,
   "id": "dda3a926",
   "metadata": {
    "scrolled": true
   },
   "outputs": [
    {
     "data": {
      "text/plain": [
       "ID\n",
       "0         520000\n",
       "1         575000\n",
       "2         760000\n",
       "3        1230000\n",
       "4        2010000\n",
       "          ...   \n",
       "18505     475000\n",
       "18506     485000\n",
       "18507     642000\n",
       "18508     491000\n",
       "18509     490000\n",
       "Name: PRICE, Length: 18510, dtype: int64"
      ]
     },
     "execution_count": 20,
     "metadata": {},
     "output_type": "execute_result"
    }
   ],
   "source": [
    "y_train = train.pop('PRICE') # 훈련 답 데이터\n",
    "y_train"
   ]
  },
  {
   "cell_type": "code",
   "execution_count": 21,
   "id": "aacae5fe",
   "metadata": {},
   "outputs": [
    {
     "data": {
      "text/html": [
       "<div>\n",
       "<style scoped>\n",
       "    .dataframe tbody tr th:only-of-type {\n",
       "        vertical-align: middle;\n",
       "    }\n",
       "\n",
       "    .dataframe tbody tr th {\n",
       "        vertical-align: top;\n",
       "    }\n",
       "\n",
       "    .dataframe thead th {\n",
       "        text-align: right;\n",
       "    }\n",
       "</style>\n",
       "<table border=\"1\" class=\"dataframe\">\n",
       "  <thead>\n",
       "    <tr style=\"text-align: right;\">\n",
       "      <th></th>\n",
       "      <th>ADDRESS</th>\n",
       "      <th>SUBURB</th>\n",
       "      <th>BEDROOMS</th>\n",
       "      <th>BATHROOMS</th>\n",
       "      <th>GARAGE</th>\n",
       "      <th>LAND_AREA</th>\n",
       "      <th>FLOOR_AREA</th>\n",
       "      <th>BUILD_YEAR</th>\n",
       "      <th>CBD_DIST</th>\n",
       "      <th>NEAREST_STN</th>\n",
       "      <th>NEAREST_STN_DIST</th>\n",
       "      <th>DATE_SOLD</th>\n",
       "      <th>POSTCODE</th>\n",
       "      <th>LATITUDE</th>\n",
       "      <th>LONGITUDE</th>\n",
       "      <th>NEAREST_SCH</th>\n",
       "      <th>NEAREST_SCH_DIST</th>\n",
       "      <th>NEAREST_SCH_RANK</th>\n",
       "    </tr>\n",
       "    <tr>\n",
       "      <th>ID</th>\n",
       "      <th></th>\n",
       "      <th></th>\n",
       "      <th></th>\n",
       "      <th></th>\n",
       "      <th></th>\n",
       "      <th></th>\n",
       "      <th></th>\n",
       "      <th></th>\n",
       "      <th></th>\n",
       "      <th></th>\n",
       "      <th></th>\n",
       "      <th></th>\n",
       "      <th></th>\n",
       "      <th></th>\n",
       "      <th></th>\n",
       "      <th></th>\n",
       "      <th></th>\n",
       "      <th></th>\n",
       "    </tr>\n",
       "  </thead>\n",
       "  <tbody>\n",
       "    <tr>\n",
       "      <th>0</th>\n",
       "      <td>9 Crumlin Way</td>\n",
       "      <td>Ridgewood</td>\n",
       "      <td>5</td>\n",
       "      <td>2</td>\n",
       "      <td>4.0</td>\n",
       "      <td>674</td>\n",
       "      <td>266</td>\n",
       "      <td>2007.0</td>\n",
       "      <td>35500</td>\n",
       "      <td>Butler Station</td>\n",
       "      <td>3000</td>\n",
       "      <td>09-2015\\r</td>\n",
       "      <td>6030</td>\n",
       "      <td>-31.656206</td>\n",
       "      <td>115.720566</td>\n",
       "      <td>IRENE MCCORMACK CATHOLIC COLLEGE</td>\n",
       "      <td>1.079230</td>\n",
       "      <td>120.0</td>\n",
       "    </tr>\n",
       "    <tr>\n",
       "      <th>1</th>\n",
       "      <td>37 Sissinghurst Crescent</td>\n",
       "      <td>Landsdale</td>\n",
       "      <td>5</td>\n",
       "      <td>4</td>\n",
       "      <td>2.0</td>\n",
       "      <td>540</td>\n",
       "      <td>301</td>\n",
       "      <td>2014.0</td>\n",
       "      <td>16900</td>\n",
       "      <td>Whitfords Station</td>\n",
       "      <td>8100</td>\n",
       "      <td>07-2018\\r</td>\n",
       "      <td>6065</td>\n",
       "      <td>-31.800802</td>\n",
       "      <td>115.867675</td>\n",
       "      <td>LANDSDALE CHRISTIAN SCHOOL</td>\n",
       "      <td>0.667585</td>\n",
       "      <td>NaN</td>\n",
       "    </tr>\n",
       "    <tr>\n",
       "      <th>2</th>\n",
       "      <td>24 Tees Court</td>\n",
       "      <td>Mindarie</td>\n",
       "      <td>4</td>\n",
       "      <td>2</td>\n",
       "      <td>2.0</td>\n",
       "      <td>781</td>\n",
       "      <td>220</td>\n",
       "      <td>1992.0</td>\n",
       "      <td>33500</td>\n",
       "      <td>Clarkson Station</td>\n",
       "      <td>3500</td>\n",
       "      <td>02-2020\\r</td>\n",
       "      <td>6030</td>\n",
       "      <td>-31.682040</td>\n",
       "      <td>115.702600</td>\n",
       "      <td>MINDARIE SENIOR COLLEGE</td>\n",
       "      <td>0.650761</td>\n",
       "      <td>111.0</td>\n",
       "    </tr>\n",
       "    <tr>\n",
       "      <th>3</th>\n",
       "      <td>31 Brentham Street</td>\n",
       "      <td>Mount Hawthorn</td>\n",
       "      <td>2</td>\n",
       "      <td>1</td>\n",
       "      <td>2.0</td>\n",
       "      <td>425</td>\n",
       "      <td>185</td>\n",
       "      <td>1938.0</td>\n",
       "      <td>3500</td>\n",
       "      <td>Leederville Station</td>\n",
       "      <td>1500</td>\n",
       "      <td>07-2020\\r</td>\n",
       "      <td>6016</td>\n",
       "      <td>-31.926046</td>\n",
       "      <td>115.838181</td>\n",
       "      <td>ARANMORE CATHOLIC COLLEGE</td>\n",
       "      <td>0.484465</td>\n",
       "      <td>106.0</td>\n",
       "    </tr>\n",
       "    <tr>\n",
       "      <th>4</th>\n",
       "      <td>46/1 Corkhill Street</td>\n",
       "      <td>North Fremantle</td>\n",
       "      <td>3</td>\n",
       "      <td>2</td>\n",
       "      <td>2.0</td>\n",
       "      <td>546</td>\n",
       "      <td>186</td>\n",
       "      <td>2004.0</td>\n",
       "      <td>12900</td>\n",
       "      <td>North Fremantle Station</td>\n",
       "      <td>800</td>\n",
       "      <td>10-2017\\r</td>\n",
       "      <td>6159</td>\n",
       "      <td>-32.032079</td>\n",
       "      <td>115.759626</td>\n",
       "      <td>JOHN CURTIN COLLEGE OF THE ARTS</td>\n",
       "      <td>1.869050</td>\n",
       "      <td>25.0</td>\n",
       "    </tr>\n",
       "  </tbody>\n",
       "</table>\n",
       "</div>"
      ],
      "text/plain": [
       "                     ADDRESS           SUBURB  BEDROOMS  BATHROOMS  GARAGE  \\\n",
       "ID                                                                           \n",
       "0              9 Crumlin Way        Ridgewood         5          2     4.0   \n",
       "1   37 Sissinghurst Crescent        Landsdale         5          4     2.0   \n",
       "2              24 Tees Court         Mindarie         4          2     2.0   \n",
       "3         31 Brentham Street   Mount Hawthorn         2          1     2.0   \n",
       "4       46/1 Corkhill Street  North Fremantle         3          2     2.0   \n",
       "\n",
       "    LAND_AREA  FLOOR_AREA  BUILD_YEAR  CBD_DIST              NEAREST_STN  \\\n",
       "ID                                                                         \n",
       "0         674         266      2007.0     35500           Butler Station   \n",
       "1         540         301      2014.0     16900        Whitfords Station   \n",
       "2         781         220      1992.0     33500         Clarkson Station   \n",
       "3         425         185      1938.0      3500      Leederville Station   \n",
       "4         546         186      2004.0     12900  North Fremantle Station   \n",
       "\n",
       "    NEAREST_STN_DIST  DATE_SOLD  POSTCODE   LATITUDE   LONGITUDE  \\\n",
       "ID                                                                 \n",
       "0               3000  09-2015\\r      6030 -31.656206  115.720566   \n",
       "1               8100  07-2018\\r      6065 -31.800802  115.867675   \n",
       "2               3500  02-2020\\r      6030 -31.682040  115.702600   \n",
       "3               1500  07-2020\\r      6016 -31.926046  115.838181   \n",
       "4                800  10-2017\\r      6159 -32.032079  115.759626   \n",
       "\n",
       "                         NEAREST_SCH  NEAREST_SCH_DIST  NEAREST_SCH_RANK  \n",
       "ID                                                                        \n",
       "0   IRENE MCCORMACK CATHOLIC COLLEGE          1.079230             120.0  \n",
       "1         LANDSDALE CHRISTIAN SCHOOL          0.667585               NaN  \n",
       "2            MINDARIE SENIOR COLLEGE          0.650761             111.0  \n",
       "3          ARANMORE CATHOLIC COLLEGE          0.484465             106.0  \n",
       "4    JOHN CURTIN COLLEGE OF THE ARTS          1.869050              25.0  "
      ]
     },
     "execution_count": 21,
     "metadata": {},
     "output_type": "execute_result"
    }
   ],
   "source": [
    "X_train = train # 훈련 문제 데이터\n",
    "X_train.head()"
   ]
  },
  {
   "cell_type": "code",
   "execution_count": 22,
   "id": "0df7a29a",
   "metadata": {},
   "outputs": [
    {
     "name": "stdout",
     "output_type": "stream",
     "text": [
      "<class 'pandas.core.frame.DataFrame'>\n",
      "Int64Index: 18510 entries, 0 to 18509\n",
      "Data columns (total 18 columns):\n",
      " #   Column            Non-Null Count  Dtype  \n",
      "---  ------            --------------  -----  \n",
      " 0   ADDRESS           18510 non-null  object \n",
      " 1   SUBURB            18510 non-null  object \n",
      " 2   BEDROOMS          18510 non-null  int64  \n",
      " 3   BATHROOMS         18510 non-null  int64  \n",
      " 4   GARAGE            17143 non-null  float64\n",
      " 5   LAND_AREA         18510 non-null  int64  \n",
      " 6   FLOOR_AREA        18510 non-null  int64  \n",
      " 7   BUILD_YEAR        16782 non-null  float64\n",
      " 8   CBD_DIST          18510 non-null  int64  \n",
      " 9   NEAREST_STN       18510 non-null  object \n",
      " 10  NEAREST_STN_DIST  18510 non-null  int64  \n",
      " 11  DATE_SOLD         18510 non-null  object \n",
      " 12  POSTCODE          18510 non-null  int64  \n",
      " 13  LATITUDE          18510 non-null  float64\n",
      " 14  LONGITUDE         18510 non-null  float64\n",
      " 15  NEAREST_SCH       18510 non-null  object \n",
      " 16  NEAREST_SCH_DIST  18510 non-null  float64\n",
      " 17  NEAREST_SCH_RANK  12510 non-null  float64\n",
      "dtypes: float64(6), int64(7), object(5)\n",
      "memory usage: 2.7+ MB\n"
     ]
    }
   ],
   "source": [
    "X_train.info()"
   ]
  },
  {
   "cell_type": "code",
   "execution_count": 23,
   "id": "78e8a847",
   "metadata": {
    "collapsed": true
   },
   "outputs": [
    {
     "name": "stdout",
     "output_type": "stream",
     "text": [
      "<class 'pandas.core.frame.DataFrame'>\n",
      "Int64Index: 15146 entries, 18510 to 33655\n",
      "Data columns (total 18 columns):\n",
      " #   Column            Non-Null Count  Dtype  \n",
      "---  ------            --------------  -----  \n",
      " 0   ADDRESS           15146 non-null  object \n",
      " 1   SUBURB            15146 non-null  object \n",
      " 2   BEDROOMS          15146 non-null  int64  \n",
      " 3   BATHROOMS         15146 non-null  int64  \n",
      " 4   GARAGE            14035 non-null  float64\n",
      " 5   LAND_AREA         15146 non-null  int64  \n",
      " 6   FLOOR_AREA        15146 non-null  int64  \n",
      " 7   BUILD_YEAR        13719 non-null  float64\n",
      " 8   CBD_DIST          15146 non-null  int64  \n",
      " 9   NEAREST_STN       15146 non-null  object \n",
      " 10  NEAREST_STN_DIST  15146 non-null  int64  \n",
      " 11  DATE_SOLD         15146 non-null  object \n",
      " 12  POSTCODE          15146 non-null  int64  \n",
      " 13  LATITUDE          15146 non-null  float64\n",
      " 14  LONGITUDE         15146 non-null  float64\n",
      " 15  NEAREST_SCH       15146 non-null  object \n",
      " 16  NEAREST_SCH_DIST  15146 non-null  float64\n",
      " 17  NEAREST_SCH_RANK  10194 non-null  float64\n",
      "dtypes: float64(6), int64(7), object(5)\n",
      "memory usage: 2.2+ MB\n"
     ]
    }
   ],
   "source": [
    "X_test.info()"
   ]
  },
  {
   "cell_type": "code",
   "execution_count": 24,
   "id": "16502535",
   "metadata": {},
   "outputs": [
    {
     "data": {
      "text/plain": [
       "ADDRESS                0\n",
       "SUBURB                 0\n",
       "BEDROOMS               0\n",
       "BATHROOMS              0\n",
       "GARAGE              1367\n",
       "LAND_AREA              0\n",
       "FLOOR_AREA             0\n",
       "BUILD_YEAR          1728\n",
       "CBD_DIST               0\n",
       "NEAREST_STN            0\n",
       "NEAREST_STN_DIST       0\n",
       "DATE_SOLD              0\n",
       "POSTCODE               0\n",
       "LATITUDE               0\n",
       "LONGITUDE              0\n",
       "NEAREST_SCH            0\n",
       "NEAREST_SCH_DIST       0\n",
       "NEAREST_SCH_RANK    6000\n",
       "dtype: int64"
      ]
     },
     "execution_count": 24,
     "metadata": {},
     "output_type": "execute_result"
    }
   ],
   "source": [
    "X_train.isnull().sum()"
   ]
  },
  {
   "cell_type": "code",
   "execution_count": 25,
   "id": "296d29b5",
   "metadata": {},
   "outputs": [
    {
     "data": {
      "text/plain": [
       "ADDRESS                0\n",
       "SUBURB                 0\n",
       "BEDROOMS               0\n",
       "BATHROOMS              0\n",
       "GARAGE              1111\n",
       "LAND_AREA              0\n",
       "FLOOR_AREA             0\n",
       "BUILD_YEAR          1427\n",
       "CBD_DIST               0\n",
       "NEAREST_STN            0\n",
       "NEAREST_STN_DIST       0\n",
       "DATE_SOLD              0\n",
       "POSTCODE               0\n",
       "LATITUDE               0\n",
       "LONGITUDE              0\n",
       "NEAREST_SCH            0\n",
       "NEAREST_SCH_DIST       0\n",
       "NEAREST_SCH_RANK    4952\n",
       "dtype: int64"
      ]
     },
     "execution_count": 25,
     "metadata": {},
     "output_type": "execute_result"
    }
   ],
   "source": [
    "X_test.isnull().sum()"
   ]
  },
  {
   "cell_type": "code",
   "execution_count": 26,
   "id": "904f6860",
   "metadata": {},
   "outputs": [],
   "source": [
    "t = X_train['GARAGE'].unique()"
   ]
  },
  {
   "cell_type": "code",
   "execution_count": 27,
   "id": "8a2c9911",
   "metadata": {
    "scrolled": true
   },
   "outputs": [
    {
     "data": {
      "text/plain": [
       "array([ 1.,  2.,  3.,  4.,  5.,  6.,  7.,  8.,  9., 10., 11., 12., 13.,\n",
       "       14., 16., 17., 18., 20., 21., 26., 32., 99., nan])"
      ]
     },
     "execution_count": 27,
     "metadata": {},
     "output_type": "execute_result"
    }
   ],
   "source": [
    "t.sort()\n",
    "t"
   ]
  },
  {
   "cell_type": "markdown",
   "id": "5d34055d",
   "metadata": {},
   "source": [
    "# GARAGE null notnull\n",
    "- LAND_AREA : 이게 가장 차이가 크다\n",
    "    - null : 5524.179224579371\n",
    "    - not null : 2614.700227498104\n",
    "- 당최 이해가 안 간다\n",
    "- 처음에는 null이 0 이라고 생각했다\n",
    "- 그런데 null인 집의 땅이 두배 더 크다\n",
    "- garage가 차고인데 땅이 더 큰 집에 차고가 없는 것은 이해가 가지 않는다"
   ]
  },
  {
   "cell_type": "code",
   "execution_count": 28,
   "id": "5ad4da62",
   "metadata": {},
   "outputs": [
    {
     "data": {
      "text/plain": [
       "5524.179224579371"
      ]
     },
     "execution_count": 28,
     "metadata": {},
     "output_type": "execute_result"
    }
   ],
   "source": [
    "X_train[X_train['GARAGE'].isnull()]['LAND_AREA'].mean()"
   ]
  },
  {
   "cell_type": "code",
   "execution_count": 29,
   "id": "a6214456",
   "metadata": {},
   "outputs": [
    {
     "data": {
      "text/plain": [
       "2614.700227498104"
      ]
     },
     "execution_count": 29,
     "metadata": {},
     "output_type": "execute_result"
    }
   ],
   "source": [
    "X_train[X_train['GARAGE'].notnull()]['LAND_AREA'].mean()"
   ]
  },
  {
   "cell_type": "code",
   "execution_count": 30,
   "id": "a3478f6e",
   "metadata": {},
   "outputs": [
    {
     "data": {
      "text/html": [
       "<div>\n",
       "<style scoped>\n",
       "    .dataframe tbody tr th:only-of-type {\n",
       "        vertical-align: middle;\n",
       "    }\n",
       "\n",
       "    .dataframe tbody tr th {\n",
       "        vertical-align: top;\n",
       "    }\n",
       "\n",
       "    .dataframe thead th {\n",
       "        text-align: right;\n",
       "    }\n",
       "</style>\n",
       "<table border=\"1\" class=\"dataframe\">\n",
       "  <thead>\n",
       "    <tr style=\"text-align: right;\">\n",
       "      <th></th>\n",
       "      <th>LAND_AREA</th>\n",
       "      <th>GARAGE</th>\n",
       "    </tr>\n",
       "    <tr>\n",
       "      <th>ID</th>\n",
       "      <th></th>\n",
       "      <th></th>\n",
       "    </tr>\n",
       "  </thead>\n",
       "  <tbody>\n",
       "    <tr>\n",
       "      <th>3118</th>\n",
       "      <td>61</td>\n",
       "      <td>1.0</td>\n",
       "    </tr>\n",
       "    <tr>\n",
       "      <th>15528</th>\n",
       "      <td>72</td>\n",
       "      <td>1.0</td>\n",
       "    </tr>\n",
       "    <tr>\n",
       "      <th>18279</th>\n",
       "      <td>76</td>\n",
       "      <td>1.0</td>\n",
       "    </tr>\n",
       "    <tr>\n",
       "      <th>14419</th>\n",
       "      <td>80</td>\n",
       "      <td>2.0</td>\n",
       "    </tr>\n",
       "    <tr>\n",
       "      <th>17908</th>\n",
       "      <td>84</td>\n",
       "      <td>1.0</td>\n",
       "    </tr>\n",
       "    <tr>\n",
       "      <th>...</th>\n",
       "      <td>...</td>\n",
       "      <td>...</td>\n",
       "    </tr>\n",
       "    <tr>\n",
       "      <th>6043</th>\n",
       "      <td>496919</td>\n",
       "      <td>4.0</td>\n",
       "    </tr>\n",
       "    <tr>\n",
       "      <th>12373</th>\n",
       "      <td>983690</td>\n",
       "      <td>2.0</td>\n",
       "    </tr>\n",
       "    <tr>\n",
       "      <th>14806</th>\n",
       "      <td>999999</td>\n",
       "      <td>2.0</td>\n",
       "    </tr>\n",
       "    <tr>\n",
       "      <th>11523</th>\n",
       "      <td>999999</td>\n",
       "      <td>2.0</td>\n",
       "    </tr>\n",
       "    <tr>\n",
       "      <th>4115</th>\n",
       "      <td>999999</td>\n",
       "      <td>2.0</td>\n",
       "    </tr>\n",
       "  </tbody>\n",
       "</table>\n",
       "<p>17143 rows × 2 columns</p>\n",
       "</div>"
      ],
      "text/plain": [
       "       LAND_AREA  GARAGE\n",
       "ID                      \n",
       "3118          61     1.0\n",
       "15528         72     1.0\n",
       "18279         76     1.0\n",
       "14419         80     2.0\n",
       "17908         84     1.0\n",
       "...          ...     ...\n",
       "6043      496919     4.0\n",
       "12373     983690     2.0\n",
       "14806     999999     2.0\n",
       "11523     999999     2.0\n",
       "4115      999999     2.0\n",
       "\n",
       "[17143 rows x 2 columns]"
      ]
     },
     "execution_count": 30,
     "metadata": {},
     "output_type": "execute_result"
    }
   ],
   "source": [
    "X_GL = X_train[X_train['GARAGE'].notnull()][['LAND_AREA','GARAGE']]\n",
    "X_GL.sort_values('LAND_AREA', inplace=True)\n",
    "X_GL"
   ]
  },
  {
   "cell_type": "code",
   "execution_count": 31,
   "id": "8dd8acad",
   "metadata": {
    "scrolled": true
   },
   "outputs": [
    {
     "data": {
      "text/plain": [
       "<matplotlib.collections.PathCollection at 0x1be7e1917c0>"
      ]
     },
     "execution_count": 31,
     "metadata": {},
     "output_type": "execute_result"
    },
    {
     "data": {
      "image/png": "[encoded data removed]",
      "text/plain": [
       "<Figure size 432x288 with 1 Axes>"
      ]
     },
     "metadata": {
      "needs_background": "light"
     },
     "output_type": "display_data"
    }
   ],
   "source": [
    "plt.scatter(X_GL['LAND_AREA'], X_GL['GARAGE'])"
   ]
  },
  {
   "cell_type": "code",
   "execution_count": 32,
   "id": "e4a00f84",
   "metadata": {},
   "outputs": [
    {
     "data": {
      "text/plain": [
       "count      1367.000000\n",
       "mean       5524.179225\n",
       "std       24252.522514\n",
       "min          84.000000\n",
       "25%         510.500000\n",
       "50%         714.000000\n",
       "75%        1231.000000\n",
       "max      566786.000000\n",
       "Name: LAND_AREA, dtype: float64"
      ]
     },
     "execution_count": 32,
     "metadata": {},
     "output_type": "execute_result"
    }
   ],
   "source": [
    "X_train[X_train['GARAGE'].isnull()]['LAND_AREA'].describe()"
   ]
  },
  {
   "cell_type": "code",
   "execution_count": 33,
   "id": "7aa2a96b",
   "metadata": {
    "scrolled": true
   },
   "outputs": [
    {
     "data": {
      "text/plain": [
       "count     17143.000000\n",
       "mean       2614.700227\n",
       "std       19013.246286\n",
       "min          61.000000\n",
       "25%         501.000000\n",
       "50%         679.000000\n",
       "75%         821.000000\n",
       "max      999999.000000\n",
       "Name: LAND_AREA, dtype: float64"
      ]
     },
     "execution_count": 33,
     "metadata": {},
     "output_type": "execute_result"
    }
   ],
   "source": [
    "X_train[X_train['GARAGE'].notnull()]['LAND_AREA'].describe()"
   ]
  },
  {
   "cell_type": "code",
   "execution_count": 35,
   "id": "e0ebf187",
   "metadata": {},
   "outputs": [],
   "source": [
    "nonu = X_train[X_train['GARAGE'].notnull()]['LAND_AREA']\n",
    "nu = X_train[X_train['GARAGE'].isnull()]['LAND_AREA']"
   ]
  },
  {
   "cell_type": "code",
   "execution_count": 36,
   "id": "6198cedf",
   "metadata": {
    "scrolled": true
   },
   "outputs": [
    {
     "data": {
      "text/plain": [
       "1582.1905858729033"
      ]
     },
     "execution_count": 36,
     "metadata": {},
     "output_type": "execute_result"
    }
   ],
   "source": [
    "nonu[nonu < 30000].mean()"
   ]
  },
  {
   "cell_type": "code",
   "execution_count": 20,
   "id": "4948680f",
   "metadata": {},
   "outputs": [
    {
     "data": {
      "text/plain": [
       "883.2204255319149"
      ]
     },
     "execution_count": 20,
     "metadata": {},
     "output_type": "execute_result"
    }
   ],
   "source": [
    "nu[nu < 8000].mean()"
   ]
  },
  {
   "cell_type": "code",
   "execution_count": 21,
   "id": "7a512e5f",
   "metadata": {},
   "outputs": [
    {
     "data": {
      "text/plain": [
       "0    61\n",
       "1    72\n",
       "2    76\n",
       "3    80\n",
       "4    84\n",
       "5    92\n",
       "6    92\n",
       "7    93\n",
       "8    93\n",
       "Name: LAND_AREA, dtype: int64"
      ]
     },
     "execution_count": 21,
     "metadata": {},
     "output_type": "execute_result"
    }
   ],
   "source": [
    "k = nonu.sort_values()\n",
    "k.index = range(17143)\n",
    "k[(k < 100)]"
   ]
  },
  {
   "cell_type": "code",
   "execution_count": 22,
   "id": "3bc98585",
   "metadata": {},
   "outputs": [
    {
     "data": {
      "text/plain": [
       "GARAGE              1.000000\n",
       "FLOOR_AREA          0.186341\n",
       "BATHROOMS           0.181213\n",
       "BEDROOMS            0.180447\n",
       "NEAREST_STN_DIST    0.101591\n",
       "NEAREST_SCH_DIST    0.094102\n",
       "LONGITUDE           0.085201\n",
       "BUILD_YEAR          0.045461\n",
       "LAND_AREA           0.042186\n",
       "CBD_DIST            0.042033\n",
       "POSTCODE            0.019979\n",
       "NEAREST_SCH_RANK    0.014924\n",
       "LATITUDE            0.011987\n",
       "Name: GARAGE, dtype: float64"
      ]
     },
     "execution_count": 22,
     "metadata": {},
     "output_type": "execute_result"
    }
   ],
   "source": [
    "X_train.corr()['GARAGE'].abs().sort_values(ascending=False)"
   ]
  },
  {
   "cell_type": "code",
   "execution_count": 24,
   "id": "31abc712",
   "metadata": {},
   "outputs": [],
   "source": [
    "X_G = X_train[['FLOOR_AREA', 'BATHROOMS', 'BEDROOMS', 'NEAREST_STN_DIST', 'NEAREST_SCH_DIST', 'LONGITUDE']]\n",
    "y_G = X_train['GARAGE']"
   ]
  },
  {
   "cell_type": "code",
   "execution_count": null,
   "id": "55602928",
   "metadata": {},
   "outputs": [],
   "source": []
  },
  {
   "cell_type": "code",
   "execution_count": null,
   "id": "6642fc0d",
   "metadata": {},
   "outputs": [],
   "source": []
  },
  {
   "cell_type": "code",
   "execution_count": null,
   "id": "1d5fec5e",
   "metadata": {},
   "outputs": [],
   "source": []
  },
  {
   "cell_type": "code",
   "execution_count": null,
   "id": "6ac45c93",
   "metadata": {},
   "outputs": [],
   "source": []
  },
  {
   "cell_type": "code",
   "execution_count": null,
   "id": "8d93c5f2",
   "metadata": {},
   "outputs": [],
   "source": []
  },
  {
   "cell_type": "code",
   "execution_count": null,
   "id": "44e28b42",
   "metadata": {},
   "outputs": [],
   "source": []
  },
  {
   "cell_type": "code",
   "execution_count": null,
   "id": "77652def",
   "metadata": {},
   "outputs": [],
   "source": []
  },
  {
   "cell_type": "code",
   "execution_count": null,
   "id": "f14137a4",
   "metadata": {},
   "outputs": [],
   "source": []
  },
  {
   "cell_type": "code",
   "execution_count": null,
   "id": "b2ddf1e7",
   "metadata": {},
   "outputs": [],
   "source": []
  },
  {
   "cell_type": "code",
   "execution_count": null,
   "id": "d6c710c3",
   "metadata": {},
   "outputs": [],
   "source": []
  },
  {
   "cell_type": "code",
   "execution_count": null,
   "id": "e45ff1e9",
   "metadata": {},
   "outputs": [],
   "source": []
  },
  {
   "cell_type": "code",
   "execution_count": null,
   "id": "112edf65",
   "metadata": {},
   "outputs": [],
   "source": []
  },
  {
   "cell_type": "code",
   "execution_count": null,
   "id": "519aaf22",
   "metadata": {},
   "outputs": [],
   "source": []
  },
  {
   "cell_type": "code",
   "execution_count": null,
   "id": "d04b2994",
   "metadata": {},
   "outputs": [],
   "source": []
  },
  {
   "cell_type": "code",
   "execution_count": null,
   "id": "75d28793",
   "metadata": {},
   "outputs": [],
   "source": []
  },
  {
   "cell_type": "code",
   "execution_count": null,
   "id": "2cca4cd7",
   "metadata": {},
   "outputs": [],
   "source": []
  },
  {
   "cell_type": "code",
   "execution_count": null,
   "id": "525bad71",
   "metadata": {},
   "outputs": [],
   "source": []
  },
  {
   "cell_type": "code",
   "execution_count": null,
   "id": "3b053aea",
   "metadata": {},
   "outputs": [],
   "source": []
  },
  {
   "cell_type": "code",
   "execution_count": null,
   "id": "1fd9833e",
   "metadata": {},
   "outputs": [],
   "source": []
  },
  {
   "cell_type": "code",
   "execution_count": null,
   "id": "373525cc",
   "metadata": {},
   "outputs": [],
   "source": []
  },
  {
   "cell_type": "code",
   "execution_count": null,
   "id": "b1edd5dd",
   "metadata": {},
   "outputs": [],
   "source": []
  },
  {
   "cell_type": "code",
   "execution_count": null,
   "id": "9f9c8dd2",
   "metadata": {},
   "outputs": [],
   "source": []
  }
 ],
 "metadata": {
  "kernelspec": {
   "display_name": "Python 3 (ipykernel)",
   "language": "python",
   "name": "python3"
  },
  "language_info": {
   "codemirror_mode": {
    "name": "ipython",
    "version": 3
   },
   "file_extension": ".py",
   "mimetype": "text/x-python",
   "name": "python",
   "nbconvert_exporter": "python",
   "pygments_lexer": "ipython3",
   "version": "3.9.12"
  }
 },
 "nbformat": 4,
 "nbformat_minor": 5
}
