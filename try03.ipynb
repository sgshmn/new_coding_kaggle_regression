{
 "cells": [
  {
   "cell_type": "code",
   "execution_count": 62,
   "id": "189074a7",
   "metadata": {},
   "outputs": [],
   "source": [
    "import pandas as pd"
   ]
  },
  {
   "cell_type": "code",
   "execution_count": 63,
   "id": "8e21ab29",
   "metadata": {},
   "outputs": [],
   "source": [
    "train = pd.read_csv('data/train.csv', index_col='ID')\n",
    "test = pd.read_csv('data/test.csv', index_col='ID')"
   ]
  },
  {
   "cell_type": "code",
   "execution_count": 64,
   "id": "ff81625d",
   "metadata": {},
   "outputs": [],
   "source": [
    "train.drop('ADDRESS', axis=1, inplace=True)\n",
    "test.drop('ADDRESS', axis=1, inplace=True)"
   ]
  },
  {
   "cell_type": "code",
   "execution_count": 65,
   "id": "20948959",
   "metadata": {},
   "outputs": [
    {
     "data": {
      "text/plain": [
       "PRICE               1.000000\n",
       "FLOOR_AREA          0.539524\n",
       "NEAREST_SCH_RANK    0.453937\n",
       "BATHROOMS           0.386485\n",
       "CBD_DIST            0.357368\n",
       "BEDROOMS            0.256909\n",
       "LONGITUDE           0.183514\n",
       "POSTCODE            0.162925\n",
       "BUILD_YEAR          0.148771\n",
       "GARAGE              0.124276\n",
       "NEAREST_STN_DIST    0.099370\n",
       "LAND_AREA           0.046778\n",
       "LATITUDE            0.046722\n",
       "NEAREST_SCH_DIST    0.024030\n",
       "Name: PRICE, dtype: float64"
      ]
     },
     "execution_count": 65,
     "metadata": {},
     "output_type": "execute_result"
    }
   ],
   "source": [
    "train.corr()['PRICE'].abs().sort_values(ascending=False)"
   ]
  },
  {
   "cell_type": "code",
   "execution_count": 66,
   "id": "ac838ce1",
   "metadata": {},
   "outputs": [
    {
     "data": {
      "text/html": [
       "<div>\n",
       "<style scoped>\n",
       "    .dataframe tbody tr th:only-of-type {\n",
       "        vertical-align: middle;\n",
       "    }\n",
       "\n",
       "    .dataframe tbody tr th {\n",
       "        vertical-align: top;\n",
       "    }\n",
       "\n",
       "    .dataframe thead th {\n",
       "        text-align: right;\n",
       "    }\n",
       "</style>\n",
       "<table border=\"1\" class=\"dataframe\">\n",
       "  <thead>\n",
       "    <tr style=\"text-align: right;\">\n",
       "      <th></th>\n",
       "      <th>SUBURB</th>\n",
       "      <th>PRICE</th>\n",
       "      <th>BEDROOMS</th>\n",
       "      <th>BATHROOMS</th>\n",
       "      <th>GARAGE</th>\n",
       "      <th>LAND_AREA</th>\n",
       "      <th>FLOOR_AREA</th>\n",
       "      <th>BUILD_YEAR</th>\n",
       "      <th>CBD_DIST</th>\n",
       "      <th>NEAREST_STN</th>\n",
       "      <th>NEAREST_STN_DIST</th>\n",
       "      <th>DATE_SOLD</th>\n",
       "      <th>POSTCODE</th>\n",
       "      <th>LATITUDE</th>\n",
       "      <th>LONGITUDE</th>\n",
       "      <th>NEAREST_SCH</th>\n",
       "      <th>NEAREST_SCH_DIST</th>\n",
       "      <th>NEAREST_SCH_RANK</th>\n",
       "    </tr>\n",
       "    <tr>\n",
       "      <th>ID</th>\n",
       "      <th></th>\n",
       "      <th></th>\n",
       "      <th></th>\n",
       "      <th></th>\n",
       "      <th></th>\n",
       "      <th></th>\n",
       "      <th></th>\n",
       "      <th></th>\n",
       "      <th></th>\n",
       "      <th></th>\n",
       "      <th></th>\n",
       "      <th></th>\n",
       "      <th></th>\n",
       "      <th></th>\n",
       "      <th></th>\n",
       "      <th></th>\n",
       "      <th></th>\n",
       "      <th></th>\n",
       "    </tr>\n",
       "  </thead>\n",
       "  <tbody>\n",
       "    <tr>\n",
       "      <th>0</th>\n",
       "      <td>Ridgewood</td>\n",
       "      <td>520000</td>\n",
       "      <td>5</td>\n",
       "      <td>2</td>\n",
       "      <td>4.0</td>\n",
       "      <td>674</td>\n",
       "      <td>266</td>\n",
       "      <td>2007.0</td>\n",
       "      <td>35500</td>\n",
       "      <td>Butler Station</td>\n",
       "      <td>3000</td>\n",
       "      <td>09-2015\\r</td>\n",
       "      <td>6030</td>\n",
       "      <td>-31.656206</td>\n",
       "      <td>115.720566</td>\n",
       "      <td>IRENE MCCORMACK CATHOLIC COLLEGE</td>\n",
       "      <td>1.079230</td>\n",
       "      <td>120.0</td>\n",
       "    </tr>\n",
       "    <tr>\n",
       "      <th>1</th>\n",
       "      <td>Landsdale</td>\n",
       "      <td>575000</td>\n",
       "      <td>5</td>\n",
       "      <td>4</td>\n",
       "      <td>2.0</td>\n",
       "      <td>540</td>\n",
       "      <td>301</td>\n",
       "      <td>2014.0</td>\n",
       "      <td>16900</td>\n",
       "      <td>Whitfords Station</td>\n",
       "      <td>8100</td>\n",
       "      <td>07-2018\\r</td>\n",
       "      <td>6065</td>\n",
       "      <td>-31.800802</td>\n",
       "      <td>115.867675</td>\n",
       "      <td>LANDSDALE CHRISTIAN SCHOOL</td>\n",
       "      <td>0.667585</td>\n",
       "      <td>NaN</td>\n",
       "    </tr>\n",
       "    <tr>\n",
       "      <th>2</th>\n",
       "      <td>Mindarie</td>\n",
       "      <td>760000</td>\n",
       "      <td>4</td>\n",
       "      <td>2</td>\n",
       "      <td>2.0</td>\n",
       "      <td>781</td>\n",
       "      <td>220</td>\n",
       "      <td>1992.0</td>\n",
       "      <td>33500</td>\n",
       "      <td>Clarkson Station</td>\n",
       "      <td>3500</td>\n",
       "      <td>02-2020\\r</td>\n",
       "      <td>6030</td>\n",
       "      <td>-31.682040</td>\n",
       "      <td>115.702600</td>\n",
       "      <td>MINDARIE SENIOR COLLEGE</td>\n",
       "      <td>0.650761</td>\n",
       "      <td>111.0</td>\n",
       "    </tr>\n",
       "  </tbody>\n",
       "</table>\n",
       "</div>"
      ],
      "text/plain": [
       "       SUBURB   PRICE  BEDROOMS  BATHROOMS  GARAGE  LAND_AREA  FLOOR_AREA  \\\n",
       "ID                                                                          \n",
       "0   Ridgewood  520000         5          2     4.0        674         266   \n",
       "1   Landsdale  575000         5          4     2.0        540         301   \n",
       "2    Mindarie  760000         4          2     2.0        781         220   \n",
       "\n",
       "    BUILD_YEAR  CBD_DIST        NEAREST_STN  NEAREST_STN_DIST  DATE_SOLD  \\\n",
       "ID                                                                         \n",
       "0       2007.0     35500     Butler Station              3000  09-2015\\r   \n",
       "1       2014.0     16900  Whitfords Station              8100  07-2018\\r   \n",
       "2       1992.0     33500   Clarkson Station              3500  02-2020\\r   \n",
       "\n",
       "    POSTCODE   LATITUDE   LONGITUDE                       NEAREST_SCH  \\\n",
       "ID                                                                      \n",
       "0       6030 -31.656206  115.720566  IRENE MCCORMACK CATHOLIC COLLEGE   \n",
       "1       6065 -31.800802  115.867675        LANDSDALE CHRISTIAN SCHOOL   \n",
       "2       6030 -31.682040  115.702600           MINDARIE SENIOR COLLEGE   \n",
       "\n",
       "    NEAREST_SCH_DIST  NEAREST_SCH_RANK  \n",
       "ID                                      \n",
       "0           1.079230             120.0  \n",
       "1           0.667585               NaN  \n",
       "2           0.650761             111.0  "
      ]
     },
     "execution_count": 66,
     "metadata": {},
     "output_type": "execute_result"
    }
   ],
   "source": [
    "train.head(3)"
   ]
  },
  {
   "cell_type": "code",
   "execution_count": 67,
   "id": "44e2b521",
   "metadata": {
    "scrolled": true
   },
   "outputs": [],
   "source": [
    "sub_sortby_price = train[['SUBURB', 'PRICE']].groupby(by='SUBURB').mean().sort_values('PRICE', ascending=False)\n",
    "\n",
    "sub_cols = sub_sortby_price.index\n",
    "\n",
    "sub_dict = {}\n",
    "for i, col in enumerate(sub_cols):\n",
    "    sub_dict[col] = i + 1\n",
    "    \n",
    "train['SUBURB'] = train['SUBURB'].map(sub_dict)\n",
    "test['SUBURB'] = test['SUBURB'].map(sub_dict)"
   ]
  },
  {
   "cell_type": "code",
   "execution_count": 68,
   "id": "48316a50",
   "metadata": {},
   "outputs": [
    {
     "data": {
      "text/plain": [
       "PRICE               1.000000\n",
       "SUBURB              0.728402\n",
       "FLOOR_AREA          0.539524\n",
       "NEAREST_SCH_RANK    0.453937\n",
       "BATHROOMS           0.386485\n",
       "CBD_DIST            0.357368\n",
       "BEDROOMS            0.256909\n",
       "LONGITUDE           0.183514\n",
       "POSTCODE            0.162925\n",
       "BUILD_YEAR          0.148771\n",
       "GARAGE              0.124276\n",
       "NEAREST_STN_DIST    0.099370\n",
       "LAND_AREA           0.046778\n",
       "LATITUDE            0.046722\n",
       "NEAREST_SCH_DIST    0.024030\n",
       "Name: PRICE, dtype: float64"
      ]
     },
     "execution_count": 68,
     "metadata": {},
     "output_type": "execute_result"
    }
   ],
   "source": [
    "train.corr()['PRICE'].abs().sort_values(ascending=False)"
   ]
  },
  {
   "cell_type": "code",
   "execution_count": 69,
   "id": "6dd4288f",
   "metadata": {},
   "outputs": [],
   "source": [
    "stn_sortby_price = train[['NEAREST_STN', 'PRICE']].groupby(by='NEAREST_STN').mean().sort_values('PRICE', ascending=False)\n",
    "\n",
    "stn_cols = stn_sortby_price.index\n",
    "\n",
    "stn_dict = {}\n",
    "for i, col in enumerate(stn_cols):\n",
    "    sub_dict[col] = i + 1\n",
    "    \n",
    "train['NEAREST_STN'] = train['NEAREST_STN'].map(sub_dict)\n",
    "test['NEAREST_STN'] = test['NEAREST_STN'].map(sub_dict)"
   ]
  },
  {
   "cell_type": "code",
   "execution_count": 70,
   "id": "9a83138b",
   "metadata": {},
   "outputs": [
    {
     "data": {
      "text/plain": [
       "PRICE               1.000000\n",
       "SUBURB              0.728402\n",
       "NEAREST_STN         0.581309\n",
       "FLOOR_AREA          0.539524\n",
       "NEAREST_SCH_RANK    0.453937\n",
       "BATHROOMS           0.386485\n",
       "CBD_DIST            0.357368\n",
       "BEDROOMS            0.256909\n",
       "LONGITUDE           0.183514\n",
       "POSTCODE            0.162925\n",
       "BUILD_YEAR          0.148771\n",
       "GARAGE              0.124276\n",
       "NEAREST_STN_DIST    0.099370\n",
       "LAND_AREA           0.046778\n",
       "LATITUDE            0.046722\n",
       "NEAREST_SCH_DIST    0.024030\n",
       "Name: PRICE, dtype: float64"
      ]
     },
     "execution_count": 70,
     "metadata": {},
     "output_type": "execute_result"
    }
   ],
   "source": [
    "train.corr()['PRICE'].abs().sort_values(ascending=False)"
   ]
  },
  {
   "cell_type": "code",
   "execution_count": 71,
   "id": "25656e69",
   "metadata": {},
   "outputs": [],
   "source": [
    "test['SUBURB'] = test['SUBURB'].fillna(train['SUBURB'].mean())"
   ]
  },
  {
   "cell_type": "code",
   "execution_count": 72,
   "id": "13af2b61",
   "metadata": {
    "scrolled": true
   },
   "outputs": [
    {
     "data": {
      "text/plain": [
       "ID\n",
       "0    09-2015\\r\n",
       "1    07-2018\\r\n",
       "2    02-2020\\r\n",
       "3    07-2020\\r\n",
       "4    10-2017\\r\n",
       "Name: DATE_SOLD, dtype: object"
      ]
     },
     "execution_count": 72,
     "metadata": {},
     "output_type": "execute_result"
    }
   ],
   "source": [
    "train['DATE_SOLD'].head()"
   ]
  },
  {
   "cell_type": "code",
   "execution_count": 73,
   "id": "efbed0bf",
   "metadata": {},
   "outputs": [
    {
     "data": {
      "text/plain": [
       "'2015'"
      ]
     },
     "execution_count": 73,
     "metadata": {},
     "output_type": "execute_result"
    }
   ],
   "source": [
    "train['DATE_SOLD'][0][:2]\n",
    "train['DATE_SOLD'][0][3:-1]"
   ]
  },
  {
   "cell_type": "code",
   "execution_count": 74,
   "id": "3c3ff4f1",
   "metadata": {},
   "outputs": [],
   "source": [
    "def month_sold(date):\n",
    "    return int(date[:2])\n",
    "\n",
    "def year_sold(date):\n",
    "    return int(date[3:-1])"
   ]
  },
  {
   "cell_type": "code",
   "execution_count": 75,
   "id": "0cabbd54",
   "metadata": {},
   "outputs": [],
   "source": [
    "train['MONTH_SOLD'] = train['DATE_SOLD'].apply(month_sold)\n",
    "train['YEAR_SOLD'] = train['DATE_SOLD'].apply(year_sold)"
   ]
  },
  {
   "cell_type": "code",
   "execution_count": 76,
   "id": "fff64200",
   "metadata": {},
   "outputs": [],
   "source": [
    "test['MONTH_SOLD'] = test['DATE_SOLD'].apply(month_sold)\n",
    "test['YEAR_SOLD'] = test['DATE_SOLD'].apply(year_sold)"
   ]
  },
  {
   "cell_type": "code",
   "execution_count": 77,
   "id": "99aa5743",
   "metadata": {},
   "outputs": [],
   "source": [
    "train.drop('DATE_SOLD', axis=1, inplace=True)\n",
    "test.drop('DATE_SOLD', axis=1, inplace=True)"
   ]
  },
  {
   "cell_type": "code",
   "execution_count": 78,
   "id": "94576846",
   "metadata": {},
   "outputs": [],
   "source": [
    "train['YEAR_DIFF'] = train['YEAR_SOLD'] - train['BUILD_YEAR']\n",
    "test['YEAR_DIFF'] = test['YEAR_SOLD'] - test['BUILD_YEAR']"
   ]
  },
  {
   "cell_type": "code",
   "execution_count": 79,
   "id": "624120f4",
   "metadata": {
    "scrolled": true
   },
   "outputs": [
    {
     "data": {
      "text/plain": [
       "PRICE               1.000000\n",
       "SUBURB              0.728402\n",
       "NEAREST_STN         0.581309\n",
       "FLOOR_AREA          0.539524\n",
       "NEAREST_SCH_RANK    0.453937\n",
       "BATHROOMS           0.386485\n",
       "CBD_DIST            0.357368\n",
       "BEDROOMS            0.256909\n",
       "LONGITUDE           0.183514\n",
       "YEAR_DIFF           0.164383\n",
       "POSTCODE            0.162925\n",
       "BUILD_YEAR          0.148771\n",
       "GARAGE              0.124276\n",
       "NEAREST_STN_DIST    0.099370\n",
       "YEAR_SOLD           0.084380\n",
       "LAND_AREA           0.046778\n",
       "LATITUDE            0.046722\n",
       "NEAREST_SCH_DIST    0.024030\n",
       "MONTH_SOLD          0.001545\n",
       "Name: PRICE, dtype: float64"
      ]
     },
     "execution_count": 79,
     "metadata": {},
     "output_type": "execute_result"
    }
   ],
   "source": [
    "train.corr()['PRICE'].abs().sort_values(ascending=False)"
   ]
  },
  {
   "cell_type": "code",
   "execution_count": 80,
   "id": "a96e76f4",
   "metadata": {},
   "outputs": [
    {
     "data": {
      "text/plain": [
       "count    13719.000000\n",
       "mean        27.075297\n",
       "std         20.931649\n",
       "min        -23.000000\n",
       "25%         12.000000\n",
       "50%         22.000000\n",
       "75%         38.000000\n",
       "max        145.000000\n",
       "dtype: float64"
      ]
     },
     "execution_count": 80,
     "metadata": {},
     "output_type": "execute_result"
    }
   ],
   "source": [
    "byb = train['BUILD_YEAR'].notnull()\n",
    "\n",
    "tbyb = train[byb]\n",
    "\n",
    "kk1 = tbyb['YEAR_SOLD'] - tbyb['BUILD_YEAR']\n",
    "\n",
    "kk1.describe() # 건축 날짜보다 판 날짜가 먼저인것은 말이 안 된다. 빼자\n",
    "\n",
    "byb = test['BUILD_YEAR'].notnull()\n",
    "\n",
    "tbyb = test[byb]\n",
    "\n",
    "kk2 = tbyb['YEAR_SOLD'] - tbyb['BUILD_YEAR']\n",
    "\n",
    "kk2.describe() # 근데 test에도 그런게 있으니까 빼지 말자"
   ]
  },
  {
   "cell_type": "code",
   "execution_count": 81,
   "id": "0703b0c1",
   "metadata": {},
   "outputs": [
    {
     "data": {
      "text/plain": [
       "26.82081992611131"
      ]
     },
     "execution_count": 81,
     "metadata": {},
     "output_type": "execute_result"
    }
   ],
   "source": [
    "kk1.mean()"
   ]
  },
  {
   "cell_type": "code",
   "execution_count": 82,
   "id": "fed58d15",
   "metadata": {},
   "outputs": [
    {
     "data": {
      "text/plain": [
       " 12.0     537\n",
       " 15.0     504\n",
       " 13.0     495\n",
       " 14.0     464\n",
       " 11.0     460\n",
       "         ... \n",
       " 123.0      1\n",
       " 128.0      1\n",
       "-12.0       1\n",
       " 122.0      1\n",
       " 147.0      1\n",
       "Length: 145, dtype: int64"
      ]
     },
     "execution_count": 82,
     "metadata": {},
     "output_type": "execute_result"
    }
   ],
   "source": [
    "kk1.value_counts()"
   ]
  },
  {
   "cell_type": "code",
   "execution_count": 83,
   "id": "d862318f",
   "metadata": {},
   "outputs": [
    {
     "data": {
      "text/plain": [
       "Float64Index([ 12.0,  15.0,  13.0,  14.0,  11.0,  16.0,  10.0,  18.0,  17.0,\n",
       "                6.0,\n",
       "              ...\n",
       "              -17.0, 130.0, 134.0, 129.0, -10.0, 123.0, 128.0, -12.0, 122.0,\n",
       "              147.0],\n",
       "             dtype='float64', length=145)"
      ]
     },
     "execution_count": 83,
     "metadata": {},
     "output_type": "execute_result"
    }
   ],
   "source": [
    "kk1.value_counts().index"
   ]
  },
  {
   "cell_type": "code",
   "execution_count": 84,
   "id": "8736e5cb",
   "metadata": {},
   "outputs": [],
   "source": [
    "import matplotlib.pyplot as plt"
   ]
  },
  {
   "cell_type": "code",
   "execution_count": 85,
   "id": "2f86fa15",
   "metadata": {},
   "outputs": [
    {
     "data": {
      "text/plain": [
       "<matplotlib.collections.PathCollection at 0x1b22bf52550>"
      ]
     },
     "execution_count": 85,
     "metadata": {},
     "output_type": "execute_result"
    },
    {
     "data": {
      "image/png": "[encoded data removed]",
      "text/plain": [
       "<Figure size 432x288 with 1 Axes>"
      ]
     },
     "metadata": {
      "needs_background": "light"
     },
     "output_type": "display_data"
    }
   ],
   "source": [
    "plt.scatter(kk1.value_counts().index, kk1.value_counts().values) # 12에서 최고점을 찍는 것을 볼 수 있다"
   ]
  },
  {
   "cell_type": "code",
   "execution_count": 86,
   "id": "98d27ea1",
   "metadata": {},
   "outputs": [
    {
     "data": {
      "text/plain": [
       "0"
      ]
     },
     "execution_count": 86,
     "metadata": {},
     "output_type": "execute_result"
    }
   ],
   "source": [
    "# 판 연도에서 12년을 빼서 건축 연도의 결측치를 채우자\n",
    "train['BUILD_YEAR'].fillna(train[train['BUILD_YEAR'].isnull()]['YEAR_SOLD'] - 12, inplace=True)\n",
    "train['BUILD_YEAR'].isnull().sum()"
   ]
  },
  {
   "cell_type": "code",
   "execution_count": 87,
   "id": "a9633b63",
   "metadata": {},
   "outputs": [
    {
     "data": {
      "text/plain": [
       "0"
      ]
     },
     "execution_count": 87,
     "metadata": {},
     "output_type": "execute_result"
    }
   ],
   "source": [
    "test['BUILD_YEAR'].fillna(test[test['BUILD_YEAR'].isnull()]['YEAR_SOLD'] - 12, inplace=True)\n",
    "test['BUILD_YEAR'].isnull().sum()"
   ]
  },
  {
   "cell_type": "code",
   "execution_count": 88,
   "id": "40c6b104",
   "metadata": {},
   "outputs": [
    {
     "data": {
      "text/plain": [
       "0"
      ]
     },
     "execution_count": 88,
     "metadata": {},
     "output_type": "execute_result"
    }
   ],
   "source": [
    "# GARAGE는 최빈값 2.0을 넣자\n",
    "train['GARAGE'].fillna(2.0, inplace=True)\n",
    "train['GARAGE'].isnull().sum()"
   ]
  },
  {
   "cell_type": "code",
   "execution_count": 89,
   "id": "9886aec7",
   "metadata": {},
   "outputs": [
    {
     "data": {
      "text/plain": [
       "0"
      ]
     },
     "execution_count": 89,
     "metadata": {},
     "output_type": "execute_result"
    }
   ],
   "source": [
    "# GARAGE는 최빈값 2.0을 넣자\n",
    "test['GARAGE'].fillna(2.0, inplace=True)\n",
    "test['GARAGE'].isnull().sum()"
   ]
  },
  {
   "cell_type": "code",
   "execution_count": 90,
   "id": "02d9d750",
   "metadata": {},
   "outputs": [
    {
     "data": {
      "text/plain": [
       "PRICE               1.000000\n",
       "SUBURB              0.728402\n",
       "NEAREST_STN         0.581309\n",
       "FLOOR_AREA          0.539524\n",
       "NEAREST_SCH_RANK    0.453937\n",
       "BATHROOMS           0.386485\n",
       "CBD_DIST            0.357368\n",
       "BEDROOMS            0.256909\n",
       "LONGITUDE           0.183514\n",
       "YEAR_DIFF           0.164383\n",
       "POSTCODE            0.162925\n",
       "BUILD_YEAR          0.141895\n",
       "GARAGE              0.121527\n",
       "NEAREST_STN_DIST    0.099370\n",
       "YEAR_SOLD           0.084380\n",
       "LAND_AREA           0.046778\n",
       "LATITUDE            0.046722\n",
       "NEAREST_SCH_DIST    0.024030\n",
       "MONTH_SOLD          0.001545\n",
       "Name: PRICE, dtype: float64"
      ]
     },
     "execution_count": 90,
     "metadata": {},
     "output_type": "execute_result"
    }
   ],
   "source": [
    "train.corr()['PRICE'].abs().sort_values(ascending=False)"
   ]
  },
  {
   "cell_type": "code",
   "execution_count": 91,
   "id": "cf302eee",
   "metadata": {},
   "outputs": [
    {
     "data": {
      "text/html": [
       "<div>\n",
       "<style scoped>\n",
       "    .dataframe tbody tr th:only-of-type {\n",
       "        vertical-align: middle;\n",
       "    }\n",
       "\n",
       "    .dataframe tbody tr th {\n",
       "        vertical-align: top;\n",
       "    }\n",
       "\n",
       "    .dataframe thead th {\n",
       "        text-align: right;\n",
       "    }\n",
       "</style>\n",
       "<table border=\"1\" class=\"dataframe\">\n",
       "  <thead>\n",
       "    <tr style=\"text-align: right;\">\n",
       "      <th></th>\n",
       "      <th>NEAREST_SCH_RANK</th>\n",
       "    </tr>\n",
       "    <tr>\n",
       "      <th>NEAREST_SCH</th>\n",
       "      <th></th>\n",
       "    </tr>\n",
       "  </thead>\n",
       "  <tbody>\n",
       "    <tr>\n",
       "      <th>PERTH MODERN SCHOOL</th>\n",
       "      <td>1.0</td>\n",
       "    </tr>\n",
       "    <tr>\n",
       "      <th>ST HILDA'S ANGLICAN SCHOOL FOR GIRLS</th>\n",
       "      <td>2.0</td>\n",
       "    </tr>\n",
       "    <tr>\n",
       "      <th>CHRIST CHURCH GRAMMAR SCHOOL</th>\n",
       "      <td>3.0</td>\n",
       "    </tr>\n",
       "    <tr>\n",
       "      <th>PENRHOS COLLEGE</th>\n",
       "      <td>4.0</td>\n",
       "    </tr>\n",
       "    <tr>\n",
       "      <th>METHODIST LADIES' COLLEGE</th>\n",
       "      <td>5.0</td>\n",
       "    </tr>\n",
       "    <tr>\n",
       "      <th>...</th>\n",
       "      <td>...</td>\n",
       "    </tr>\n",
       "    <tr>\n",
       "      <th>TREETOPS MONTESSORI SCHOOL</th>\n",
       "      <td>NaN</td>\n",
       "    </tr>\n",
       "    <tr>\n",
       "      <th>WARNBRO COMMUNITY HIGH SCHOOL</th>\n",
       "      <td>NaN</td>\n",
       "    </tr>\n",
       "    <tr>\n",
       "      <th>WARWICK SENIOR HIGH SCHOOL</th>\n",
       "      <td>NaN</td>\n",
       "    </tr>\n",
       "    <tr>\n",
       "      <th>YANCHEP SECONDARY COLLEGE</th>\n",
       "      <td>NaN</td>\n",
       "    </tr>\n",
       "    <tr>\n",
       "      <th>YOUTH FUTURES COMMUNITY SCHOOL</th>\n",
       "      <td>NaN</td>\n",
       "    </tr>\n",
       "  </tbody>\n",
       "</table>\n",
       "<p>159 rows × 1 columns</p>\n",
       "</div>"
      ],
      "text/plain": [
       "                                      NEAREST_SCH_RANK\n",
       "NEAREST_SCH                                           \n",
       "PERTH MODERN SCHOOL                                1.0\n",
       "ST HILDA'S ANGLICAN SCHOOL FOR GIRLS               2.0\n",
       "CHRIST CHURCH GRAMMAR SCHOOL                       3.0\n",
       "PENRHOS COLLEGE                                    4.0\n",
       "METHODIST LADIES' COLLEGE                          5.0\n",
       "...                                                ...\n",
       "TREETOPS MONTESSORI SCHOOL                         NaN\n",
       "WARNBRO COMMUNITY HIGH SCHOOL                      NaN\n",
       "WARWICK SENIOR HIGH SCHOOL                         NaN\n",
       "YANCHEP SECONDARY COLLEGE                          NaN\n",
       "YOUTH FUTURES COMMUNITY SCHOOL                     NaN\n",
       "\n",
       "[159 rows x 1 columns]"
      ]
     },
     "execution_count": 91,
     "metadata": {},
     "output_type": "execute_result"
    }
   ],
   "source": [
    "train[['NEAREST_SCH', 'NEAREST_SCH_RANK']].groupby('NEAREST_SCH').mean().sort_values('NEAREST_SCH_RANK')"
   ]
  },
  {
   "cell_type": "code",
   "execution_count": 92,
   "id": "ad2aee03",
   "metadata": {
    "scrolled": false
   },
   "outputs": [
    {
     "data": {
      "text/plain": [
       "NEAREST_SCH_RANK    1.000000\n",
       "SUBURB              0.500715\n",
       "NEAREST_STN         0.477699\n",
       "PRICE               0.453937\n",
       "CBD_DIST            0.324407\n",
       "LONGITUDE           0.244113\n",
       "POSTCODE            0.190799\n",
       "NEAREST_STN_DIST    0.184562\n",
       "YEAR_DIFF           0.156272\n",
       "NEAREST_SCH_DIST    0.155208\n",
       "BUILD_YEAR          0.148622\n",
       "FLOOR_AREA          0.136373\n",
       "BATHROOMS           0.095940\n",
       "LATITUDE            0.050500\n",
       "YEAR_SOLD           0.035555\n",
       "LAND_AREA           0.034244\n",
       "BEDROOMS            0.029626\n",
       "GARAGE              0.012876\n",
       "MONTH_SOLD          0.002245\n",
       "Name: NEAREST_SCH_RANK, dtype: float64"
      ]
     },
     "execution_count": 92,
     "metadata": {},
     "output_type": "execute_result"
    }
   ],
   "source": [
    "train.corr()['NEAREST_SCH_RANK'].abs().sort_values(ascending=False)"
   ]
  },
  {
   "cell_type": "code",
   "execution_count": 93,
   "id": "41ca05f8",
   "metadata": {
    "scrolled": true
   },
   "outputs": [
    {
     "data": {
      "text/plain": [
       "Index(['SUBURB', 'PRICE', 'BEDROOMS', 'BATHROOMS', 'GARAGE', 'LAND_AREA',\n",
       "       'FLOOR_AREA', 'BUILD_YEAR', 'CBD_DIST', 'NEAREST_STN',\n",
       "       'NEAREST_STN_DIST', 'POSTCODE', 'LATITUDE', 'LONGITUDE', 'NEAREST_SCH',\n",
       "       'NEAREST_SCH_DIST', 'NEAREST_SCH_RANK', 'MONTH_SOLD', 'YEAR_SOLD',\n",
       "       'YEAR_DIFF'],\n",
       "      dtype='object')"
      ]
     },
     "execution_count": 93,
     "metadata": {},
     "output_type": "execute_result"
    }
   ],
   "source": [
    "train.columns"
   ]
  },
  {
   "cell_type": "code",
   "execution_count": 94,
   "id": "ac87634a",
   "metadata": {},
   "outputs": [
    {
     "data": {
      "text/html": [
       "<div>\n",
       "<style scoped>\n",
       "    .dataframe tbody tr th:only-of-type {\n",
       "        vertical-align: middle;\n",
       "    }\n",
       "\n",
       "    .dataframe tbody tr th {\n",
       "        vertical-align: top;\n",
       "    }\n",
       "\n",
       "    .dataframe thead th {\n",
       "        text-align: right;\n",
       "    }\n",
       "</style>\n",
       "<table border=\"1\" class=\"dataframe\">\n",
       "  <thead>\n",
       "    <tr style=\"text-align: right;\">\n",
       "      <th></th>\n",
       "      <th>SUBURB</th>\n",
       "      <th>PRICE</th>\n",
       "      <th>FLOOR_AREA</th>\n",
       "      <th>BUILD_YEAR</th>\n",
       "      <th>CBD_DIST</th>\n",
       "      <th>NEAREST_STN</th>\n",
       "      <th>NEAREST_STN_DIST</th>\n",
       "      <th>POSTCODE</th>\n",
       "      <th>LONGITUDE</th>\n",
       "      <th>NEAREST_SCH_DIST</th>\n",
       "      <th>NEAREST_SCH_RANK</th>\n",
       "    </tr>\n",
       "    <tr>\n",
       "      <th>ID</th>\n",
       "      <th></th>\n",
       "      <th></th>\n",
       "      <th></th>\n",
       "      <th></th>\n",
       "      <th></th>\n",
       "      <th></th>\n",
       "      <th></th>\n",
       "      <th></th>\n",
       "      <th></th>\n",
       "      <th></th>\n",
       "      <th></th>\n",
       "    </tr>\n",
       "  </thead>\n",
       "  <tbody>\n",
       "    <tr>\n",
       "      <th>0</th>\n",
       "      <td>273</td>\n",
       "      <td>520000</td>\n",
       "      <td>266</td>\n",
       "      <td>2007.0</td>\n",
       "      <td>35500</td>\n",
       "      <td>60</td>\n",
       "      <td>3000</td>\n",
       "      <td>6030</td>\n",
       "      <td>115.720566</td>\n",
       "      <td>1.079230</td>\n",
       "      <td>120.0</td>\n",
       "    </tr>\n",
       "    <tr>\n",
       "      <th>1</th>\n",
       "      <td>179</td>\n",
       "      <td>575000</td>\n",
       "      <td>301</td>\n",
       "      <td>2014.0</td>\n",
       "      <td>16900</td>\n",
       "      <td>32</td>\n",
       "      <td>8100</td>\n",
       "      <td>6065</td>\n",
       "      <td>115.867675</td>\n",
       "      <td>0.667585</td>\n",
       "      <td>NaN</td>\n",
       "    </tr>\n",
       "    <tr>\n",
       "      <th>2</th>\n",
       "      <td>97</td>\n",
       "      <td>760000</td>\n",
       "      <td>220</td>\n",
       "      <td>1992.0</td>\n",
       "      <td>33500</td>\n",
       "      <td>47</td>\n",
       "      <td>3500</td>\n",
       "      <td>6030</td>\n",
       "      <td>115.702600</td>\n",
       "      <td>0.650761</td>\n",
       "      <td>111.0</td>\n",
       "    </tr>\n",
       "    <tr>\n",
       "      <th>3</th>\n",
       "      <td>45</td>\n",
       "      <td>1230000</td>\n",
       "      <td>185</td>\n",
       "      <td>1938.0</td>\n",
       "      <td>3500</td>\n",
       "      <td>20</td>\n",
       "      <td>1500</td>\n",
       "      <td>6016</td>\n",
       "      <td>115.838181</td>\n",
       "      <td>0.484465</td>\n",
       "      <td>106.0</td>\n",
       "    </tr>\n",
       "    <tr>\n",
       "      <th>4</th>\n",
       "      <td>19</td>\n",
       "      <td>2010000</td>\n",
       "      <td>186</td>\n",
       "      <td>2004.0</td>\n",
       "      <td>12900</td>\n",
       "      <td>15</td>\n",
       "      <td>800</td>\n",
       "      <td>6159</td>\n",
       "      <td>115.759626</td>\n",
       "      <td>1.869050</td>\n",
       "      <td>25.0</td>\n",
       "    </tr>\n",
       "  </tbody>\n",
       "</table>\n",
       "</div>"
      ],
      "text/plain": [
       "    SUBURB    PRICE  FLOOR_AREA  BUILD_YEAR  CBD_DIST  NEAREST_STN  \\\n",
       "ID                                                                   \n",
       "0      273   520000         266      2007.0     35500           60   \n",
       "1      179   575000         301      2014.0     16900           32   \n",
       "2       97   760000         220      1992.0     33500           47   \n",
       "3       45  1230000         185      1938.0      3500           20   \n",
       "4       19  2010000         186      2004.0     12900           15   \n",
       "\n",
       "    NEAREST_STN_DIST  POSTCODE   LONGITUDE  NEAREST_SCH_DIST  NEAREST_SCH_RANK  \n",
       "ID                                                                              \n",
       "0               3000      6030  115.720566          1.079230             120.0  \n",
       "1               8100      6065  115.867675          0.667585               NaN  \n",
       "2               3500      6030  115.702600          0.650761             111.0  \n",
       "3               1500      6016  115.838181          0.484465             106.0  \n",
       "4                800      6159  115.759626          1.869050              25.0  "
      ]
     },
     "execution_count": 94,
     "metadata": {},
     "output_type": "execute_result"
    }
   ],
   "source": [
    "sch = train[['SUBURB', 'PRICE', 'FLOOR_AREA', 'BUILD_YEAR', 'CBD_DIST', 'NEAREST_STN',\n",
    "       'NEAREST_STN_DIST', 'POSTCODE', 'LONGITUDE',\n",
    "       'NEAREST_SCH_DIST', 'NEAREST_SCH_RANK']]\n",
    "sch.head()"
   ]
  },
  {
   "cell_type": "code",
   "execution_count": 95,
   "id": "af026833",
   "metadata": {},
   "outputs": [],
   "source": [
    "sch_train = sch[sch['NEAREST_SCH_RANK'].notnull()]\n",
    "sch_test = sch[sch['NEAREST_SCH_RANK'].isnull()][['SUBURB', 'PRICE', 'FLOOR_AREA', 'BUILD_YEAR', 'CBD_DIST', 'NEAREST_STN',\n",
    "       'NEAREST_STN_DIST', 'POSTCODE', 'LONGITUDE',\n",
    "       'NEAREST_SCH_DIST', 'NEAREST_SCH_RANK']]\n",
    "sch_X = sch_train[['SUBURB', 'PRICE', 'FLOOR_AREA', 'BUILD_YEAR', 'CBD_DIST', 'NEAREST_STN',\n",
    "       'NEAREST_STN_DIST', 'POSTCODE', 'LONGITUDE',\n",
    "       'NEAREST_SCH_DIST']]\n",
    "sch_y = sch_train['NEAREST_SCH_RANK']"
   ]
  },
  {
   "cell_type": "code",
   "execution_count": 96,
   "id": "ebd757a3",
   "metadata": {},
   "outputs": [],
   "source": [
    "from sklearn.ensemble import HistGradientBoostingRegressor\n",
    "hgbr = HistGradientBoostingRegressor()"
   ]
  },
  {
   "cell_type": "code",
   "execution_count": 97,
   "id": "a794eec6",
   "metadata": {},
   "outputs": [],
   "source": [
    "from sklearn.model_selection import cross_val_score"
   ]
  },
  {
   "cell_type": "code",
   "execution_count": 98,
   "id": "023c5fbf",
   "metadata": {},
   "outputs": [],
   "source": [
    "sch_result = cross_val_score(hgbr, sch_X, sch_y, cv=5)"
   ]
  },
  {
   "cell_type": "code",
   "execution_count": 99,
   "id": "b5859c47",
   "metadata": {},
   "outputs": [
    {
     "name": "stdout",
     "output_type": "stream",
     "text": [
      "[0.91564856 0.91459235 0.91202149 0.91053646 0.90720606]\n",
      "0.9120009820150685\n"
     ]
    }
   ],
   "source": [
    "print(sch_result)\n",
    "print(sch_result.mean())"
   ]
  },
  {
   "cell_type": "code",
   "execution_count": 100,
   "id": "28d7a5f7",
   "metadata": {},
   "outputs": [
    {
     "data": {
      "text/plain": [
       "HistGradientBoostingRegressor()"
      ]
     },
     "execution_count": 100,
     "metadata": {},
     "output_type": "execute_result"
    }
   ],
   "source": [
    "hgbr.fit(sch_X, sch_y)"
   ]
  },
  {
   "cell_type": "code",
   "execution_count": 101,
   "id": "9b93249a",
   "metadata": {},
   "outputs": [],
   "source": [
    "sch_pre = hgbr.predict(sch_test[['SUBURB', 'PRICE', 'FLOOR_AREA', 'BUILD_YEAR', 'CBD_DIST', 'NEAREST_STN',\n",
    "       'NEAREST_STN_DIST', 'POSTCODE', 'LONGITUDE',\n",
    "       'NEAREST_SCH_DIST']])"
   ]
  },
  {
   "cell_type": "code",
   "execution_count": 102,
   "id": "7e214f1b",
   "metadata": {},
   "outputs": [],
   "source": [
    "sch_test['NEAREST_SCH_RANK'] = sch_pre"
   ]
  },
  {
   "cell_type": "code",
   "execution_count": 103,
   "id": "dd59595a",
   "metadata": {},
   "outputs": [
    {
     "data": {
      "text/plain": [
       "0"
      ]
     },
     "execution_count": 103,
     "metadata": {},
     "output_type": "execute_result"
    }
   ],
   "source": [
    "train['NEAREST_SCH_RANK'].fillna(sch_test['NEAREST_SCH_RANK'], inplace=True)\n",
    "train['NEAREST_SCH_RANK'].isnull().sum()"
   ]
  },
  {
   "cell_type": "code",
   "execution_count": 104,
   "id": "fcff4c9c",
   "metadata": {},
   "outputs": [
    {
     "data": {
      "text/html": [
       "<div>\n",
       "<style scoped>\n",
       "    .dataframe tbody tr th:only-of-type {\n",
       "        vertical-align: middle;\n",
       "    }\n",
       "\n",
       "    .dataframe tbody tr th {\n",
       "        vertical-align: top;\n",
       "    }\n",
       "\n",
       "    .dataframe thead th {\n",
       "        text-align: right;\n",
       "    }\n",
       "</style>\n",
       "<table border=\"1\" class=\"dataframe\">\n",
       "  <thead>\n",
       "    <tr style=\"text-align: right;\">\n",
       "      <th></th>\n",
       "      <th>NEAREST_SCH_RANK</th>\n",
       "    </tr>\n",
       "    <tr>\n",
       "      <th>NEAREST_SCH</th>\n",
       "      <th></th>\n",
       "    </tr>\n",
       "  </thead>\n",
       "  <tbody>\n",
       "    <tr>\n",
       "      <th>PERTH MODERN SCHOOL</th>\n",
       "      <td>1.0</td>\n",
       "    </tr>\n",
       "    <tr>\n",
       "      <th>ST HILDA'S ANGLICAN SCHOOL FOR GIRLS</th>\n",
       "      <td>2.0</td>\n",
       "    </tr>\n",
       "    <tr>\n",
       "      <th>CHRIST CHURCH GRAMMAR SCHOOL</th>\n",
       "      <td>3.0</td>\n",
       "    </tr>\n",
       "    <tr>\n",
       "      <th>PENRHOS COLLEGE</th>\n",
       "      <td>4.0</td>\n",
       "    </tr>\n",
       "    <tr>\n",
       "      <th>METHODIST LADIES' COLLEGE</th>\n",
       "      <td>5.0</td>\n",
       "    </tr>\n",
       "    <tr>\n",
       "      <th>...</th>\n",
       "      <td>...</td>\n",
       "    </tr>\n",
       "    <tr>\n",
       "      <th>BALCATTA SENIOR HIGH SCHOOL</th>\n",
       "      <td>135.0</td>\n",
       "    </tr>\n",
       "    <tr>\n",
       "      <th>SAFETY BAY SENIOR HIGH SCHOOL</th>\n",
       "      <td>136.0</td>\n",
       "    </tr>\n",
       "    <tr>\n",
       "      <th>DARLING RANGE SPORTS COLLEGE</th>\n",
       "      <td>137.0</td>\n",
       "    </tr>\n",
       "    <tr>\n",
       "      <th>GILMORE COLLEGE</th>\n",
       "      <td>138.0</td>\n",
       "    </tr>\n",
       "    <tr>\n",
       "      <th>CECIL ANDREWS COLLEGE</th>\n",
       "      <td>139.0</td>\n",
       "    </tr>\n",
       "  </tbody>\n",
       "</table>\n",
       "<p>159 rows × 1 columns</p>\n",
       "</div>"
      ],
      "text/plain": [
       "                                      NEAREST_SCH_RANK\n",
       "NEAREST_SCH                                           \n",
       "PERTH MODERN SCHOOL                                1.0\n",
       "ST HILDA'S ANGLICAN SCHOOL FOR GIRLS               2.0\n",
       "CHRIST CHURCH GRAMMAR SCHOOL                       3.0\n",
       "PENRHOS COLLEGE                                    4.0\n",
       "METHODIST LADIES' COLLEGE                          5.0\n",
       "...                                                ...\n",
       "BALCATTA SENIOR HIGH SCHOOL                      135.0\n",
       "SAFETY BAY SENIOR HIGH SCHOOL                    136.0\n",
       "DARLING RANGE SPORTS COLLEGE                     137.0\n",
       "GILMORE COLLEGE                                  138.0\n",
       "CECIL ANDREWS COLLEGE                            139.0\n",
       "\n",
       "[159 rows x 1 columns]"
      ]
     },
     "execution_count": 104,
     "metadata": {},
     "output_type": "execute_result"
    }
   ],
   "source": [
    "train[['NEAREST_SCH', 'NEAREST_SCH_RANK']].groupby('NEAREST_SCH').mean().sort_values('NEAREST_SCH_RANK')"
   ]
  },
  {
   "cell_type": "code",
   "execution_count": 105,
   "id": "d8ac8a7a",
   "metadata": {},
   "outputs": [
    {
     "data": {
      "text/plain": [
       "ID\n",
       "0    120.000000\n",
       "1     90.677551\n",
       "2    111.000000\n",
       "3    106.000000\n",
       "4     25.000000\n",
       "Name: NEAREST_SCH_RANK, dtype: float64"
      ]
     },
     "execution_count": 105,
     "metadata": {},
     "output_type": "execute_result"
    }
   ],
   "source": [
    "train['NEAREST_SCH_RANK'].head()"
   ]
  },
  {
   "cell_type": "code",
   "execution_count": 106,
   "id": "6f33b486",
   "metadata": {},
   "outputs": [
    {
     "data": {
      "text/plain": [
       "{'SOUTH METROPOLITAN YOUTH LINK COMMUNITY COLLEGE'}"
      ]
     },
     "execution_count": 106,
     "metadata": {},
     "output_type": "execute_result"
    }
   ],
   "source": [
    "set(test['NEAREST_SCH']) - set(train['NEAREST_SCH'])"
   ]
  },
  {
   "cell_type": "code",
   "execution_count": 107,
   "id": "abb5795e",
   "metadata": {
    "scrolled": true
   },
   "outputs": [
    {
     "data": {
      "text/plain": [
       "79.33131195838493"
      ]
     },
     "execution_count": 107,
     "metadata": {},
     "output_type": "execute_result"
    }
   ],
   "source": [
    "train['NEAREST_SCH_RANK'].mean()"
   ]
  },
  {
   "cell_type": "code",
   "execution_count": 108,
   "id": "a950894b",
   "metadata": {},
   "outputs": [],
   "source": [
    "a = train[['NEAREST_SCH', 'NEAREST_SCH_RANK']]['NEAREST_SCH']\n",
    "b = train[['NEAREST_SCH', 'NEAREST_SCH_RANK']]['NEAREST_SCH_RANK']"
   ]
  },
  {
   "cell_type": "code",
   "execution_count": 109,
   "id": "20131a48",
   "metadata": {},
   "outputs": [
    {
     "data": {
      "text/plain": [
       "'ARANMORE CATHOLIC COLLEGE'"
      ]
     },
     "execution_count": 109,
     "metadata": {},
     "output_type": "execute_result"
    }
   ],
   "source": [
    "a[3]"
   ]
  },
  {
   "cell_type": "code",
   "execution_count": 110,
   "id": "92a93258",
   "metadata": {},
   "outputs": [],
   "source": [
    "ns_dict = {}\n",
    "\n",
    "for i in range(len(a)):\n",
    "    ns_dict[a[i]] = b[i]"
   ]
  },
  {
   "cell_type": "code",
   "execution_count": 111,
   "id": "195eb946",
   "metadata": {},
   "outputs": [],
   "source": [
    "ns_dict['SOUTH METROPOLITAN YOUTH LINK COMMUNITY COLLEGE'] = 79.11759390813363"
   ]
  },
  {
   "cell_type": "code",
   "execution_count": 112,
   "id": "a925eb3f",
   "metadata": {},
   "outputs": [],
   "source": [
    "test['NEAREST_SCH_RANK'] = test['NEAREST_SCH'].map(ns_dict)"
   ]
  },
  {
   "cell_type": "code",
   "execution_count": 113,
   "id": "570ca3c0",
   "metadata": {},
   "outputs": [],
   "source": [
    "train.drop('NEAREST_SCH', axis=1, inplace=True)\n",
    "test.drop('NEAREST_SCH', axis=1, inplace=True)"
   ]
  },
  {
   "cell_type": "code",
   "execution_count": 114,
   "id": "b0747063",
   "metadata": {},
   "outputs": [],
   "source": [
    "from sklearn.ensemble import HistGradientBoostingRegressor"
   ]
  },
  {
   "cell_type": "code",
   "execution_count": 115,
   "id": "adc1f499",
   "metadata": {},
   "outputs": [],
   "source": [
    "hgbr = HistGradientBoostingRegressor()"
   ]
  },
  {
   "cell_type": "code",
   "execution_count": 116,
   "id": "cac58a69",
   "metadata": {},
   "outputs": [],
   "source": [
    "from sklearn.model_selection import cross_val_score\n",
    "\n",
    "y_train = train.pop('PRICE')\n",
    "X_train = train"
   ]
  },
  {
   "cell_type": "code",
   "execution_count": 117,
   "id": "3afd9fbf",
   "metadata": {},
   "outputs": [
    {
     "name": "stdout",
     "output_type": "stream",
     "text": [
      "hgbr_result: [0.83435716 0.85170919 0.86239263 0.84804383 0.84142807]\n",
      "hgbr_mean: 0.8475861780192263\n"
     ]
    }
   ],
   "source": [
    "hgbr_result = cross_val_score(hgbr, X_train, y_train, cv=5)\n",
    "\n",
    "\n",
    "print('hgbr_result:', hgbr_result)\n",
    "print('hgbr_mean:', hgbr_result.mean())"
   ]
  },
  {
   "cell_type": "code",
   "execution_count": 118,
   "id": "ffbbbd3e",
   "metadata": {},
   "outputs": [],
   "source": [
    "from sklearn.preprocessing import StandardScaler"
   ]
  },
  {
   "cell_type": "code",
   "execution_count": 119,
   "id": "9050caf7",
   "metadata": {},
   "outputs": [],
   "source": [
    "# 스케일러 생성\n",
    "scaler = StandardScaler()\n",
    "\n",
    "# 현재 데이터의 분포 범위 확인\n",
    "scaler.fit(X_train)\n",
    "\n",
    "# 데이터 변환\n",
    "tf_X_train = scaler.transform(X_train)\n",
    "tf_test = scaler.transform(test)"
   ]
  },
  {
   "cell_type": "code",
   "execution_count": 120,
   "id": "59844427",
   "metadata": {},
   "outputs": [
    {
     "name": "stdout",
     "output_type": "stream",
     "text": [
      "hgbr_result: [0.82852278 0.84875062 0.85933797 0.85384863 0.84244222]\n",
      "hgbr_mean: 0.8465804439049618\n"
     ]
    }
   ],
   "source": [
    "hgbr_result = cross_val_score(hgbr, tf_X_train, y_train, cv=5)\n",
    "\n",
    "print('hgbr_result:', hgbr_result)\n",
    "print('hgbr_mean:', hgbr_result.mean())"
   ]
  },
  {
   "cell_type": "code",
   "execution_count": 121,
   "id": "88f81732",
   "metadata": {},
   "outputs": [],
   "source": [
    "# 예측\n",
    "hgbr.fit(X_train, y_train)\n",
    "hgbr_pre = hgbr.predict(test)\n",
    "\n",
    "# 답안지 파일 불러오기\n",
    "result = pd.read_csv('data/sample_submission.csv')\n",
    "\n",
    "# 예측값 초기화\n",
    "result['PRICE'] = hgbr_pre\n",
    "\n",
    "# df -> csv 저장\n",
    "result.to_csv('try03_hgbr.csv', index=False)"
   ]
  },
  {
   "cell_type": "code",
   "execution_count": 122,
   "id": "e934b2ad",
   "metadata": {},
   "outputs": [],
   "source": [
    "hgbr2 = HistGradientBoostingRegressor()\n",
    "\n",
    "\n",
    "# 예측\n",
    "hgbr2.fit(tf_X_train, y_train)\n",
    "hgbr2_pre = hgbr2.predict(tf_test)\n",
    "\n",
    "# 답안지 파일 불러오기\n",
    "result = pd.read_csv('data/sample_submission.csv')\n",
    "\n",
    "# 예측값 초기화\n",
    "result['PRICE'] = hgbr2_pre\n",
    "\n",
    "# df -> csv 저장\n",
    "result.to_csv('try03_hgbr2.csv', index=False)"
   ]
  },
  {
   "cell_type": "code",
   "execution_count": null,
   "id": "a01b7510",
   "metadata": {},
   "outputs": [],
   "source": [
    " "
   ]
  }
 ],
 "metadata": {
  "kernelspec": {
   "display_name": "Python 3 (ipykernel)",
   "language": "python",
   "name": "python3"
  },
  "language_info": {
   "codemirror_mode": {
    "name": "ipython",
    "version": 3
   },
   "file_extension": ".py",
   "mimetype": "text/x-python",
   "name": "python",
   "nbconvert_exporter": "python",
   "pygments_lexer": "ipython3",
   "version": "3.9.12"
  }
 },
 "nbformat": 4,
 "nbformat_minor": 5
}
